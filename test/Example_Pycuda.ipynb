{
 "cells": [
  {
   "cell_type": "code",
   "execution_count": 1,
   "id": "f2a3e12c",
   "metadata": {},
   "outputs": [
    {
     "name": "stderr",
     "output_type": "stream",
     "text": [
      "/home/elvis/.local/lib/python3.10/site-packages/skcuda/cublas.py:284: UserWarning: creating CUBLAS context to get version number\n",
      "  warnings.warn('creating CUBLAS context to get version number')\n"
     ]
    }
   ],
   "source": [
    "import numpy as np\n",
    "import pycuda.autoinit\n",
    "import pycuda.gpuarray as gpuarray\n",
    "import skcuda.fft as cu_fft"
   ]
  },
  {
   "cell_type": "code",
   "execution_count": 2,
   "id": "ed3bcb65",
   "metadata": {},
   "outputs": [],
   "source": [
    "def fft2_gpu(x, fftshift=False):\n",
    "    \n",
    "    ''' This function produce an output that is \n",
    "    compatible with numpy.fft.fft2\n",
    "    The input x is a 2D numpy array'''\n",
    "\n",
    "    # Convert the input array to single precision float\n",
    "    if x.dtype != 'float32':\n",
    "        x = x.astype('float32')\n",
    "\n",
    "    # Get the shape of the initial numpy array\n",
    "    n1, n2 = x.shape\n",
    "    \n",
    "    # From numpy array to GPUarray\n",
    "    xgpu = gpuarray.to_gpu(x)\n",
    "    \n",
    "    # Initialise output GPUarray \n",
    "    # For real to complex transformations, the fft function computes \n",
    "    # N/2+1 non-redundant coefficients of a length-N input signal.\n",
    "    y = gpuarray.empty((n1,n2//2 + 1), np.complex64)\n",
    "    \n",
    "    # Forward FFT\n",
    "    plan_forward = cu_fft.Plan((n1, n2), np.float32, np.complex64)\n",
    "    cu_fft.fft(xgpu, y, plan_forward)\n",
    "    \n",
    "    left = y.get()\n",
    "\n",
    "    # To make the output array compatible with the numpy output\n",
    "    # we need to stack horizontally the y.get() array and its flipped version\n",
    "    # We must take care of handling even or odd sized array to get the correct \n",
    "    # size of the final array   \n",
    "    if n2//2 == n2/2:\n",
    "        right = np.roll(np.fliplr(np.flipud(y.get()))[:,1:-1],1,axis=0)\n",
    "    else:\n",
    "        right = np.roll(np.fliplr(np.flipud(y.get()))[:,:-1],1,axis=0) \n",
    "    \n",
    "    # Get a numpy array back compatible with np.fft\n",
    "    if fftshift is False:\n",
    "        yout = np.hstack((left,right))\n",
    "    else:\n",
    "        yout = np.fft.fftshift(np.hstack((left,right)))\n",
    "\n",
    "    return yout.astype('complex128')  "
   ]
  },
  {
   "cell_type": "code",
   "execution_count": 3,
   "id": "7920b5d4",
   "metadata": {},
   "outputs": [],
   "source": [
    "def ifft2_gpu(y, fftshift=False):\n",
    "\n",
    "    ''' This function produce an output that is \n",
    "    compatible with numpy.fft.ifft2\n",
    "    The input y is a 2D complex numpy array'''\n",
    " \n",
    "    # Get the shape of the initial numpy array\n",
    "    n1, n2 = y.shape\n",
    "    \n",
    "    # From numpy array to GPUarray. Take only the first n2/2+1 non redundant FFT coefficients\n",
    "    if fftshift is False:\n",
    "        y2 = np.asarray(y[:,0:n2//2 + 1], np.complex64)\n",
    "    else:\n",
    "        y2 = np.asarray(np.fft.ifftshift(y)[:,:n2//2+1], np.complex64)\n",
    "    ygpu = gpuarray.to_gpu(y2) \n",
    "     \n",
    "    # Initialise empty output GPUarray \n",
    "    x = gpuarray.empty((n1,n2), np.float32)\n",
    "    \n",
    "    # Inverse FFT\n",
    "    plan_backward = cu_fft.Plan((n1, n2), np.complex64, np.float32)\n",
    "    cu_fft.ifft(ygpu, x, plan_backward)\n",
    "    \n",
    "    # Must divide by the total number of pixels in the image to get the normalisation right\n",
    "    xout = x.get()/n1/n2\n",
    "    \n",
    "    return xout"
   ]
  },
  {
   "cell_type": "code",
   "execution_count": 4,
   "id": "04d65877",
   "metadata": {},
   "outputs": [],
   "source": [
    "# Set up input array\n",
    "N = 1024\n",
    "x = np.random.rand(N,N).astype(np.float32)"
   ]
  },
  {
   "cell_type": "code",
   "execution_count": 5,
   "id": "42ba90f4",
   "metadata": {},
   "outputs": [
    {
     "data": {
      "text/plain": [
       "False"
      ]
     },
     "execution_count": 5,
     "metadata": {},
     "output_type": "execute_result"
    }
   ],
   "source": [
    "np.allclose(fft2_gpu(x),np.fft.fft2(np.fft.fftshift(x)))"
   ]
  },
  {
   "cell_type": "code",
   "execution_count": 6,
   "id": "988ec4a4",
   "metadata": {},
   "outputs": [
    {
     "name": "stdout",
     "output_type": "stream",
     "text": [
      "7.09 ms ± 90.9 µs per loop (mean ± std. dev. of 7 runs, 100 loops each)\n"
     ]
    }
   ],
   "source": [
    "%timeit -n 100 fft2_gpu(x)"
   ]
  },
  {
   "cell_type": "code",
   "execution_count": 7,
   "id": "473e4ef8",
   "metadata": {},
   "outputs": [
    {
     "name": "stdout",
     "output_type": "stream",
     "text": [
      "22.1 ms ± 488 µs per loop (mean ± std. dev. of 7 runs, 100 loops each)\n"
     ]
    }
   ],
   "source": [
    "%timeit -n 100 np.fft.fft2(x)"
   ]
  },
  {
   "cell_type": "code",
   "execution_count": 8,
   "id": "b1958683",
   "metadata": {},
   "outputs": [],
   "source": [
    "def fft3_gpu(x, fftshift=False):\n",
    "    \n",
    "    ''' This function produces an output that is \n",
    "    compatible with numpy.fft.fftn\n",
    "    The input x is a 3D numpy array'''\n",
    "\n",
    "    # Convert the input array to single precision float\n",
    "    if x.dtype != 'float32':\n",
    "        x = x.astype('float32')\n",
    "\n",
    "    # Get the shape of the initial numpy array\n",
    "    n1, n2, n3 = x.shape\n",
    "    \n",
    "    # From numpy array to GPUarray\n",
    "    xgpu = gpuarray.to_gpu(x)\n",
    "    \n",
    "    # Initialise output GPUarray\n",
    "    # For real to complex transformations, the fft function computes \n",
    "    # (N/2+1) non-redundant coefficients of a length-N input signal.\n",
    "    y = gpuarray.empty((n1, n2, n3//2 + 1), np.complex64)\n",
    "    \n",
    "    # Forward FFT\n",
    "    plan_forward = cu_fft.Plan((n1, n2, n3), np.float32, np.complex64)\n",
    "    cu_fft.fft(xgpu, y, plan_forward)\n",
    "    \n",
    "    left = y.get()\n",
    "\n",
    "    # To make the output array compatible with the numpy output\n",
    "    # we need to stack horizontally the y.get() array and its flipped version\n",
    "    # We must take care of handling even or odd sized array to get the correct \n",
    "    # size of the final array   \n",
    "    if n3//2 == n3/2:\n",
    "        right = np.roll(np.fliplr(np.flipud(left))[:,:,1:-1],1,axis=1)\n",
    "    else:\n",
    "        right = np.roll(np.fliplr(np.flipud(left))[:,:,:-1],1,axis=1) \n",
    "    \n",
    "    # Get a numpy array back compatible with np.fft\n",
    "    if fftshift is False:\n",
    "        yout = np.concatenate((left,right), axis=2)\n",
    "    else:\n",
    "        yout = np.fft.fftshift(np.concatenate((left,right), axis=2))\n",
    "\n",
    "    return yout.astype('complex128')  "
   ]
  },
  {
   "cell_type": "code",
   "execution_count": 9,
   "id": "11220f13",
   "metadata": {},
   "outputs": [],
   "source": [
    "def ifft3_gpu(y, fftshift=False):\n",
    "\n",
    "    ''' This function produces an output that is \n",
    "    compatible with numpy.fft.ifftn\n",
    "    The input y is a 3D complex numpy array'''\n",
    " \n",
    "    # Get the shape of the initial numpy array\n",
    "    n1, n2, n3 = y.shape\n",
    "    \n",
    "    # From numpy array to GPUarray. Take only the first n3/2+1 non redundant FFT coefficients\n",
    "    if fftshift is False:\n",
    "        y2 = np.asarray(y[:,:,0:n3//2 + 1], np.complex64)\n",
    "    else:\n",
    "        y2 = np.asarray(np.fft.ifftshift(y)[:,:n3//2+1], np.complex64)\n",
    "    ygpu = gpuarray.to_gpu(y2) \n",
    "     \n",
    "    # Initialise empty output GPUarray \n",
    "    x = gpuarray.empty((n1,n2,n3), np.float32)\n",
    "    \n",
    "    # Inverse FFT\n",
    "    plan_backward = cu_fft.Plan((n1, n2, n3), np.complex64, np.float32)\n",
    "    cu_fft.ifft(ygpu, x, plan_backward)\n",
    "    \n",
    "    # Must divide by the total number of pixels in the image to get the normalisation right\n",
    "    xout = x.get()/n1/n2/n3\n",
    "    \n",
    "    return xout\n"
   ]
  },
  {
   "cell_type": "code",
   "execution_count": 16,
   "id": "c0e6d726",
   "metadata": {},
   "outputs": [],
   "source": [
    "import numpy as np\n",
    "import skcuda.fft as cu_fft\n",
    "import pycuda.autoinit\n",
    "\n",
    "# Set up input array\n",
    "N = 256\n",
    "x = np.random.rand(N,N,N).astype(np.float32)"
   ]
  },
  {
   "cell_type": "code",
   "execution_count": 17,
   "id": "85aa19f3",
   "metadata": {},
   "outputs": [],
   "source": [
    "y = fft3_gpu(x)"
   ]
  },
  {
   "cell_type": "code",
   "execution_count": 18,
   "id": "5a618ba4",
   "metadata": {},
   "outputs": [],
   "source": [
    "xout = ifft3_gpu(y)"
   ]
  },
  {
   "cell_type": "code",
   "execution_count": 19,
   "id": "5731583b",
   "metadata": {},
   "outputs": [
    {
     "data": {
      "text/plain": [
       "array([[[ True,  True,  True, ...,  True,  True,  True],\n",
       "        [ True,  True,  True, ...,  True,  True,  True],\n",
       "        [ True,  True,  True, ...,  True,  True,  True],\n",
       "        ...,\n",
       "        [ True,  True,  True, ...,  True,  True,  True],\n",
       "        [ True,  True,  True, ...,  True,  True,  True],\n",
       "        [ True,  True,  True, ...,  True,  True,  True]],\n",
       "\n",
       "       [[ True,  True,  True, ...,  True,  True,  True],\n",
       "        [ True,  True,  True, ...,  True,  True,  True],\n",
       "        [ True,  True,  True, ...,  True,  True,  True],\n",
       "        ...,\n",
       "        [ True,  True,  True, ...,  True,  True,  True],\n",
       "        [ True,  True,  True, ...,  True,  True,  True],\n",
       "        [ True,  True,  True, ...,  True,  True,  True]],\n",
       "\n",
       "       [[ True,  True,  True, ...,  True,  True,  True],\n",
       "        [ True,  True,  True, ...,  True,  True,  True],\n",
       "        [ True,  True,  True, ...,  True,  True,  True],\n",
       "        ...,\n",
       "        [ True,  True,  True, ...,  True,  True,  True],\n",
       "        [ True,  True,  True, ...,  True,  True,  True],\n",
       "        [ True,  True,  True, ...,  True,  True,  True]],\n",
       "\n",
       "       ...,\n",
       "\n",
       "       [[ True,  True,  True, ...,  True,  True,  True],\n",
       "        [ True,  True,  True, ...,  True,  True,  True],\n",
       "        [ True,  True,  True, ...,  True,  True,  True],\n",
       "        ...,\n",
       "        [ True,  True,  True, ...,  True,  True,  True],\n",
       "        [ True,  True,  True, ...,  True,  True,  True],\n",
       "        [ True,  True,  True, ...,  True,  True,  True]],\n",
       "\n",
       "       [[ True,  True,  True, ...,  True,  True,  True],\n",
       "        [ True,  True,  True, ...,  True,  True,  True],\n",
       "        [ True,  True,  True, ...,  True,  True,  True],\n",
       "        ...,\n",
       "        [ True,  True,  True, ...,  True,  True,  True],\n",
       "        [ True,  True,  True, ...,  True,  True,  True],\n",
       "        [ True,  True,  True, ...,  True,  True,  True]],\n",
       "\n",
       "       [[ True,  True,  True, ...,  True,  True,  True],\n",
       "        [ True,  True,  True, ...,  True,  True,  True],\n",
       "        [ True,  True,  True, ...,  True,  True,  True],\n",
       "        ...,\n",
       "        [ True,  True, False, ..., False,  True,  True],\n",
       "        [ True,  True,  True, ...,  True,  True,  True],\n",
       "        [ True,  True,  True, ...,  True,  True,  True]]])"
      ]
     },
     "execution_count": 19,
     "metadata": {},
     "output_type": "execute_result"
    }
   ],
   "source": [
    "np.isclose(xout,x)"
   ]
  },
  {
   "cell_type": "code",
   "execution_count": 20,
   "id": "3eb703cf",
   "metadata": {},
   "outputs": [
    {
     "name": "stdout",
     "output_type": "stream",
     "text": [
      "110 ms ± 2.83 ms per loop (mean ± std. dev. of 7 runs, 100 loops each)\n"
     ]
    }
   ],
   "source": [
    "%timeit -n 100 fft3_gpu(x)"
   ]
  },
  {
   "cell_type": "code",
   "execution_count": 21,
   "id": "6c7098f9",
   "metadata": {},
   "outputs": [
    {
     "name": "stdout",
     "output_type": "stream",
     "text": [
      "756 ms ± 4.44 ms per loop (mean ± std. dev. of 7 runs, 100 loops each)\n"
     ]
    }
   ],
   "source": [
    "%timeit -n 100 np.fft.fftn(x)"
   ]
  },
  {
   "cell_type": "code",
   "execution_count": 22,
   "id": "92f9ad97",
   "metadata": {},
   "outputs": [],
   "source": [
    "import torch"
   ]
  },
  {
   "cell_type": "code",
   "execution_count": 26,
   "id": "a64507e4",
   "metadata": {},
   "outputs": [],
   "source": [
    "def torch_fft3(data):\n",
    "    return torch.fft(data, signal_ndim=3)"
   ]
  },
  {
   "cell_type": "code",
   "execution_count": 28,
   "id": "22bb67e0",
   "metadata": {},
   "outputs": [
    {
     "ename": "TypeError",
     "evalue": "fft_fftn(): argument 'input' (position 1) must be Tensor, not numpy.ndarray",
     "output_type": "error",
     "traceback": [
      "\u001b[0;31m---------------------------------------------------------------------------\u001b[0m",
      "\u001b[0;31mTypeError\u001b[0m                                 Traceback (most recent call last)",
      "Cell \u001b[0;32mIn[28], line 1\u001b[0m\n\u001b[0;32m----> 1\u001b[0m \u001b[43mtorch\u001b[49m\u001b[38;5;241;43m.\u001b[39;49m\u001b[43mfft\u001b[49m\u001b[38;5;241;43m.\u001b[39;49m\u001b[43mfftn\u001b[49m\u001b[43m(\u001b[49m\u001b[43mx\u001b[49m\u001b[43m)\u001b[49m\n",
      "\u001b[0;31mTypeError\u001b[0m: fft_fftn(): argument 'input' (position 1) must be Tensor, not numpy.ndarray"
     ]
    }
   ],
   "source": [
    "torch.fft.fftn(x)"
   ]
  },
  {
   "cell_type": "code",
   "execution_count": null,
   "id": "cd23804e",
   "metadata": {},
   "outputs": [],
   "source": []
  }
 ],
 "metadata": {
  "kernelspec": {
   "display_name": "Python 3 (ipykernel)",
   "language": "python",
   "name": "python3"
  },
  "language_info": {
   "codemirror_mode": {
    "name": "ipython",
    "version": 3
   },
   "file_extension": ".py",
   "mimetype": "text/x-python",
   "name": "python",
   "nbconvert_exporter": "python",
   "pygments_lexer": "ipython3",
   "version": "3.10.6"
  }
 },
 "nbformat": 4,
 "nbformat_minor": 5
}
