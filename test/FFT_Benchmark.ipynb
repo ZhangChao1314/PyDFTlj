{
 "cells": [
  {
   "cell_type": "code",
   "execution_count": 1,
   "id": "35b827d6",
   "metadata": {},
   "outputs": [],
   "source": [
    "import numpy as np"
   ]
  },
  {
   "cell_type": "code",
   "execution_count": 2,
   "id": "7fcd33b3",
   "metadata": {},
   "outputs": [],
   "source": [
    "exps = range(10,27,2)"
   ]
  },
  {
   "cell_type": "code",
   "execution_count": 3,
   "id": "4e383d38",
   "metadata": {},
   "outputs": [],
   "source": [
    "import pyfftw\n",
    "from pyfftw.interfaces.scipy_fftpack import fftn, ifftn\n",
    "# import multiprocessing\n",
    "# pyfftw.config.NUM_THREADS = multiprocessing.cpu_count()\n",
    "pyfftw.config.NUM_THREADS = 4\n",
    "# pyfftw.config.PLANNER_EFFORT = 'FFTW_ESTIMATE'\n",
    "pyfftw.interfaces.cache.enable()\n",
    "pyfftw.interfaces.cache.set_keepalive_time(30)"
   ]
  },
  {
   "cell_type": "code",
   "execution_count": 4,
   "id": "c9be6e7b",
   "metadata": {},
   "outputs": [
    {
     "name": "stdout",
     "output_type": "stream",
     "text": [
      "23.9 µs ± 1.97 µs per loop (mean ± std. dev. of 7 runs, 10,000 loops each)\n",
      "38.2 µs ± 1.52 µs per loop (mean ± std. dev. of 7 runs, 10,000 loops each)\n",
      "117 µs ± 14.5 µs per loop (mean ± std. dev. of 7 runs, 10,000 loops each)\n",
      "536 µs ± 223 µs per loop (mean ± std. dev. of 7 runs, 1,000 loops each)\n",
      "2.59 ms ± 345 µs per loop (mean ± std. dev. of 7 runs, 100 loops each)\n",
      "27.4 ms ± 1.07 ms per loop (mean ± std. dev. of 7 runs, 10 loops each)\n",
      "170 ms ± 7.27 ms per loop (mean ± std. dev. of 7 runs, 1 loop each)\n",
      "750 ms ± 18.7 ms per loop (mean ± std. dev. of 7 runs, 1 loop each)\n",
      "3.14 s ± 56.8 ms per loop (mean ± std. dev. of 7 runs, 1 loop each)\n"
     ]
    }
   ],
   "source": [
    "for i in exps:\n",
    "    n=2**i\n",
    "    x = pyfftw.empty_aligned(n, dtype='complex128')\n",
    "    x[:] = np.random.normal(0,1,size=n) + 1j * np.random.normal(0,1,size=n)\n",
    "    res = %timeit -o pyfftw.interfaces.scipy_fftpack.fft(x,threads=2)"
   ]
  },
  {
   "cell_type": "code",
   "execution_count": 5,
   "id": "e42c97b4",
   "metadata": {},
   "outputs": [
    {
     "name": "stdout",
     "output_type": "stream",
     "text": [
      "34.7 µs ± 4.4 µs per loop (mean ± std. dev. of 7 runs, 10,000 loops each)\n",
      "51.7 µs ± 5.59 µs per loop (mean ± std. dev. of 7 runs, 10,000 loops each)\n",
      "135 µs ± 12.1 µs per loop (mean ± std. dev. of 7 runs, 10,000 loops each)\n",
      "594 µs ± 55.2 µs per loop (mean ± std. dev. of 7 runs, 1,000 loops each)\n",
      "3.82 ms ± 340 µs per loop (mean ± std. dev. of 7 runs, 100 loops each)\n",
      "24.9 ms ± 793 µs per loop (mean ± std. dev. of 7 runs, 10 loops each)\n",
      "168 ms ± 2.06 ms per loop (mean ± std. dev. of 7 runs, 1 loop each)\n",
      "751 ms ± 4.12 ms per loop (mean ± std. dev. of 7 runs, 1 loop each)\n",
      "3.17 s ± 27.9 ms per loop (mean ± std. dev. of 7 runs, 1 loop each)\n"
     ]
    }
   ],
   "source": [
    "for i in exps:\n",
    "    n=2**i\n",
    "    x = pyfftw.empty_aligned(n, dtype='complex128')\n",
    "    x[:] = np.random.normal(0,1,size=n) + 1j * np.random.normal(0,1,size=n)\n",
    "    res = %timeit -o pyfftw.interfaces.numpy_fft.fft(x,threads=2)\n",
    "#     times_wi.append([n,np.mean(res.all_runs)/res.loops,np.min(res.all_runs)/res.loops,np.max(res.all_runs)/res.l"
   ]
  },
  {
   "cell_type": "code",
   "execution_count": 6,
   "id": "5ce03063",
   "metadata": {},
   "outputs": [
    {
     "name": "stdout",
     "output_type": "stream",
     "text": [
      "7.68 µs ± 255 ns per loop (mean ± std. dev. of 7 runs, 100,000 loops each)\n",
      "26.1 µs ± 1.92 µs per loop (mean ± std. dev. of 7 runs, 10,000 loops each)\n",
      "101 µs ± 15.6 µs per loop (mean ± std. dev. of 7 runs, 10,000 loops each)\n",
      "468 µs ± 76.8 µs per loop (mean ± std. dev. of 7 runs, 1,000 loops each)\n",
      "1.93 ms ± 80.4 µs per loop (mean ± std. dev. of 7 runs, 1,000 loops each)\n",
      "15.7 ms ± 1.69 ms per loop (mean ± std. dev. of 7 runs, 100 loops each)\n",
      "68.1 ms ± 8.15 ms per loop (mean ± std. dev. of 7 runs, 10 loops each)\n",
      "232 ms ± 23.5 ms per loop (mean ± std. dev. of 7 runs, 1 loop each)\n",
      "929 ms ± 5.16 ms per loop (mean ± std. dev. of 7 runs, 1 loop each)\n"
     ]
    }
   ],
   "source": [
    "for i in exps:\n",
    "    n=2**i\n",
    "    x = pyfftw.empty_aligned(n, dtype='complex128')\n",
    "    plan = pyfftw.FFTW(x, x, threads=2)\n",
    "    x[:] = np.random.normal(0,1,size=n) + 1j * np.random.normal(0,1,size=n)\n",
    "    res = %timeit -o fft = plan()"
   ]
  },
  {
   "cell_type": "code",
   "execution_count": 7,
   "id": "418af0ac",
   "metadata": {},
   "outputs": [
    {
     "data": {
      "text/plain": [
       "6.73963133640553"
      ]
     },
     "execution_count": 7,
     "metadata": {},
     "output_type": "execute_result"
    }
   ],
   "source": [
    "5850/868\n"
   ]
  },
  {
   "cell_type": "code",
   "execution_count": 8,
   "id": "095a3f7b",
   "metadata": {},
   "outputs": [
    {
     "name": "stdout",
     "output_type": "stream",
     "text": [
      "9.29 µs ± 829 ns per loop (mean ± std. dev. of 7 runs, 100,000 loops each)\n",
      "30.1 µs ± 5.81 µs per loop (mean ± std. dev. of 7 runs, 10,000 loops each)\n",
      "114 µs ± 7.48 µs per loop (mean ± std. dev. of 7 runs, 10,000 loops each)\n",
      "473 µs ± 16.1 µs per loop (mean ± std. dev. of 7 runs, 1,000 loops each)\n",
      "2.49 ms ± 117 µs per loop (mean ± std. dev. of 7 runs, 100 loops each)\n",
      "21.1 ms ± 839 µs per loop (mean ± std. dev. of 7 runs, 100 loops each)\n",
      "101 ms ± 2.92 ms per loop (mean ± std. dev. of 7 runs, 10 loops each)\n",
      "691 ms ± 5.93 ms per loop (mean ± std. dev. of 7 runs, 1 loop each)\n",
      "2.22 s ± 47.3 ms per loop (mean ± std. dev. of 7 runs, 1 loop each)\n"
     ]
    }
   ],
   "source": [
    "for i in exps:\n",
    "    n=2**i\n",
    "    x = pyfftw.empty_aligned(n, dtype='complex128')\n",
    "    plan = pyfftw.builders.fft(x, threads=2)\n",
    "    x[:] = np.random.normal(0,1,size=n) + 1j * np.random.normal(0,1,size=n)\n",
    "    res = %timeit -o fft = plan()"
   ]
  },
  {
   "cell_type": "code",
   "execution_count": null,
   "id": "476477f1",
   "metadata": {},
   "outputs": [],
   "source": []
  }
 ],
 "metadata": {
  "kernelspec": {
   "display_name": "Python 3 (ipykernel)",
   "language": "python",
   "name": "python3"
  },
  "language_info": {
   "codemirror_mode": {
    "name": "ipython",
    "version": 3
   },
   "file_extension": ".py",
   "mimetype": "text/x-python",
   "name": "python",
   "nbconvert_exporter": "python",
   "pygments_lexer": "ipython3",
   "version": "3.10.6"
  }
 },
 "nbformat": 4,
 "nbformat_minor": 5
}
