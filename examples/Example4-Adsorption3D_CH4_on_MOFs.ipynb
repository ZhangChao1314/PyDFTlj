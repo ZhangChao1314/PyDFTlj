{
 "cells": [
  {
   "cell_type": "code",
   "execution_count": 1,
   "id": "65da0a6d",
   "metadata": {},
   "outputs": [],
   "source": [
    "import numpy as np\n",
    "from scipy import optimize\n",
    "from numba import vectorize, float32, float64\n",
    "import torch\n",
    "import pandas as pd\n",
    "import matplotlib.pyplot as plt\n",
    "plt.style.use(['science','notebook'])\n",
    "\n",
    "from pydftlj.dft3d import dft3d\n",
    "from pydftlj.eos import LJEOS \n",
    "\n",
    "from pymatgen.core import Structure\n",
    "from pymatgen.analysis import structure_matcher\n",
    "\n",
    "# Author: Elvis do A. Soares\n",
    "# Github: @elvissoares\n",
    "# Date: 2023-05-29"
   ]
  },
  {
   "cell_type": "code",
   "execution_count": 2,
   "id": "25010111",
   "metadata": {},
   "outputs": [],
   "source": [
    "kB = 1.380649e-23 # J/K\n",
    "Rconst = 0.082057366080960 # Gas constant\n",
    "NA = 6.022e23 # Avogadro number"
   ]
  },
  {
   "attachments": {},
   "cell_type": "markdown",
   "id": "6e1adc4b",
   "metadata": {},
   "source": [
    "## Solid CIF file Information"
   ]
  },
  {
   "cell_type": "code",
   "execution_count": 3,
   "id": "f01916f3",
   "metadata": {},
   "outputs": [
    {
     "name": "stdout",
     "output_type": "stream",
     "text": [
      "formula:   Zn864 H2592 C5184 O2808\n",
      "num_sites: 11448\n"
     ]
    }
   ],
   "source": [
    "structure_name = 'MOF-5'\n",
    "structure = Structure.from_file('structures/'+structure_name+'.cif')\n",
    "Ncell = 3\n",
    "structure.make_supercell(Ncell)\n",
    "print('formula:  ', structure.formula)\n",
    "print('num_sites:', structure.num_sites)"
   ]
  },
  {
   "cell_type": "code",
   "execution_count": 4,
   "id": "c21e32a4",
   "metadata": {},
   "outputs": [
    {
     "name": "stdout",
     "output_type": "stream",
     "text": [
      "Cell dimensions:  [25.86584 25.86584 25.86584]\n",
      "Cell volume:  17305.325019903627\n"
     ]
    }
   ],
   "source": [
    "coordinates = structure.cart_coords.T\n",
    "L = np.array([l/Ncell for l in structure.lattice.lengths])\n",
    "print('Cell dimensions: ', L)\n",
    "Vcell = L[0]*L[1]*L[2]\n",
    "print('Cell volume: ', Vcell)"
   ]
  },
  {
   "attachments": {},
   "cell_type": "markdown",
   "id": "518c7c17",
   "metadata": {},
   "source": [
    "# Force Field for solid-fluid interaction"
   ]
  },
  {
   "cell_type": "code",
   "execution_count": 5,
   "id": "b8cb42ee",
   "metadata": {},
   "outputs": [
    {
     "data": {
      "text/html": [
       "<div>\n",
       "<style scoped>\n",
       "    .dataframe tbody tr th:only-of-type {\n",
       "        vertical-align: middle;\n",
       "    }\n",
       "\n",
       "    .dataframe tbody tr th {\n",
       "        vertical-align: top;\n",
       "    }\n",
       "\n",
       "    .dataframe thead th {\n",
       "        text-align: right;\n",
       "    }\n",
       "</style>\n",
       "<table border=\"1\" class=\"dataframe\">\n",
       "  <thead>\n",
       "    <tr style=\"text-align: right;\">\n",
       "      <th></th>\n",
       "      <th>atom</th>\n",
       "      <th>sigma/AA</th>\n",
       "      <th>epsilon/kB</th>\n",
       "      <th>mass/u</th>\n",
       "    </tr>\n",
       "  </thead>\n",
       "  <tbody>\n",
       "    <tr>\n",
       "      <th>0</th>\n",
       "      <td>H</td>\n",
       "      <td>2.84642</td>\n",
       "      <td>7.64893</td>\n",
       "      <td>1.00784</td>\n",
       "    </tr>\n",
       "    <tr>\n",
       "      <th>1</th>\n",
       "      <td>C</td>\n",
       "      <td>3.47299</td>\n",
       "      <td>47.85620</td>\n",
       "      <td>12.01070</td>\n",
       "    </tr>\n",
       "    <tr>\n",
       "      <th>2</th>\n",
       "      <td>N</td>\n",
       "      <td>3.26256</td>\n",
       "      <td>38.94920</td>\n",
       "      <td>14.00670</td>\n",
       "    </tr>\n",
       "    <tr>\n",
       "      <th>3</th>\n",
       "      <td>O</td>\n",
       "      <td>3.03315</td>\n",
       "      <td>48.15810</td>\n",
       "      <td>15.99900</td>\n",
       "    </tr>\n",
       "    <tr>\n",
       "      <th>4</th>\n",
       "      <td>Cu</td>\n",
       "      <td>3.11369</td>\n",
       "      <td>2.51610</td>\n",
       "      <td>63.54600</td>\n",
       "    </tr>\n",
       "    <tr>\n",
       "      <th>5</th>\n",
       "      <td>Zn</td>\n",
       "      <td>4.04468</td>\n",
       "      <td>27.67710</td>\n",
       "      <td>65.38000</td>\n",
       "    </tr>\n",
       "  </tbody>\n",
       "</table>\n",
       "</div>"
      ],
      "text/plain": [
       "  atom  sigma/AA  epsilon/kB    mass/u\n",
       "0    H   2.84642     7.64893   1.00784\n",
       "1    C   3.47299    47.85620  12.01070\n",
       "2    N   3.26256    38.94920  14.00670\n",
       "3    O   3.03315    48.15810  15.99900\n",
       "4   Cu   3.11369     2.51610  63.54600\n",
       "5   Zn   4.04468    27.67710  65.38000"
      ]
     },
     "execution_count": 5,
     "metadata": {},
     "output_type": "execute_result"
    }
   ],
   "source": [
    "forcefield_name = 'DREIDING'\n",
    "forcefield = pd.read_csv('parameters/'+forcefield_name+'-forcefield.dat',delim_whitespace=True)\n",
    "forcefield"
   ]
  },
  {
   "attachments": {},
   "cell_type": "markdown",
   "id": "b487c80b",
   "metadata": {},
   "source": [
    "# Fluid Information"
   ]
  },
  {
   "cell_type": "code",
   "execution_count": 6,
   "id": "8f3b3fc9",
   "metadata": {},
   "outputs": [],
   "source": [
    "# PCSAFT: Gross, J., & Sadowski, G. (2001). Industrial & Engineering Chemistry Research, 40(4), 1244–1260.\n",
    "# TraPPE: M.G. Martin, and J.I. Siepmann, J. Phys. Chem. B 102, 2569-2577 (1998).\n",
    "# SoftSAFT: Blas, F. J., & Vega, L. F. (1998). Industrial and Engineering Chemistry Research, 5885(1996), 660–674.\n",
    "fluid_molecule = 'CH4'\n",
    "epsilon = {'TraPPE': 148.0, 'PCSAFT': 150.03, 'SoftSAFT': 147.302}\n",
    "sigma = {'TraPPE': 3.73, 'PCSAFT': 3.704, 'SoftSAFT': 3.722}\n",
    "\n",
    "fluid_forcefield = 'TraPPE'\n",
    "epsilonff = epsilon[fluid_forcefield] # kelvin\n",
    "sigmaff = sigma[fluid_forcefield] # angstrom\n",
    "mff = 16.043"
   ]
  },
  {
   "cell_type": "code",
   "execution_count": 7,
   "id": "f42150d0",
   "metadata": {},
   "outputs": [],
   "source": [
    "#Helium parameters for pycnometer\n",
    "epsilonHe = 10.22 # kelvin\n",
    "sigmaHe = 2.58  # angstrom"
   ]
  },
  {
   "attachments": {},
   "cell_type": "markdown",
   "id": "0d547eee",
   "metadata": {},
   "source": [
    "# Create the DFT object"
   ]
  },
  {
   "cell_type": "code",
   "execution_count": 38,
   "id": "43e183f7",
   "metadata": {},
   "outputs": [],
   "source": [
    "Ngrid = 64\n",
    "DFT = dft3d(gridsize=np.array([Ngrid,Ngrid,Ngrid]),ljmethod='MMFA',padding=False)\n",
    "DFT.Set_Geometry(L)"
   ]
  },
  {
   "cell_type": "code",
   "execution_count": 39,
   "id": "23d08f54",
   "metadata": {},
   "outputs": [
    {
     "name": "stdout",
     "output_type": "stream",
     "text": [
      "============== The DFT 3D for LJ fluids ==============\n",
      "Methods:\n",
      "HS method =  WBI\n",
      "LJ method =  MMFA\n",
      "The grid is [64 64 64]\n",
      "--- Geometry properties ---\n",
      "Lx = 25.865840000000002  A\n",
      "Ly = 25.865840000000002  A\n",
      "Lz = 25.865840000000002  A\n",
      "delta =  [0.40415375 0.40415375 0.40415375]  A\n",
      "Vol = 17305.325019903627  A³\n"
     ]
    }
   ],
   "source": [
    "DFT.GetSystemInformation()"
   ]
  },
  {
   "cell_type": "code",
   "execution_count": 40,
   "id": "9a7bc470",
   "metadata": {},
   "outputs": [],
   "source": [
    "DFT.Set_FluidProperties(sigma=sigmaff,epsilon=epsilonff)"
   ]
  },
  {
   "cell_type": "code",
   "execution_count": 41,
   "id": "da202a05",
   "metadata": {},
   "outputs": [
    {
     "name": "stdout",
     "output_type": "stream",
     "text": [
      "--- Fluid properties ---\n",
      "epsilon/kB = 148.0  K\n",
      "sigma = 3.73  A\n"
     ]
    }
   ],
   "source": [
    "DFT.GetFluidInformation()"
   ]
  },
  {
   "attachments": {},
   "cell_type": "markdown",
   "id": "1ed4e8b5",
   "metadata": {},
   "source": [
    "## Generating the External Potential"
   ]
  },
  {
   "cell_type": "code",
   "execution_count": 42,
   "id": "6d1793e0",
   "metadata": {},
   "outputs": [],
   "source": [
    "@vectorize\n",
    "def ljpotential(r,eps,sigma):\n",
    "    return 4*eps*((sigma/r)**(12)-(sigma/r)**(6))"
   ]
  },
  {
   "cell_type": "code",
   "execution_count": 43,
   "id": "9867af79",
   "metadata": {},
   "outputs": [
    {
     "name": "stdout",
     "output_type": "stream",
     "text": [
      "CPU times: user 3min 22s, sys: 88.6 ms, total: 3min 22s\n",
      "Wall time: 3min 22s\n"
     ]
    }
   ],
   "source": [
    "%%time\n",
    "\n",
    "mss = 0.0\n",
    "\n",
    "Vext = np.zeros((Ngrid,Ngrid,Ngrid))\n",
    "Vext_helium = np.zeros((Ngrid,Ngrid,Ngrid))\n",
    "\n",
    "# Lorentz-Berthelot combination rule\n",
    "for i, site in enumerate(structure):\n",
    "    sigmasf = float(0.5*(sigmaff+forcefield[\"sigma/AA\"][forcefield[\"atom\"]==site.species_string]))\n",
    "    epsilonsf = float(np.sqrt(epsilonff*forcefield[\"epsilon/kB\"][forcefield[\"atom\"]==site.species_string]))\n",
    "    mss += float(forcefield[\"mass/u\"][forcefield[\"atom\"]==site.species_string])\n",
    "\n",
    "    R = np.sqrt((DFT.X-structure.cart_coords[i,0]+0.5*Ncell*L[0])**2 + (DFT.Y-structure.cart_coords[i,1]+0.5*Ncell*L[1])**2 + (DFT.Z-structure.cart_coords[i,2]+0.5*Ncell*L[2])**2)\n",
    "    Vext[:] += ljpotential(R,epsilonsf,sigmasf)\n",
    "\n",
    "    sigmasHe = float(0.5*(sigmaHe+forcefield[\"sigma/AA\"][forcefield[\"atom\"]==site.species_string]))\n",
    "    epsilonsHe = float(np.sqrt(epsilonHe*forcefield[\"epsilon/kB\"][forcefield[\"atom\"]==site.species_string]))\n",
    "\n",
    "    Vext_helium[:] += ljpotential(R,epsilonsHe,sigmasHe)\n",
    "\n",
    "mss = mss/(Ncell**3)\n",
    "\n",
    "del R\n",
    "\n",
    "DFT.Set_External_Potential(Vext)"
   ]
  },
  {
   "cell_type": "code",
   "execution_count": 44,
   "id": "29628a37",
   "metadata": {},
   "outputs": [
    {
     "name": "stdout",
     "output_type": "stream",
     "text": [
      "Unit cell mass:  6158.863040000394  u\n"
     ]
    }
   ],
   "source": [
    "print('Unit cell mass: ', mss, ' u')"
   ]
  },
  {
   "cell_type": "code",
   "execution_count": 45,
   "id": "f460f6eb",
   "metadata": {},
   "outputs": [],
   "source": [
    "rhocr = 1e27*mss/(Vcell*NA) #kg/m3 crystal MOF-5 density"
   ]
  },
  {
   "cell_type": "code",
   "execution_count": 46,
   "id": "f2318a72",
   "metadata": {},
   "outputs": [
    {
     "name": "stdout",
     "output_type": "stream",
     "text": [
      "Crystal Density:  590.9898672924245  kg/m3\n"
     ]
    }
   ],
   "source": [
    "print('Crystal Density: ',rhocr,' kg/m3')"
   ]
  },
  {
   "attachments": {},
   "cell_type": "markdown",
   "id": "60cedcff",
   "metadata": {},
   "source": [
    "## Defining the Temperature"
   ]
  },
  {
   "cell_type": "code",
   "execution_count": 47,
   "id": "00689b79",
   "metadata": {},
   "outputs": [],
   "source": [
    "kT = 300.0 # kelvin \n",
    "DFT.Set_Temperature(kT)"
   ]
  },
  {
   "cell_type": "code",
   "execution_count": 48,
   "id": "265a16fc",
   "metadata": {},
   "outputs": [
    {
     "name": "stdout",
     "output_type": "stream",
     "text": [
      "Temperature = 300.0  K\n",
      "Baker-Henderson diameter = 3.567  A\n"
     ]
    }
   ],
   "source": [
    "DFT.GetFluidTemperatureInformation()"
   ]
  },
  {
   "cell_type": "code",
   "execution_count": 49,
   "id": "ac50a315",
   "metadata": {},
   "outputs": [
    {
     "name": "stdout",
     "output_type": "stream",
     "text": [
      "Calculated pore volume for He atom is 13963.269349016711 A³\n",
      "Calculated pore volume for the fluid is 118375.94537599378 A³\n"
     ]
    }
   ],
   "source": [
    "Vpore_calc = np.exp(-Vext_helium/298.15).sum()*DFT.dV\n",
    "Vpore_fluid = np.exp(-DFT.beta*Vext).sum()*DFT.dV\n",
    "\n",
    "print(f'Calculated pore volume for He atom is {Vpore_calc} A³')\n",
    "print(f'Calculated pore volume for the fluid is {Vpore_fluid} A³')"
   ]
  },
  {
   "cell_type": "code",
   "execution_count": 50,
   "id": "ce56f8e8",
   "metadata": {},
   "outputs": [
    {
     "name": "stdout",
     "output_type": "stream",
     "text": [
      "Calculated He void fraction is 0.807\n"
     ]
    }
   ],
   "source": [
    "helium_fraction = Vpore_calc/Vcell\n",
    "\n",
    "print(f'Calculated He void fraction is {helium_fraction:1.3f}')"
   ]
  },
  {
   "cell_type": "code",
   "execution_count": 51,
   "id": "378dc636",
   "metadata": {},
   "outputs": [
    {
     "data": {
      "image/png": "[encoded data removed]",
      "text/plain": [
       "<Figure size 800x600 with 2 Axes>"
      ]
     },
     "metadata": {},
     "output_type": "display_data"
    }
   ],
   "source": [
    "plt.figure(figsize=(8,6))\n",
    "c=plt.pcolormesh(DFT.X[:,:,Ngrid//2],DFT.Y[:,:,Ngrid//2],DFT.Vext[:,:,Ngrid//2].cpu(), cmap='viridis',vmin=-1e2,vmax=1e4)\n",
    "plt.colorbar(label='Vext')\n",
    "plt.show()"
   ]
  },
  {
   "cell_type": "code",
   "execution_count": 52,
   "id": "56f4514c",
   "metadata": {},
   "outputs": [],
   "source": [
    "ljeos= LJEOS(sigma=sigmaff,epsilon=epsilonff,model='MBWR')"
   ]
  },
  {
   "cell_type": "code",
   "execution_count": 53,
   "id": "e4d61d4a",
   "metadata": {},
   "outputs": [],
   "source": [
    "def rhofromBARpressure(pbar):\n",
    "    def func(x,p):\n",
    "        return ljeos.p(x,kT)-p,ljeos.dpdrho(x,kT), ljeos.d2pdrho2(x,kT)\n",
    "    if np.isscalar(pbar):\n",
    "        sol = optimize.root_scalar(func, x0=1e-2, fprime=True,fprime2=True,args=(1e-30*pbar/(1e-5*kB)), method='halley')\n",
    "        rho = sol.root\n",
    "    else:\n",
    "        rho = np.empty_like(pbar)\n",
    "        sol = optimize.root_scalar(func, x0=1e-2, fprime=True,fprime2=True,args=(1e-30*pbar[0]/(1e-5*kB)), method='halley')\n",
    "        rho[0] = sol.root\n",
    "        for i in range(1,pbar.size):\n",
    "            sol = optimize.root_scalar(func, x0=rho[i-1], fprime=True,fprime2=True,args=(1e-30*pbar[i]/(1e-5*kB)), method='halley')\n",
    "            rho[i] = sol.root\n",
    "    return rho"
   ]
  },
  {
   "cell_type": "code",
   "execution_count": 54,
   "id": "5649514d",
   "metadata": {},
   "outputs": [],
   "source": [
    "pbararray = np.hstack((np.arange(0.05,2.0,0.05),np.arange(2.,101,1.0),np.arange(110,510,10.0))) # bulk pressure (in bar)"
   ]
  },
  {
   "cell_type": "code",
   "execution_count": 55,
   "id": "67d9f33f",
   "metadata": {},
   "outputs": [],
   "source": [
    "rhobarray = rhofromBARpressure(pbararray)"
   ]
  },
  {
   "cell_type": "code",
   "execution_count": 56,
   "id": "104c6d75",
   "metadata": {},
   "outputs": [
    {
     "data": {
      "text/plain": [
       "Text(0, 0.5, '$\\\\rho_b$ (molecules/$\\\\AA^{3}$)')"
      ]
     },
     "execution_count": 56,
     "metadata": {},
     "output_type": "execute_result"
    },
    {
     "data": {
      "image/png": "[encoded data removed]",
      "text/plain": [
       "<Figure size 800x600 with 1 Axes>"
      ]
     },
     "metadata": {},
     "output_type": "display_data"
    }
   ],
   "source": [
    "plt.plot(pbararray,rhobarray)\n",
    "plt.xlabel(r'P (bar)')\n",
    "plt.ylabel(r'$\\rho_b$ (molecules/$\\AA^{3}$)')"
   ]
  },
  {
   "cell_type": "code",
   "execution_count": 57,
   "id": "b3fa3b4f",
   "metadata": {},
   "outputs": [
    {
     "name": "stdout",
     "output_type": "stream",
     "text": [
      "P (bar)\t rhob (AA^-3)\t Nabs(molecules/u.c.)\n"
     ]
    },
    {
     "name": "stderr",
     "output_type": "stream",
     "text": [
      "/home/elvis/Google Drive/Projetos em Andamento/2-DFT in Amorphous Carbon/codes/PyDFTlj/pydftlj/dft3d.py:275: RuntimeWarning: invalid value encountered in dphi3dnfuncWBI\n",
      "  self.dphi3dn3 = torch.tensor(dphi3dnfuncWBI(self.n3.numpy()),dtype=torch.float32)\n"
     ]
    },
    {
     "name": "stdout",
     "output_type": "stream",
     "text": [
      "0.05 1.2072577617596054e-06 0.122\n",
      "0.1 2.414707548641259e-06 0.248\n",
      "0.15 3.622349371072641e-06 0.375\n",
      "0.2 4.830183239486024e-06 0.501\n",
      "0.25 6.0382091643182445e-06 0.627\n",
      "0.3 7.246427156010674e-06 0.753\n",
      "0.35 8.454837225009188e-06 0.879\n",
      "0.4 9.663439381764134e-06 1.006\n",
      "0.45 1.0872233636730307e-05 1.132\n",
      "0.5 1.2081220000366911e-05 1.258\n",
      "0.55 1.3290398483137537e-05 1.384\n",
      "0.6 1.4499769095510124e-05 1.51\n",
      "0.65 1.570933184795694e-05 1.636\n",
      "0.7 1.6919086750954526e-05 1.763\n",
      "0.75 1.8129033814983706e-05 1.889\n",
      "0.8 1.933917305052952e-05 2.015\n",
      "0.85 2.054950446808122e-05 2.141\n",
      "0.9 2.1760028078132198e-05 2.267\n",
      "0.95 2.297074389118e-05 2.394\n",
      "1.0 2.4181651917726278e-05 2.52\n",
      "1.05 2.5392752168276746e-05 2.646\n",
      "1.1 2.6604044653341173e-05 2.772\n",
      "1.15 2.7815529383433327e-05 2.898\n",
      "1.2 2.9027206369070943e-05 3.025\n",
      "1.25 3.0239075620775717e-05 3.151\n",
      "1.3 3.1451137149073254e-05 3.277\n",
      "1.35 3.266339096449305e-05 3.403\n",
      "1.4 3.387583707756842e-05 3.529\n",
      "1.45 3.508847549883652e-05 3.656\n",
      "1.5 3.630130623883828e-05 3.782\n",
      "1.55 3.751432930811839e-05 3.908\n",
      "1.6 3.872754471722525e-05 4.034\n",
      "1.65 3.994095247671095e-05 4.16\n",
      "1.7 4.1154552597131234e-05 4.286\n",
      "1.75 4.2368345089045425e-05 4.424\n",
      "1.8 4.358232996301649e-05 4.549\n",
      "1.85 4.479650722961093e-05 4.676\n",
      "1.9 4.601087689939876e-05 4.802\n",
      "1.95 4.7225438982953466e-05 4.928\n",
      "2.0 4.8440193490852e-05 5.054\n",
      "3.0 7.27757090786428e-05 7.567\n",
      "4.0 9.718828358056565e-05 10.063\n",
      "5.0 0.00012167800232387537 12.536\n",
      "6.0 0.0001462449509437831 14.983\n",
      "7.0 0.00017088921525607772 17.401\n",
      "8.0 0.00019561088112207125 19.767\n",
      "9.0 0.00022041003430574204 22.075\n",
      "10.0 0.0002452867603229495 24.352\n",
      "11.0 0.00027024114428259727 26.57\n",
      "12.0 0.00029527327071962204 28.739\n",
      "13.0 0.0003203832234196889 30.841\n",
      "14.0 0.0003455710852354745 32.884\n",
      "15.0 0.0003708369378944238 34.877\n",
      "16.0 0.00039618086179786673 36.797\n",
      "17.0 0.0004216029358113859 38.656\n",
      "18.0 0.00044710323704632904 40.453\n",
      "19.0 0.0004726818406323638 42.189\n",
      "20.0 0.0004983388194809748 43.865\n",
      "21.0 0.0005240742440398102 45.481\n",
      "22.0 0.0005498881820377885 47.038\n",
      "23.0 0.0005757806982208785 48.539\n",
      "24.0 0.0006017518540784755 49.983\n",
      "25.0 0.0006278017075603018 51.373\n",
      "26.0 0.0006539303127837636 52.696\n",
      "27.0 0.0006801377197317033 53.993\n",
      "28.0 0.0007064239739405019 55.216\n",
      "29.0 0.0007327891161784804 56.41\n",
      "30.0 0.000759233182114572 57.539\n",
      "31.0 0.0007857562019772371 58.639\n",
      "32.0 0.0008123582002036086 59.679\n",
      "33.0 0.0008390391950788579 60.69\n",
      "34.0 0.0008657991983657999 61.648\n",
      "35.0 0.0008926382149247456 62.571\n",
      "36.0 0.0009195562423236479 63.455\n",
      "37.0 0.0009465532704385766 64.301\n",
      "38.0 0.0009736292810445893 65.112\n",
      "39.0 0.0010007842473970848 65.887\n",
      "40.0 0.001028018133803717 66.629\n",
      "41.0 0.0010553308951870043 67.339\n",
      "42.0 0.0010827224766377375 68.017\n",
      "43.0 0.0011101928129593655 68.663\n",
      "44.0 0.0011377418282035136 69.288\n",
      "45.0 0.0011653694351968248 69.874\n",
      "46.0 0.0011930755350593595 70.441\n",
      "47.0 0.001220860016714769 70.975\n",
      "48.0 0.0012487227563925144 71.49\n",
      "49.0 0.0012766636171224368 71.974\n",
      "50.0 0.0013046824482219699 72.44\n",
      "51.0 0.0013327790847763614 72.879\n",
      "52.0 0.0013609533471122459 73.3\n",
      "53.0 0.001389205040265032 73.696\n",
      "54.0 0.0014175339534404376 74.077\n",
      "55.0 0.0014459398594707784 74.432\n",
      "56.0 0.001474422514266331 74.773\n",
      "57.0 0.0015029816562625064 75.091\n",
      "58.0 0.0015316170058632139 75.4\n",
      "59.0 0.001560328264881099 75.678\n",
      "60.0 0.0015891151159753666 75.953\n",
      "61.0 0.0016179772220876877 76.198\n",
      "62.0 0.0016469142258770564 76.441\n",
      "63.0 0.0016759257491542772 76.656\n",
      "64.0 0.0017050113923168702 76.868\n",
      "65.0 0.0017341707337852226 77.054\n",
      "66.0 0.0017634033294408658 77.238\n",
      "67.0 0.0017927087120677763 77.399\n",
      "68.0 0.0018220863907975446 77.555\n",
      "69.0 0.0018515358505595836 77.69\n",
      "70.0 0.001881056551537227 77.821\n",
      "71.0 0.001910647928630757 77.932\n",
      "72.0 0.0019403093909285828 78.04\n",
      "73.0 0.0019700403211875698 78.128\n",
      "74.0 0.0019998400753237487 78.214\n",
      "75.0 0.0020297079819144802 78.282\n",
      "76.0 0.002059643341713425 78.345\n",
      "77.0 0.002089645427179479 78.396\n",
      "78.0 0.0021197134820209536 78.437\n",
      "79.0 0.0021498467207563127 78.469\n",
      "80.0 0.0021800443282928507 78.492\n",
      "81.0 0.002210305459524325 78.505\n",
      "82.0 0.0022406292389494514 78.51\n",
      "83.0 0.0022710147603120746 78.505\n",
      "84.0 0.002301461086264716 78.494\n",
      "85.0 0.0023319672480567495 78.48\n",
      "86.0 0.0023625322452486093 78.447\n",
      "87.0 0.0023931550454533365 78.412\n",
      "88.0 0.0024238345841069743 78.37\n",
      "89.0 0.002454569764269068 78.321\n",
      "90.0 0.0024853594564544744 78.265\n",
      "91.0 0.002516202498498098 78.2\n",
      "92.0 0.0025470976954535423 78.129\n",
      "93.0 0.0025780438195270555 78.053\n",
      "94.0 0.0026090396100481336 77.97\n",
      "95.0 0.0026400837734774007 77.881\n",
      "96.0 0.002671174983453774 77.785\n",
      "97.0 0.0027023118808809313 77.684\n",
      "98.0 0.0027334930740549714 77.578\n",
      "99.0 0.0027647171388337018 77.466\n",
      "100.0 0.002795982618848447 77.349\n",
      "110.0 0.0031105724590931227 75.915\n",
      "120.0 0.0034274781577137772 74.067\n",
      "130.0 0.003744794372266112 71.915\n",
      "140.0 0.004060457813605615 69.545\n",
      "150.0 0.0043723735337613655 67.038\n",
      "160.0 0.00467854989545114 64.437\n",
      "170.0 0.004977218505667526 61.813\n",
      "180.0 0.005266920417841581 59.185\n",
      "190.0 0.00554655001441965 56.605\n",
      "200.0 0.0058153585387392985 54.091\n",
      "210.0 0.006072926512441439 51.66\n",
      "220.0 0.006319117004764263 49.322\n",
      "230.0 0.0065540208109270805 47.085\n",
      "240.0 0.006777901797566683 44.948\n",
      "250.0 0.006991147507518832 42.915\n",
      "260.0 0.007194227460660429 40.984\n",
      "270.0 0.007387659736135287 39.151\n",
      "280.0 0.007571985322521246 37.413\n",
      "290.0 0.007747749189125995 35.762\n",
      "300.0 0.007915486865061532 34.197\n",
      "310.0 0.008075715354616847 32.711\n",
      "320.0 0.008228927359362453 31.297\n",
      "330.0 0.008375587953236164 29.955\n",
      "340.0 0.008516133030294741 28.677\n",
      "350.0 0.008650968998787017 27.461\n",
      "360.0 0.008780473323758297 26.3\n",
      "370.0 0.008904995623448746 25.194\n",
      "380.0 0.00902485910507738 24.136\n",
      "390.0 0.009140362186862334 23.124\n",
      "400.0 0.009251780199055048 22.155\n",
      "410.0 0.009359367090701334 21.227\n",
      "420.0 0.009463357093599838 20.336\n",
      "430.0 0.009563966312739357 19.481\n",
      "440.0 0.009661394225157292 18.658\n",
      "450.0 0.009755825078010715 17.867\n",
      "460.0 0.009847429182721832 17.106\n",
      "470.0 0.009936364106135489 16.371\n",
      "480.0 0.010022775762238761 15.664\n",
      "490.0 0.010106799409610566 14.98\n",
      "500.0 0.010188560560657142 14.319\n",
      "CPU times: user 1h 1min 14s, sys: 15.3 s, total: 1h 1min 30s\n",
      "Wall time: 21min 30s\n"
     ]
    }
   ],
   "source": [
    "%%time\n",
    "\n",
    "Nexcarray = np.zeros_like(rhobarray) # Excess adsorbed quantity\n",
    "\n",
    "DFT.Set_BulkDensity(rhobarray[0])\n",
    "DFT.Set_InitialCondition()\n",
    "\n",
    "print('P (bar)\\t rhob (AA^-3)\\t Nabs(molecules/u.c.)')\n",
    "\n",
    "for i in range(rhobarray.size):\n",
    "    rhob = rhobarray[i]\n",
    "\n",
    "    DFT.Set_BulkDensity(rhob)\n",
    "\n",
    "    DFT.Calculate_Equilibrium(alpha0=0.1,dt=0.1,method='fire',logoutput=False)\n",
    "\n",
    "    Nexcarray[i] = DFT.Nabs - DFT.rhob*Vpore_calc\n",
    "    print(pbararray[i].round(2),rhob,Nexcarray[i].round(3))"
   ]
  },
  {
   "cell_type": "code",
   "execution_count": 58,
   "id": "4dd9745c",
   "metadata": {},
   "outputs": [],
   "source": [
    "# helium_void_fraction = Vpore/Vcell\n",
    "helium_void_fraction = 0.852\n",
    "\n",
    "Vpore = helium_void_fraction*Vcell"
   ]
  },
  {
   "cell_type": "code",
   "execution_count": 59,
   "id": "cfe504a0",
   "metadata": {},
   "outputs": [],
   "source": [
    "Mexcarray = Nexcarray*mff"
   ]
  },
  {
   "cell_type": "code",
   "execution_count": 60,
   "id": "790cd35e",
   "metadata": {},
   "outputs": [],
   "source": [
    "df = pd.DataFrame()\n",
    "df['Pressure (bar)'] = pbararray\n",
    "df['Excess adsorption (molecules/uc)'] = Nexcarray\n",
    "df['Excess adsorption (molecules/nm^3)'] = Nexcarray/(Vcell*1e-3)\n",
    "df['Excess adsorption (mg/g)'] = 1e3*Mexcarray/mss\n",
    "df['Excess adsorption (%w.t.)'] = 100*Mexcarray/(mss+Mexcarray)\n",
    "df['Excess adsorption (mol/kg)'] = 1e3*Nexcarray/mss\n",
    "df['Excess adsorption (cm^3 STP/cm^3)'] = 1e30*(kB*273.15/1e5)*Nexcarray/Vcell"
   ]
  },
  {
   "cell_type": "code",
   "execution_count": 61,
   "id": "a4fa6eb5",
   "metadata": {},
   "outputs": [
    {
     "data": {
      "text/html": [
       "<div>\n",
       "<style scoped>\n",
       "    .dataframe tbody tr th:only-of-type {\n",
       "        vertical-align: middle;\n",
       "    }\n",
       "\n",
       "    .dataframe tbody tr th {\n",
       "        vertical-align: top;\n",
       "    }\n",
       "\n",
       "    .dataframe thead th {\n",
       "        text-align: right;\n",
       "    }\n",
       "</style>\n",
       "<table border=\"1\" class=\"dataframe\">\n",
       "  <thead>\n",
       "    <tr style=\"text-align: right;\">\n",
       "      <th></th>\n",
       "      <th>Pressure (bar)</th>\n",
       "      <th>Excess adsorption (molecules/uc)</th>\n",
       "      <th>Excess adsorption (molecules/nm^3)</th>\n",
       "      <th>Excess adsorption (mg/g)</th>\n",
       "      <th>Excess adsorption (%w.t.)</th>\n",
       "      <th>Excess adsorption (mol/kg)</th>\n",
       "      <th>Excess adsorption (cm^3 STP/cm^3)</th>\n",
       "    </tr>\n",
       "  </thead>\n",
       "  <tbody>\n",
       "    <tr>\n",
       "      <th>0</th>\n",
       "      <td>0.05</td>\n",
       "      <td>0.121837</td>\n",
       "      <td>0.007040</td>\n",
       "      <td>0.317370</td>\n",
       "      <td>0.031727</td>\n",
       "      <td>0.019782</td>\n",
       "      <td>0.265513</td>\n",
       "    </tr>\n",
       "    <tr>\n",
       "      <th>1</th>\n",
       "      <td>0.10</td>\n",
       "      <td>0.248216</td>\n",
       "      <td>0.014343</td>\n",
       "      <td>0.646570</td>\n",
       "      <td>0.064615</td>\n",
       "      <td>0.040302</td>\n",
       "      <td>0.540922</td>\n",
       "    </tr>\n",
       "    <tr>\n",
       "      <th>2</th>\n",
       "      <td>0.15</td>\n",
       "      <td>0.374749</td>\n",
       "      <td>0.021655</td>\n",
       "      <td>0.976171</td>\n",
       "      <td>0.097522</td>\n",
       "      <td>0.060847</td>\n",
       "      <td>0.816668</td>\n",
       "    </tr>\n",
       "    <tr>\n",
       "      <th>3</th>\n",
       "      <td>0.20</td>\n",
       "      <td>0.501005</td>\n",
       "      <td>0.028951</td>\n",
       "      <td>1.305049</td>\n",
       "      <td>0.130335</td>\n",
       "      <td>0.081347</td>\n",
       "      <td>1.091808</td>\n",
       "    </tr>\n",
       "    <tr>\n",
       "      <th>4</th>\n",
       "      <td>0.25</td>\n",
       "      <td>0.627182</td>\n",
       "      <td>0.036242</td>\n",
       "      <td>1.633725</td>\n",
       "      <td>0.163106</td>\n",
       "      <td>0.101834</td>\n",
       "      <td>1.366780</td>\n",
       "    </tr>\n",
       "  </tbody>\n",
       "</table>\n",
       "</div>"
      ],
      "text/plain": [
       "   Pressure (bar)  Excess adsorption (molecules/uc)  \\\n",
       "0            0.05                          0.121837   \n",
       "1            0.10                          0.248216   \n",
       "2            0.15                          0.374749   \n",
       "3            0.20                          0.501005   \n",
       "4            0.25                          0.627182   \n",
       "\n",
       "   Excess adsorption (molecules/nm^3)  Excess adsorption (mg/g)  \\\n",
       "0                            0.007040                  0.317370   \n",
       "1                            0.014343                  0.646570   \n",
       "2                            0.021655                  0.976171   \n",
       "3                            0.028951                  1.305049   \n",
       "4                            0.036242                  1.633725   \n",
       "\n",
       "   Excess adsorption (%w.t.)  Excess adsorption (mol/kg)  \\\n",
       "0                   0.031727                    0.019782   \n",
       "1                   0.064615                    0.040302   \n",
       "2                   0.097522                    0.060847   \n",
       "3                   0.130335                    0.081347   \n",
       "4                   0.163106                    0.101834   \n",
       "\n",
       "   Excess adsorption (cm^3 STP/cm^3)  \n",
       "0                           0.265513  \n",
       "1                           0.540922  \n",
       "2                           0.816668  \n",
       "3                           1.091808  \n",
       "4                           1.366780  "
      ]
     },
     "execution_count": 61,
     "metadata": {},
     "output_type": "execute_result"
    }
   ],
   "source": [
    "df.head()"
   ]
  },
  {
   "cell_type": "code",
   "execution_count": 62,
   "id": "5fb361af",
   "metadata": {},
   "outputs": [],
   "source": [
    "# df.to_csv('dft-results-'+structure_name+'-'+fluid_molecule+'-'+fluid_forcefield+'-'+forcefield_name+'-T='+str(kT)+'K-N='+str(Ngrid)+'-ljmethod='+str(DFT.ljmethod)+'.dat', index=False,sep='\\t')"
   ]
  },
  {
   "attachments": {},
   "cell_type": "markdown",
   "id": "6bac9b07",
   "metadata": {},
   "source": [
    "# Plotting the results"
   ]
  },
  {
   "cell_type": "code",
   "execution_count": 63,
   "id": "32f164ae",
   "metadata": {},
   "outputs": [],
   "source": [
    "exp_data = pd.read_excel('data/experimental/H2andCH4-MOFandZIF-isotherm-Zhou2007.xls',sheet_name='CH4-MOF5')\n",
    "exp_data2 = pd.read_excel('data/experimental/CH4-MOF-isotherm-Duren2004.xls',sheet_name='IRMOF-1')"
   ]
  },
  {
   "cell_type": "code",
   "execution_count": 64,
   "id": "7007a467",
   "metadata": {},
   "outputs": [],
   "source": [
    "def rhofromBARpressure300K(pbar):\n",
    "    def func(x,p):\n",
    "        return ljeos.p(x,298)-p,ljeos.dpdrho(x,298), ljeos.d2pdrho2(x,298)\n",
    "    rho = np.empty_like(pbar)\n",
    "    sol = optimize.root_scalar(func, x0=1e-2, fprime=True,fprime2=True,args=(1e-30*pbar[0]/(1e-5*kB)), method='halley')\n",
    "    rho[0] = sol.root\n",
    "    for i in range(1,pbar.size):\n",
    "        sol = optimize.root_scalar(func, x0=rho[i-1], fprime=True,fprime2=True,args=(1e-30*pbar[i]/(1e-5*kB)), method='halley')\n",
    "        rho[i] = sol.root\n",
    "    return rho"
   ]
  },
  {
   "cell_type": "code",
   "execution_count": 65,
   "id": "4ca243c2",
   "metadata": {},
   "outputs": [],
   "source": [
    "\n",
    "exp_data3 = pd.read_excel('data/experimental/CH4-MOF-isotherm-Pillai2015.xls',sheet_name='IRMOF-1')\n",
    "exp_data4 = pd.read_excel('data/experimental/CH4-MOF-isotherm-Fu2015.xls',sheet_name='IRMOF-1')\n",
    "exp_data5 = pd.read_excel('data/experimental/CH4-MOF-isotherm-Keskin2016.xls',sheet_name='IRMOF-1')"
   ]
  },
  {
   "cell_type": "code",
   "execution_count": 66,
   "id": "66204fef",
   "metadata": {},
   "outputs": [],
   "source": [
    "def rhofromBARpressure300K(pbar):\n",
    "    def func(x,p):\n",
    "        return ljeos.p(x,298)-p,ljeos.dpdrho(x,298), ljeos.d2pdrho2(x,298)\n",
    "    rho = np.empty_like(pbar)\n",
    "    sol = optimize.root_scalar(func, x0=1e-2, fprime=True,fprime2=True,args=(1e-30*pbar[0]/(1e-5*kB)), method='halley')\n",
    "    rho[0] = sol.root\n",
    "    for i in range(1,pbar.size):\n",
    "        sol = optimize.root_scalar(func, x0=rho[i-1], fprime=True,fprime2=True,args=(1e-30*pbar[i]/(1e-5*kB)), method='halley')\n",
    "        rho[i] = sol.root\n",
    "    return rho"
   ]
  },
  {
   "cell_type": "code",
   "execution_count": 67,
   "id": "4c084d2c",
   "metadata": {},
   "outputs": [
    {
     "data": {
      "image/png": "[encoded data removed]",
      "text/plain": [
       "<Figure size 800x600 with 1 Axes>"
      ]
     },
     "metadata": {},
     "output_type": "display_data"
    }
   ],
   "source": [
    "plt.rcParams[\"lines.markersize\"] = 9\n",
    "\n",
    "plt.scatter(exp_data['Pexc(bar)-300K'],(1e3/mss)*(mss/mff)*exp_data['Nexc(%wt)-300K']*0.01/(1-exp_data['Nexc(%wt)-300K']*0.01),marker='o',edgecolors='C3',facecolors='none',label='Exp. Data-Zhou2007')\n",
    "\n",
    "plt.scatter(exp_data2['Pressure (atm)']/0.986923,exp_data2['Excess adsorption (cm^3 STP/cm^3)']*(1e3/mss)/(1e30*(kB*273.15/101325)/Vcell),marker='d',edgecolors='C3',facecolors='none',label='Exp. Data-Duren2004')\n",
    "plt.scatter(exp_data2['Pressure (atm)']/0.986923,exp_data2['Sim Excess adsorption (cm^3 STP/cm^3)']*(1e3/mss)/(1e30*(kB*273.15/101325)/Vcell),marker='d',edgecolors='C3',facecolors='C3',label='GCMC-Duren2004')\n",
    "\n",
    "#convert from absolute to excess\n",
    "rhobarray_data3 = rhofromBARpressure300K(exp_data3['Pressure (kPa)']/100)\n",
    "Nabs_data3 = exp_data3['Absolute adsorption (mmol/g)']/(1e3/mss)\n",
    "Nexc_data3 = Nabs_data3 - rhobarray_data3*Vpore\n",
    "plt.scatter(exp_data3['Pressure (kPa)']/100,1e3*Nexc_data3/mss,marker='s',edgecolors='C3',facecolors='C3',label='GCMC-Pillai2015')\n",
    "\n",
    "#convert from absolute to excess\n",
    "rhobarray_data4 = rhofromBARpressure300K(exp_data4['Pressure (bar)'])\n",
    "Nabs_data4 = exp_data4['Absolute adsorption (cm^3 STP/cm^3)']/(1e30*(kB*298.15/101325)/Vcell) # Fu and Wu uses 25ºC and 1 atm as STP?!!?!?\n",
    "Nexc_data4 = Nabs_data4 - rhobarray_data4*Vpore\n",
    "plt.scatter(exp_data4['Pressure (bar)'],1e3*Nexc_data4/mss,marker='^',edgecolors='C3',facecolors='C3',label='GCMC-Fu2015')\n",
    "\n",
    "plt.scatter(exp_data5['Pressure (bar)'],exp_data5['Excess adsorption (mmol/g)'],marker='v',edgecolors='C3',facecolors='C3',label='GCMC-Keskin2016')\n",
    "\n",
    "plt.plot(df['Pressure (bar)'],df['Excess adsorption (mol/kg)'],'-',color='k',label='cDFT')\n",
    "\n",
    "plt.legend(loc='upper left')\n",
    "plt.xlabel('Pressure (bar)')\n",
    "plt.ylabel('CH$_4$ Excess Adsorption (mmol/g)')\n",
    "plt.xlim(0.5,500)\n",
    "plt.ylim(0,14)\n",
    "# plt.yscale('log')\n",
    "plt.xscale('log')\n",
    "plt.savefig('figures/CH4-MOF4-300K.png',dpi=200)"
   ]
  },
  {
   "cell_type": "code",
   "execution_count": null,
   "id": "0a85bc5a",
   "metadata": {},
   "outputs": [],
   "source": []
  }
 ],
 "metadata": {
  "kernelspec": {
   "display_name": "Python 3 (ipykernel)",
   "language": "python",
   "name": "python3"
  },
  "language_info": {
   "codemirror_mode": {
    "name": "ipython",
    "version": 3
   },
   "file_extension": ".py",
   "mimetype": "text/x-python",
   "name": "python",
   "nbconvert_exporter": "python",
   "pygments_lexer": "ipython3",
   "version": "3.10.6"
  }
 },
 "nbformat": 4,
 "nbformat_minor": 5
}
