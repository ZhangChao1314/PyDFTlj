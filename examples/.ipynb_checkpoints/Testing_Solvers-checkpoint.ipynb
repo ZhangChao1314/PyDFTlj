{
 "cells": [
  {
   "cell_type": "code",
   "execution_count": 22,
   "id": "aff20de1",
   "metadata": {},
   "outputs": [],
   "source": [
    "from scipy.optimize import rosen,rosen_der, minimize_scalar\n",
    "import numpy as np"
   ]
  },
  {
   "cell_type": "markdown",
   "id": "458aa440",
   "metadata": {},
   "source": [
    "# Powell's Method (without derivatives)"
   ]
  },
  {
   "cell_type": "code",
   "execution_count": 32,
   "id": "779638f2",
   "metadata": {},
   "outputs": [],
   "source": [
    "def powell(x0, func,params, rtol=1e-6, maxiter=None):\n",
    "    \"\"\"\n",
    "    Minimize a function using the Powell's method.\n",
    "\n",
    "    Parameters:\n",
    "    ----------\n",
    "    func : callable\n",
    "        Function to minimize. Should take a 1d numpy array as input and return a scalar.\n",
    "    x0 : 1d numpy array\n",
    "        Initial guess for the minimum.\n",
    "    tol : float\n",
    "        Tolerance for termination.\n",
    "    maxiter : int or None\n",
    "        Maximum number of iterations. None means no limit.\n",
    "\n",
    "    Returns:\n",
    "    -------\n",
    "    x : 1d numpy array\n",
    "        The minimum value found.\n",
    "    fval : float\n",
    "        The function value at the minimum.\n",
    "    \"\"\"\n",
    "\n",
    "    # Define the number of variables and directions\n",
    "    n = len(x0)\n",
    "    direc = np.eye(n)\n",
    "\n",
    "    # Define the initial position and function value\n",
    "    x = x0.copy()\n",
    "    fval = func(x,params)\n",
    "\n",
    "    # Define the maximum number of iterations\n",
    "    if maxiter is None:\n",
    "        maxiter = n * 1000\n",
    "\n",
    "    # Iterate until convergence or maximum iterations\n",
    "    for i in range(maxiter):\n",
    "        # Store the previous position and function value\n",
    "        x_old = x.copy()\n",
    "        fval_old = fval\n",
    "\n",
    "        # Iterate over all directions\n",
    "        for j in range(n):\n",
    "            # Define the line search function along the current direction\n",
    "            def line_search(alpha):\n",
    "                return func(x + alpha * direc[j],params)\n",
    "\n",
    "            # Find the minimum of the line search function\n",
    "            res = minimize_scalar(line_search)\n",
    "\n",
    "            # Update the current position and function value\n",
    "            x = x + res.x * direc[j]\n",
    "            fval = func(x,params)\n",
    "\n",
    "        # Define the new set of directions based on the previous and current positions\n",
    "        direc = np.vstack((direc[1:], (x - x_old) / np.linalg.norm(x - x_old)))\n",
    "\n",
    "        # Check for convergence\n",
    "        if 2*np.abs(fval - fval_old) < rtol*(np.abs(fval)+np.abs(fval_old))+1e-25:\n",
    "            break\n",
    "\n",
    "    return x, fval"
   ]
  },
  {
   "cell_type": "markdown",
   "id": "833e6192",
   "metadata": {},
   "source": [
    "# FIRE method"
   ]
  },
  {
   "cell_type": "code",
   "execution_count": 173,
   "id": "8ae19e74",
   "metadata": {},
   "outputs": [],
   "source": [
    "def fire2(x0,f,df,params,atol=1e-8,rtol=1e-6,dt = 0.002):\n",
    "    alpha0 = 0.25\n",
    "    Ndelay = 5\n",
    "    finc = 1.1\n",
    "    fdec = 0.5\n",
    "    fa = 0.99\n",
    "    Nnegmax = 2000\n",
    "    \n",
    "    n = len(x0)\n",
    "    # Define the maximum number of iterations\n",
    "    maxiter = n * 1000\n",
    "    \n",
    "    dtmax = 10*dt\n",
    "    dtmin = 0.02*dt\n",
    "    alpha = alpha0\n",
    "    Npos = 0\n",
    "    Nneg = 0\n",
    "\n",
    "    x = x0.copy()\n",
    "    V = np.zeros_like(x)\n",
    "    fval = f(x,params)\n",
    "    F = -df(x,params)\n",
    "\n",
    "    for i in range(maxiter):\n",
    "\n",
    "        P = (F*V).sum() # dissipated power\n",
    "        \n",
    "        if (P>0):\n",
    "            Npos = Npos + 1\n",
    "            Nneg = 0\n",
    "            if Npos>Ndelay:\n",
    "                dt = min(dt*finc,dtmax)\n",
    "                alpha = alpha*fa\n",
    "        else:\n",
    "            Npos = 0\n",
    "            Nneg = Nneg + 1\n",
    "            if Nneg > Nnegmax: break\n",
    "            if i> Ndelay:\n",
    "                dt = max(dt*fdec,dtmin)\n",
    "                alpha = alpha0\n",
    "            x = x - 0.5*dt*V + 0.5*dt**2*F\n",
    "            V = np.zeros_like(x)\n",
    "            \n",
    "        V = V + 0.5*dt*F\n",
    "        V = (1-alpha)*V + alpha*F*np.linalg.norm(V)/np.linalg.norm(F)\n",
    "        x = x + dt*V + 0.5*dt**2*F\n",
    "        fval_old = fval\n",
    "        fval = f(x,params)\n",
    "        F = -df(x,params)\n",
    "        V = V + 0.5*dt*F\n",
    "        \n",
    "        sk=atol+rtol*np.abs(x)\n",
    "        error = np.linalg.norm(F/sk)\n",
    "        if  error < 1.0: break\n",
    "#         print(i,error)\n",
    " \n",
    "    return x,fval"
   ]
  },
  {
   "cell_type": "markdown",
   "id": "2dfe1084",
   "metadata": {},
   "source": [
    "# Anderson Mixing"
   ]
  },
  {
   "cell_type": "code",
   "execution_count": null,
   "id": "4b964b3e",
   "metadata": {},
   "outputs": [],
   "source": [
    "def anderson(x0,f,df,params,atol=1e-8,rtol=1e-6):\n",
    "    n = len(x0)\n",
    "    # Define the maximum number of iterations\n",
    "    maxiter = n * 1000\n",
    "    m = 5 # parameter m \n",
    "    xpast = np.zeros((m,n))\n",
    "    Fpast = np.zeros((m,n))\n",
    "    \n",
    "    for i in range(maxiter):\n",
    "        \n",
    "        F = -df(x,params)\n",
    "        \n",
    "         # Define the new force vector\n",
    "        Fpast = np.vstack((Fpast[1:],F))\n",
    "        \n",
    "        def line_search(alpha):\n",
    "                return func(x + alpha * direc[j],params)\n",
    "    \n",
    "    "
   ]
  },
  {
   "cell_type": "markdown",
   "id": "462ebb4d",
   "metadata": {},
   "source": [
    "## Optimizing the Rosenbrock function \n",
    "$xmim=(1.0,1.0)$\n",
    "\n",
    "$fmim=0.0$"
   ]
  },
  {
   "cell_type": "code",
   "execution_count": 141,
   "id": "a11d07f5",
   "metadata": {},
   "outputs": [],
   "source": [
    "# Define the Rosenbrock function\n",
    "def rosenbrock(x,params=None):\n",
    "    return rosen(x)\n",
    "\n",
    "# Define the Rosenbrock function\n",
    "def gradient_rosenbrock(x,params=None):\n",
    "    return rosen_der(x)\n",
    "\n",
    "# Define the initial guess\n",
    "x0 = np.array([0.5, 0.5])"
   ]
  },
  {
   "cell_type": "code",
   "execution_count": 142,
   "id": "5aafa718",
   "metadata": {
    "scrolled": true
   },
   "outputs": [
    {
     "name": "stdout",
     "output_type": "stream",
     "text": [
      "Minimum value found:  [0.71001923 0.50207097]\n",
      "Function value at the minimum:  0.0845117006093497\n"
     ]
    }
   ],
   "source": [
    "# Use the Powell's method to minimize the Rosenbrock function\n",
    "x_min, f_min = powell(x0,rosenbrock,params=None,rtol=1e-6)\n",
    "\n",
    "print(\"Minimum value found: \", x_min)\n",
    "print(\"Function value at the minimum: \", f_min)"
   ]
  },
  {
   "cell_type": "code",
   "execution_count": 143,
   "id": "ad6b473a",
   "metadata": {},
   "outputs": [
    {
     "data": {
      "text/plain": [
       "0.0"
      ]
     },
     "execution_count": 143,
     "metadata": {},
     "output_type": "execute_result"
    }
   ],
   "source": [
    "rosenbrock(np.array([1.0,1.0]),None)"
   ]
  },
  {
   "cell_type": "code",
   "execution_count": 174,
   "id": "bc7c6ba6",
   "metadata": {},
   "outputs": [
    {
     "name": "stdout",
     "output_type": "stream",
     "text": [
      "Minimum value found:  [0.99999981 0.99999962]\n",
      "Function value at the minimum:  3.633732583072612e-14\n"
     ]
    }
   ],
   "source": [
    "# Use the FIRE method to minimize the Rosenbrock function\n",
    "x_min, f_min = fire2(x0,rosenbrock, gradient_rosenbrock,params='None',atol=1e-8,rtol=1e-6)\n",
    "\n",
    "print(\"Minimum value found: \", x_min)\n",
    "print(\"Function value at the minimum: \", f_min)"
   ]
  },
  {
   "cell_type": "code",
   "execution_count": 175,
   "id": "f6cf3440",
   "metadata": {},
   "outputs": [
    {
     "name": "stdout",
     "output_type": "stream",
     "text": [
      "46.7 ms ± 1.49 ms per loop (mean ± std. dev. of 7 runs, 10 loops each)\n"
     ]
    }
   ],
   "source": [
    "%timeit -n 10 fire2(x0,rosenbrock, gradient_rosenbrock,params='None',atol=1e-12,rtol=1e-10)"
   ]
  },
  {
   "cell_type": "code",
   "execution_count": 79,
   "id": "ddabf380",
   "metadata": {},
   "outputs": [
    {
     "name": "stdout",
     "output_type": "stream",
     "text": [
      "3.17 ms ± 140 µs per loop (mean ± std. dev. of 7 runs, 10 loops each)\n"
     ]
    }
   ],
   "source": [
    "%timeit -n 10 powell(x0,rosenbrock,params=None,rtol=1e-6)"
   ]
  },
  {
   "cell_type": "code",
   "execution_count": null,
   "id": "43402507",
   "metadata": {},
   "outputs": [],
   "source": []
  }
 ],
 "metadata": {
  "kernelspec": {
   "display_name": "Python 3 (ipykernel)",
   "language": "python",
   "name": "python3"
  },
  "language_info": {
   "codemirror_mode": {
    "name": "ipython",
    "version": 3
   },
   "file_extension": ".py",
   "mimetype": "text/x-python",
   "name": "python",
   "nbconvert_exporter": "python",
   "pygments_lexer": "ipython3",
   "version": "3.10.6"
  }
 },
 "nbformat": 4,
 "nbformat_minor": 5
}
