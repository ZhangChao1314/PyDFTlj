{
 "cells": [
  {
   "cell_type": "code",
   "execution_count": 4,
   "id": "65da0a6d",
   "metadata": {},
   "outputs": [],
   "source": [
    "import numpy as np\n",
    "from scipy import optimize\n",
    "from numba import vectorize, float32, float64\n",
    "import pandas as pd\n",
    "import matplotlib.pyplot as plt\n",
    "plt.style.use(['science','notebook'])\n",
    "\n",
    "import sys\n",
    "sys.path.insert(0, '../src/pydftlj/')\n",
    "from dft3d import Gradient\n",
    "from dft3d import dft3d as dft\n",
    "from eos import LJEOS \n",
    "\n",
    "from pymatgen.core import Structure\n",
    "from pymatgen.analysis import structure_matcher\n",
    "\n",
    "# Author: Elvis do A. Soares\n",
    "# Github: @elvissoares\n",
    "# Date: 2023-03-01"
   ]
  },
  {
   "cell_type": "code",
   "execution_count": 5,
   "id": "25010111",
   "metadata": {},
   "outputs": [],
   "source": [
    "kB = 1.380649e-23 # J/K\n",
    "Rconst = 0.082057366080960 # Gas constant\n",
    "NA = 6.022e23 # Avogadro number"
   ]
  },
  {
   "cell_type": "markdown",
   "id": "6e1adc4b",
   "metadata": {},
   "source": [
    "## Solid CIF file Information"
   ]
  },
  {
   "cell_type": "code",
   "execution_count": 14,
   "id": "f01916f3",
   "metadata": {},
   "outputs": [
    {
     "name": "stdout",
     "output_type": "stream",
     "text": [
      "('P1', 1)\n",
      "formula:   Zn48 H288 C288 N192\n",
      "num_sites: 816\n"
     ]
    }
   ],
   "source": [
    "structure_name = 'ZIF-8'\n",
    "structure = Structure.from_file('../structures/'+structure_name+'.cif')\n",
    "structure.make_supercell(2)\n",
    "print(structure.get_space_group_info())\n",
    "print('formula:  ', structure.formula)\n",
    "print('num_sites:', structure.num_sites)"
   ]
  },
  {
   "cell_type": "code",
   "execution_count": 15,
   "id": "c21e32a4",
   "metadata": {},
   "outputs": [
    {
     "name": "stdout",
     "output_type": "stream",
     "text": [
      "Cell dimensions:  [14.7363 14.7801 14.764 ]\n",
      "Cell volume:  3215.6580733693204\n"
     ]
    }
   ],
   "source": [
    "coordinates = structure.cart_coords.T\n",
    "L = np.array([l/2 for l in structure.lattice.lengths])\n",
    "print('Cell dimensions: ', L)\n",
    "Vcell = L[0]*L[1]*L[2]\n",
    "print('Cell volume: ', Vcell)"
   ]
  },
  {
   "cell_type": "code",
   "execution_count": 16,
   "id": "4d163fe9",
   "metadata": {},
   "outputs": [
    {
     "data": {
      "text/plain": [
       "25.529661358548516"
      ]
     },
     "execution_count": 16,
     "metadata": {},
     "output_type": "execute_result"
    }
   ],
   "source": [
    "coordinates[0].max()"
   ]
  },
  {
   "cell_type": "code",
   "execution_count": 17,
   "id": "71067016",
   "metadata": {},
   "outputs": [
    {
     "data": {
      "text/plain": [
       "-11.550308700980825"
      ]
     },
     "execution_count": 17,
     "metadata": {},
     "output_type": "execute_result"
    }
   ],
   "source": [
    "coordinates[0].min()"
   ]
  },
  {
   "cell_type": "markdown",
   "id": "518c7c17",
   "metadata": {},
   "source": [
    "# Force Field for solid-fluid interaction"
   ]
  },
  {
   "cell_type": "code",
   "execution_count": 18,
   "id": "b8cb42ee",
   "metadata": {},
   "outputs": [
    {
     "data": {
      "text/html": [
       "<div>\n",
       "<style scoped>\n",
       "    .dataframe tbody tr th:only-of-type {\n",
       "        vertical-align: middle;\n",
       "    }\n",
       "\n",
       "    .dataframe tbody tr th {\n",
       "        vertical-align: top;\n",
       "    }\n",
       "\n",
       "    .dataframe thead th {\n",
       "        text-align: right;\n",
       "    }\n",
       "</style>\n",
       "<table border=\"1\" class=\"dataframe\">\n",
       "  <thead>\n",
       "    <tr style=\"text-align: right;\">\n",
       "      <th></th>\n",
       "      <th>atom</th>\n",
       "      <th>sigma/AA</th>\n",
       "      <th>epsilon/kB</th>\n",
       "      <th>mass/u</th>\n",
       "    </tr>\n",
       "  </thead>\n",
       "  <tbody>\n",
       "    <tr>\n",
       "      <th>0</th>\n",
       "      <td>H</td>\n",
       "      <td>2.84642</td>\n",
       "      <td>7.64893</td>\n",
       "      <td>1.00784</td>\n",
       "    </tr>\n",
       "    <tr>\n",
       "      <th>1</th>\n",
       "      <td>C</td>\n",
       "      <td>3.47299</td>\n",
       "      <td>47.85620</td>\n",
       "      <td>12.01070</td>\n",
       "    </tr>\n",
       "    <tr>\n",
       "      <th>2</th>\n",
       "      <td>N</td>\n",
       "      <td>3.26256</td>\n",
       "      <td>38.94920</td>\n",
       "      <td>14.00670</td>\n",
       "    </tr>\n",
       "    <tr>\n",
       "      <th>3</th>\n",
       "      <td>O</td>\n",
       "      <td>3.03315</td>\n",
       "      <td>48.15810</td>\n",
       "      <td>15.99900</td>\n",
       "    </tr>\n",
       "    <tr>\n",
       "      <th>4</th>\n",
       "      <td>Cu</td>\n",
       "      <td>3.11000</td>\n",
       "      <td>2.51800</td>\n",
       "      <td>63.54600</td>\n",
       "    </tr>\n",
       "    <tr>\n",
       "      <th>5</th>\n",
       "      <td>Zn</td>\n",
       "      <td>4.04468</td>\n",
       "      <td>27.67710</td>\n",
       "      <td>65.38000</td>\n",
       "    </tr>\n",
       "  </tbody>\n",
       "</table>\n",
       "</div>"
      ],
      "text/plain": [
       "  atom  sigma/AA  epsilon/kB    mass/u\n",
       "0    H   2.84642     7.64893   1.00784\n",
       "1    C   3.47299    47.85620  12.01070\n",
       "2    N   3.26256    38.94920  14.00670\n",
       "3    O   3.03315    48.15810  15.99900\n",
       "4   Cu   3.11000     2.51800  63.54600\n",
       "5   Zn   4.04468    27.67710  65.38000"
      ]
     },
     "execution_count": 18,
     "metadata": {},
     "output_type": "execute_result"
    }
   ],
   "source": [
    "forcefield_name = 'DREIDING'\n",
    "forcefield = pd.read_csv('../parameters/'+forcefield_name+'-forcefield.dat',delim_whitespace=True)\n",
    "forcefield"
   ]
  },
  {
   "cell_type": "markdown",
   "id": "b487c80b",
   "metadata": {},
   "source": [
    "# Fluid Information"
   ]
  },
  {
   "cell_type": "code",
   "execution_count": 19,
   "id": "8f3b3fc9",
   "metadata": {},
   "outputs": [],
   "source": [
    "epsilonff = 10.22 # kelvin\n",
    "sigmaff = 2.58 # angstrom\n",
    "mff = 4.0026"
   ]
  },
  {
   "cell_type": "markdown",
   "id": "0d547eee",
   "metadata": {},
   "source": [
    "# Create the DFT object"
   ]
  },
  {
   "cell_type": "code",
   "execution_count": 20,
   "id": "e559cba5",
   "metadata": {},
   "outputs": [],
   "source": [
    "Ngrid = 64"
   ]
  },
  {
   "cell_type": "code",
   "execution_count": 21,
   "id": "43e183f7",
   "metadata": {},
   "outputs": [],
   "source": [
    "DFT = dft(gridsize=np.array([Ngrid,Ngrid,Ngrid]),fmtmethod='WBI',ljmethod='MMFA')"
   ]
  },
  {
   "cell_type": "code",
   "execution_count": 22,
   "id": "23d08f54",
   "metadata": {},
   "outputs": [],
   "source": [
    "DFT.Set_Geometry(L)"
   ]
  },
  {
   "cell_type": "code",
   "execution_count": 23,
   "id": "b0e1fc5f",
   "metadata": {},
   "outputs": [
    {
     "name": "stdout",
     "output_type": "stream",
     "text": [
      "============== The DFT 3D for LJ fluids ==============\n",
      "Methods:\n",
      "FMT : WBI - antisymmetrized\n",
      "Attractive : MMFA\n",
      "The grid is [64 64 64]\n",
      "--- Geometry properties ---\n",
      "Lx = 14.7363  A\n",
      "Ly = 14.780100000000001  A\n",
      "Lz = 14.764  A\n",
      "Vol = 3215.6580733693204  A³\n"
     ]
    }
   ],
   "source": [
    "DFT.GetSystemInformation()"
   ]
  },
  {
   "cell_type": "code",
   "execution_count": 24,
   "id": "9a7bc470",
   "metadata": {},
   "outputs": [],
   "source": [
    "DFT.Set_FluidProperties(sigma=sigmaff,epsilon=epsilonff)"
   ]
  },
  {
   "cell_type": "code",
   "execution_count": 25,
   "id": "da202a05",
   "metadata": {},
   "outputs": [
    {
     "name": "stdout",
     "output_type": "stream",
     "text": [
      "--- Fluid properties ---\n",
      "epsilon/kB = 10.22  K\n",
      "sigma = 2.58  A\n"
     ]
    }
   ],
   "source": [
    "DFT.GetFluidInformation()"
   ]
  },
  {
   "cell_type": "markdown",
   "id": "60cedcff",
   "metadata": {},
   "source": [
    "## Defining the Temperature"
   ]
  },
  {
   "cell_type": "code",
   "execution_count": 26,
   "id": "00689b79",
   "metadata": {},
   "outputs": [],
   "source": [
    "kT = 300.0 # kelvin \n",
    "\n",
    "DFT.Set_Temperature(kT)"
   ]
  },
  {
   "cell_type": "code",
   "execution_count": 27,
   "id": "265a16fc",
   "metadata": {},
   "outputs": [
    {
     "name": "stdout",
     "output_type": "stream",
     "text": [
      "Temperature = 300.0  K\n",
      "Baker-Henderson diameter = 2.159  A\n"
     ]
    }
   ],
   "source": [
    "DFT.GetFluidTemperatureInformation()"
   ]
  },
  {
   "cell_type": "markdown",
   "id": "028fefb2",
   "metadata": {},
   "source": [
    "## Generating the External Potential"
   ]
  },
  {
   "cell_type": "code",
   "execution_count": 29,
   "id": "9867af79",
   "metadata": {},
   "outputs": [],
   "source": [
    "sigmasf = np.zeros(structure.num_sites)\n",
    "epsilonsf = np.zeros(structure.num_sites)\n",
    "mss = 0.0\n",
    "\n",
    "# Lorentz-Berthelot combination rule\n",
    "for i, site in enumerate(structure):\n",
    "    sigmasf[i] = 0.5*(sigmaff+forcefield[\"sigma/AA\"][forcefield[\"atom\"]==site.species_string])\n",
    "    epsilonsf[i] = np.sqrt(epsilonff*forcefield[\"epsilon/kB\"][forcefield[\"atom\"]==site.species_string])\n",
    "    mss = mss + float(forcefield[\"mass/u\"][forcefield[\"atom\"]==site.species_string])\n",
    "    \n",
    "mss = mss/8"
   ]
  },
  {
   "cell_type": "code",
   "execution_count": 30,
   "id": "6d1793e0",
   "metadata": {},
   "outputs": [],
   "source": [
    "@vectorize\n",
    "def ljpotential(r,eps,sigma):\n",
    "    return 4*eps*((sigma/r)**(12)-(sigma/r)**(6))"
   ]
  },
  {
   "cell_type": "code",
   "execution_count": 31,
   "id": "73ced634",
   "metadata": {},
   "outputs": [
    {
     "data": {
      "text/plain": [
       "array([ 0.        ,  0.23390952,  0.46781905,  0.70172857,  0.9356381 ,\n",
       "        1.16954762,  1.40345714,  1.63736667,  1.87127619,  2.10518571,\n",
       "        2.33909524,  2.57300476,  2.80691429,  3.04082381,  3.27473333,\n",
       "        3.50864286,  3.74255238,  3.9764619 ,  4.21037143,  4.44428095,\n",
       "        4.67819048,  4.9121    ,  5.14600952,  5.37991905,  5.61382857,\n",
       "        5.8477381 ,  6.08164762,  6.31555714,  6.54946667,  6.78337619,\n",
       "        7.01728571,  7.25119524,  7.48510476,  7.71901429,  7.95292381,\n",
       "        8.18683333,  8.42074286,  8.65465238,  8.8885619 ,  9.12247143,\n",
       "        9.35638095,  9.59029048,  9.8242    , 10.05810952, 10.29201905,\n",
       "       10.52592857, 10.7598381 , 10.99374762, 11.22765714, 11.46156667,\n",
       "       11.69547619, 11.92938571, 12.16329524, 12.39720476, 12.63111429,\n",
       "       12.86502381, 13.09893333, 13.33284286, 13.56675238, 13.8006619 ,\n",
       "       14.03457143, 14.26848095, 14.50239048, 14.7363    ])"
      ]
     },
     "execution_count": 31,
     "metadata": {},
     "output_type": "execute_result"
    }
   ],
   "source": [
    "DFT.x"
   ]
  },
  {
   "cell_type": "code",
   "execution_count": 32,
   "id": "8a4292ac",
   "metadata": {
    "scrolled": true
   },
   "outputs": [
    {
     "name": "stdout",
     "output_type": "stream",
     "text": [
      "CPU times: user 3.2 s, sys: 9.54 ms, total: 3.21 s\n",
      "Wall time: 3.21 s\n"
     ]
    }
   ],
   "source": [
    "%%time\n",
    "\n",
    "Vext = np.zeros_like(DFT.rho)\n",
    "\n",
    "X,Y,Z = np.meshgrid(DFT.x,DFT.y,DFT.z,indexing ='ij')\n",
    "for i, site in enumerate(structure):\n",
    "    R = np.sqrt((X-structure.cart_coords[i,0]+L[0]/2)**2 + (Y-structure.cart_coords[i,1]+L[1]/2)**2 + (Z-structure.cart_coords[i,2]+L[2]/2)**2)\n",
    "    Vext[:] += ljpotential(R,epsilonsf[i],sigmasf[i])\n",
    "\n",
    "del X,Y,Z,R\n",
    "\n",
    "# np.save('externalpotential-CH4-MOF5-DREIDING-T='+str(kT)+'K-'+str(dft.gridsize)+'.npy',Vext)\n",
    "# Vext[:] = np.load('externalpotential-CH4-MOF5-DREIDING-T='+str(kT)+'K-'+str(dft.gridsize)+'.npy')\n",
    "\n",
    "DFT.Set_External_Potential(Vext)"
   ]
  },
  {
   "cell_type": "code",
   "execution_count": 34,
   "id": "378dc636",
   "metadata": {},
   "outputs": [
    {
     "data": {
      "image/png": "[encoded data removed]",
      "text/plain": [
       "<Figure size 800x600 with 2 Axes>"
      ]
     },
     "metadata": {},
     "output_type": "display_data"
    }
   ],
   "source": [
    "plt.imshow(DFT.Vext[:,:,0], cmap='viridis',vmin=-1e2,vmax=1e4)\n",
    "plt.colorbar(label='Vext')\n",
    "plt.show()"
   ]
  },
  {
   "cell_type": "code",
   "execution_count": 23,
   "id": "9aa3dd2d",
   "metadata": {},
   "outputs": [],
   "source": [
    "Vextpos = Vext.copy()\n",
    "# Vextpos[Vextpos< 0.0] = 0.0"
   ]
  },
  {
   "cell_type": "code",
   "execution_count": 24,
   "id": "d96e469c",
   "metadata": {},
   "outputs": [],
   "source": [
    "Vpore = np.sum(np.exp(-DFT.beta*Vextpos))*DFT.dV"
   ]
  },
  {
   "cell_type": "code",
   "execution_count": 25,
   "id": "d05f5666",
   "metadata": {},
   "outputs": [
    {
     "data": {
      "text/plain": [
       "0.8031152018420536"
      ]
     },
     "execution_count": 25,
     "metadata": {},
     "output_type": "execute_result"
    }
   ],
   "source": [
    "Vpore/Vcell"
   ]
  },
  {
   "cell_type": "code",
   "execution_count": 97,
   "id": "9ae005b9",
   "metadata": {},
   "outputs": [],
   "source": [
    "# helium_void_fraction = Vpore/Vcell\n",
    "helium_void_fraction = 0.815"
   ]
  },
  {
   "cell_type": "code",
   "execution_count": 89,
   "id": "4dd9745c",
   "metadata": {},
   "outputs": [],
   "source": [
    "Vpore = helium_void_fraction*Vcell"
   ]
  },
  {
   "cell_type": "code",
   "execution_count": 90,
   "id": "1af09069",
   "metadata": {},
   "outputs": [
    {
     "ename": "NameError",
     "evalue": "name 'Nadsarray' is not defined",
     "output_type": "error",
     "traceback": [
      "\u001b[0;31m---------------------------------------------------------------------------\u001b[0m",
      "\u001b[0;31mNameError\u001b[0m                                 Traceback (most recent call last)",
      "Cell \u001b[0;32mIn[90], line 1\u001b[0m\n\u001b[0;32m----> 1\u001b[0m Nexcarray \u001b[38;5;241m=\u001b[39m \u001b[43mNadsarray\u001b[49m \u001b[38;5;241m-\u001b[39m rhobarray\u001b[38;5;241m*\u001b[39mVpore\n\u001b[1;32m      2\u001b[0m Mexcarray \u001b[38;5;241m=\u001b[39m Nexcarray\u001b[38;5;241m*\u001b[39mmff\n",
      "\u001b[0;31mNameError\u001b[0m: name 'Nadsarray' is not defined"
     ]
    }
   ],
   "source": [
    "Nexcarray = Nadsarray - rhobarray*Vpore\n",
    "Mexcarray = Nexcarray*mff"
   ]
  },
  {
   "cell_type": "code",
   "execution_count": null,
   "id": "aecf6fec",
   "metadata": {},
   "outputs": [],
   "source": [
    "import pandas as pd\n",
    "df = pd.DataFrame()"
   ]
  },
  {
   "cell_type": "code",
   "execution_count": null,
   "id": "64623c81",
   "metadata": {},
   "outputs": [],
   "source": []
  }
 ],
 "metadata": {
  "kernelspec": {
   "display_name": "Python 3 (ipykernel)",
   "language": "python",
   "name": "python3"
  },
  "language_info": {
   "codemirror_mode": {
    "name": "ipython",
    "version": 3
   },
   "file_extension": ".py",
   "mimetype": "text/x-python",
   "name": "python",
   "nbconvert_exporter": "python",
   "pygments_lexer": "ipython3",
   "version": "3.10.6"
  }
 },
 "nbformat": 4,
 "nbformat_minor": 5
}
