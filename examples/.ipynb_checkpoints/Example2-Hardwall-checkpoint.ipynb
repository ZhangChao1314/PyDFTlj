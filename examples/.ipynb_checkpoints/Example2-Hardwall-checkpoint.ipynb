{
 "cells": [
  {
   "cell_type": "code",
   "execution_count": 1,
   "id": "65da0a6d",
   "metadata": {},
   "outputs": [],
   "source": [
    "import numpy as np\n",
    "import matplotlib.pyplot as plt\n",
    "import sys\n",
    "sys.path.insert(0, '../src/pydftlj/')\n",
    "from dft1d import dft1d\n",
    "plt.style.use(['science','notebook'])\n",
    "# Author: Elvis do A. Soares\n",
    "# Github: @elvissoares\n",
    "# Date: 2022-10-06"
   ]
  },
  {
   "cell_type": "code",
   "execution_count": 2,
   "id": "8a4292ac",
   "metadata": {},
   "outputs": [],
   "source": [
    "MCdata = np.loadtxt('data/MC/lj-hardwall-rhob0.5-T1.35.dat')\n",
    "xMC,rhoMC = MCdata[:,0], MCdata[:,1]\n",
    "plt.scatter(xMC+0.5,rhoMC,marker='o',edgecolors='C0',facecolors='none',label='MC')\n",
    "plt.ylim(0.0,0.7)\n",
    "plt.xlim(0.0,6.0)\n",
    "plt.xlabel(r'$z/\\sigma$')\n",
    "plt.ylabel(r'$\\rho(z) \\sigma^3$')\n",
    "plt.text(4.5,0.6,r'$k_B T/\\epsilon = 1.35$',ha='center')\n",
    "plt.text(4.5,0.55,r'$\\rho_b \\sigma^3 = 0.5$',ha='center')\n",
    "plt.legend(loc='lower right',ncol=2)"
   ]
  },
  {
   "cell_type": "markdown",
   "id": "3a5fec44",
   "metadata": {},
   "source": [
    "# Defining the fluid properties"
   ]
  },
  {
   "cell_type": "code",
   "execution_count": 3,
   "id": "1e868a61",
   "metadata": {},
   "outputs": [],
   "source": [
    "# fluid properties\n",
    "sigma = 1.0\n",
    "epsilon = 1.0\n",
    "L = 12.0*sigma\n",
    "# Temperature and Density \n",
    "kT = 1.35\n",
    "rhob = 0.5"
   ]
  },
  {
   "cell_type": "markdown",
   "id": "9e0439b1",
   "metadata": {},
   "source": [
    "# Defining the functional \n",
    "\n",
    "## 1. HS functional"
   ]
  },
  {
   "cell_type": "code",
   "execution_count": 4,
   "id": "d87481d4",
   "metadata": {},
   "outputs": [],
   "source": [
    "# Test the HS functional \n",
    "hs = dft1d(fmtmethod='WBI',ljmethod='None',geometry='Planar')\n",
    "hs.Set_Geometry(L=L)\n",
    "hs.Set_FluidProperties(sigma=sigma,epsilon=epsilon)\n",
    "hs.Set_Temperature(kT)\n",
    "hs.Set_BulkDensity(rhob)\n",
    "hs.Set_External_Potential_Model(extpotmodel='hardwall')\n",
    "hs.Set_InitialCondition()\n",
    "hs.Calculate_Equilibrium(logoutput=False)"
   ]
  },
  {
   "cell_type": "markdown",
   "id": "f4ef3a8b",
   "metadata": {},
   "source": [
    "## 2. Mean-Field Functional (MFA)"
   ]
  },
  {
   "cell_type": "code",
   "execution_count": 5,
   "id": "8e971f53",
   "metadata": {},
   "outputs": [],
   "source": [
    "mfa = dft1d(fmtmethod='WBI',ljmethod='MFA',geometry='Planar')\n",
    "mfa.Set_Geometry(L=L)\n",
    "mfa.Set_FluidProperties(sigma=sigma,epsilon=epsilon)\n",
    "mfa.Set_Temperature(kT)\n",
    "mfa.Set_BulkDensity(rhob)\n",
    "mfa.Set_External_Potential_Model(extpotmodel='hardwall')\n",
    "mfa.Set_InitialCondition()\n",
    "mfa.Calculate_Equilibrium(logoutput=False)"
   ]
  },
  {
   "cell_type": "markdown",
   "id": "ec87b2be",
   "metadata": {},
   "source": [
    "## 3. Bulk-fluid density functional (BFD)"
   ]
  },
  {
   "cell_type": "code",
   "execution_count": 6,
   "id": "4c03bfb9",
   "metadata": {},
   "outputs": [],
   "source": [
    "bfd = dft1d(fmtmethod='WBI',ljmethod='BFD',geometry='Planar')\n",
    "bfd.Set_Geometry(L=L)\n",
    "bfd.Set_FluidProperties(sigma=sigma,epsilon=epsilon)\n",
    "bfd.Set_Temperature(kT)\n",
    "bfd.Set_BulkDensity(rhob)\n",
    "bfd.Set_External_Potential_Model(extpotmodel='hardwall')\n",
    "bfd.Set_InitialCondition()\n",
    "bfd.Calculate_Equilibrium(logoutput=False)"
   ]
  },
  {
   "cell_type": "markdown",
   "id": "f337f08a",
   "metadata": {},
   "source": [
    "## 4. Weigthed Density Approximation Functional (WDA)"
   ]
  },
  {
   "cell_type": "code",
   "execution_count": 7,
   "id": "0f971870",
   "metadata": {},
   "outputs": [],
   "source": [
    "wda = dft1d(fmtmethod='WBI',ljmethod='WDA',geometry='Planar')\n",
    "wda.Set_Geometry(L=L)\n",
    "wda.Set_FluidProperties(sigma=sigma,epsilon=epsilon)\n",
    "wda.Set_Temperature(kT)\n",
    "wda.Set_BulkDensity(rhob)\n",
    "wda.Set_External_Potential_Model(extpotmodel='hardwall')\n",
    "wda.Set_InitialCondition()\n",
    "wda.Calculate_Equilibrium(logoutput=False)"
   ]
  },
  {
   "cell_type": "markdown",
   "id": "816127f3",
   "metadata": {},
   "source": [
    "## 5. Modified Mean-Field Approximation Functional (MMFA)"
   ]
  },
  {
   "cell_type": "code",
   "execution_count": 8,
   "id": "369b5288",
   "metadata": {},
   "outputs": [],
   "source": [
    "mmfa = dft1d(fmtmethod='WBI',ljmethod='MMFA',geometry='Planar')\n",
    "mmfa.Set_Geometry(L=L)\n",
    "mmfa.Set_FluidProperties(sigma=sigma,epsilon=epsilon)\n",
    "mmfa.Set_Temperature(kT)\n",
    "mmfa.Set_BulkDensity(rhob)\n",
    "mmfa.Set_External_Potential_Model(extpotmodel='hardwall')\n",
    "mmfa.Set_InitialCondition()\n",
    "mmfa.Calculate_Equilibrium(logoutput=False)"
   ]
  },
  {
   "cell_type": "code",
   "execution_count": 9,
   "id": "4a83a8b9",
   "metadata": {},
   "outputs": [],
   "source": [
    "# def residual(lnrho,dft):\n",
    "#     dft.rho[:] = np.exp(lnrho)\n",
    "#     dft.Update_System()\n",
    "#     return dft.rho*(lnrho - dft.c1 - dft.beta*dft.mu + dft.beta*dft.Vext)"
   ]
  },
  {
   "cell_type": "code",
   "execution_count": 10,
   "id": "e67f09e6",
   "metadata": {},
   "outputs": [],
   "source": [
    "# from scipy.optimize import minimize, root\n",
    "\n",
    "# # sol = root(residual, np.log(mmfa.rho), args=(mmfa), method='krylov',options={'ftol':1e-3,'fatol':1e-5})\n",
    "# sol = root(residual, np.log(mmfa.rho), args=(mmfa), method='anderson',options={'ftol':1e-3,'fatol':1e-5})\n",
    "\n",
    "\n",
    "# mmfa.rho[:] = np.exp(sol.x)\n",
    "# mmfa.Update_System()"
   ]
  },
  {
   "cell_type": "code",
   "execution_count": 11,
   "id": "7dcaecb6",
   "metadata": {},
   "outputs": [],
   "source": [
    "# print('Residual: %g' % abs(residual(sol.x,mmfa)).max())"
   ]
  },
  {
   "cell_type": "markdown",
   "id": "d1225f7d",
   "metadata": {},
   "source": [
    "# Plotting all results"
   ]
  },
  {
   "cell_type": "code",
   "execution_count": 12,
   "id": "1f007175",
   "metadata": {
    "scrolled": true
   },
   "outputs": [],
   "source": [
    "plt.scatter(xMC+0.5,rhoMC,marker='o',edgecolors='C0',facecolors='none',label='MC')\n",
    "plt.plot(hs.z,hs.rho,':',color='grey',label='FMT')\n",
    "plt.plot(mfa.z,mfa.rho,':',color='C1',label='MFA')\n",
    "plt.plot(bfd.z,bfd.rho,'--',color='C2',label='BFD')\n",
    "plt.plot(wda.z,wda.rho,'-.',color='C3',label='WDA')\n",
    "plt.plot(mmfa.z,mmfa.rho,'-k',label='MMFA')\n",
    "plt.ylim(0.0,0.7)\n",
    "plt.xlim(0.0,6.0)\n",
    "plt.xlabel(r'$z/\\sigma$')\n",
    "plt.ylabel(r'$\\rho(z) \\sigma^3$')\n",
    "plt.text(4.5,0.6,r'$k_B T/\\epsilon = 1.35$',ha='center')\n",
    "plt.text(4.5,0.55,r'$\\rho_b \\sigma^3 = 0.5$',ha='center')\n",
    "plt.legend(loc='lower right',ncol=2)\n",
    "# plt.savefig('../figures/lj1d-hardwall-rhob=0.5-T=1.35.png',dpi=200)\n",
    "plt.show()\n"
   ]
  },
  {
   "cell_type": "markdown",
   "id": "cdfe512d",
   "metadata": {},
   "source": [
    "# Other example with different temperature and density"
   ]
  },
  {
   "cell_type": "code",
   "execution_count": 13,
   "id": "55a24e11",
   "metadata": {},
   "outputs": [],
   "source": [
    "MCdata = np.loadtxt('data/MC/lj-hardwall-rhob0.82-T1.35.dat')\n",
    "xMC,rhoMC = MCdata[:,0], MCdata[:,1]\n",
    "plt.scatter(xMC+0.5,rhoMC,marker='o',edgecolors='C0',facecolors='none',label='MC')\n",
    "plt.ylim(0.0,2.7)\n",
    "plt.xlim(0.0,6.0)\n",
    "plt.xlabel(r'$z/\\sigma$')\n",
    "plt.ylabel(r'$\\rho(z) \\sigma^3$')\n",
    "plt.text(4.5,0.5,r'$k_B T/\\epsilon = 1.35$',ha='center')\n",
    "plt.text(4.5,0.3,r'$\\rho_b \\sigma^3 = 0.82$',ha='center')\n",
    "plt.legend(loc='upper right',ncol=2)\n",
    "plt.show()"
   ]
  },
  {
   "cell_type": "code",
   "execution_count": 14,
   "id": "3080ea8e",
   "metadata": {},
   "outputs": [],
   "source": [
    "# Other example\n",
    "# Temperature and Density \n",
    "kT = 1.35\n",
    "rhob = 0.82\n",
    "# pure FMT \n",
    "hs.Set_Temperature(kT)\n",
    "hs.Set_BulkDensity(rhob)\n",
    "hs.Set_External_Potential_Model(extpotmodel='hardwall')\n",
    "hs.Set_InitialCondition()\n",
    "hs.Calculate_Equilibrium(logoutput=False)\n",
    "# MFA\n",
    "mfa.Set_Temperature(kT)\n",
    "mfa.Set_BulkDensity(rhob)\n",
    "mfa.Set_External_Potential_Model(extpotmodel='hardwall')\n",
    "mfa.Set_InitialCondition()\n",
    "mfa.Calculate_Equilibrium(logoutput=False)\n",
    "# BFD\n",
    "bfd.Set_Temperature(kT)\n",
    "bfd.Set_BulkDensity(rhob)\n",
    "bfd.Set_External_Potential_Model(extpotmodel='hardwall')\n",
    "bfd.Set_InitialCondition()\n",
    "bfd.Calculate_Equilibrium(logoutput=False)\n",
    "# WDA\n",
    "wda.Set_Temperature(kT)\n",
    "wda.Set_BulkDensity(rhob)\n",
    "wda.Set_External_Potential_Model(extpotmodel='hardwall')\n",
    "wda.Set_InitialCondition()\n",
    "wda.Calculate_Equilibrium(logoutput=False)\n",
    "# MMFA\n",
    "mmfa.Set_Temperature(kT)\n",
    "mmfa.Set_BulkDensity(rhob)\n",
    "mmfa.Set_External_Potential_Model(extpotmodel='hardwall')\n",
    "mmfa.Set_InitialCondition()\n",
    "mmfa.Calculate_Equilibrium(logoutput=False)\n",
    "#####\n",
    "MCdata = np.loadtxt('data/MC/lj-hardwall-rhob0.82-T1.35.dat')\n",
    "xMC,rhoMC = MCdata[:,0], MCdata[:,1]\n",
    "plt.scatter(xMC+0.5,rhoMC,marker='o',edgecolors='C0',facecolors='none',label='MC')\n",
    "plt.plot(hs.z,hs.rho,':',color='grey',label='FMT')\n",
    "plt.plot(mfa.z,mfa.rho,':',color='C1',label='MFA')\n",
    "plt.plot(bfd.z,bfd.rho,'--',color='C2',label='BFD')\n",
    "plt.plot(wda.z,wda.rho,'-.',color='C3',label='WDA')\n",
    "plt.plot(mmfa.z,mmfa.rho,'-k',label='MMFA')\n",
    "plt.ylim(0.0,2.7)\n",
    "plt.xlim(0.0,6.0)\n",
    "plt.xlabel(r'$z/\\sigma$')\n",
    "plt.ylabel(r'$\\rho(z) \\sigma^3$')\n",
    "plt.text(4.5,0.5,r'$k_B T/\\epsilon = 1.35$',ha='center')\n",
    "plt.text(4.5,0.3,r'$\\rho_b \\sigma^3 = 0.82$',ha='center')\n",
    "plt.legend(loc='upper right',ncol=2)\n",
    "# plt.savefig('../figures/lj1d-hardwall-rhob=0.82-T=1.35.png',dpi=200)\n",
    "plt.show()"
   ]
  },
  {
   "cell_type": "code",
   "execution_count": null,
   "id": "c922a937",
   "metadata": {},
   "outputs": [],
   "source": []
  }
 ],
 "metadata": {
  "kernelspec": {
   "display_name": "Python 3 (ipykernel)",
   "language": "python",
   "name": "python3"
  },
  "language_info": {
   "codemirror_mode": {
    "name": "ipython",
    "version": 3
   },
   "file_extension": ".py",
   "mimetype": "text/x-python",
   "name": "python",
   "nbconvert_exporter": "python",
   "pygments_lexer": "ipython3",
   "version": "3.10.6"
  }
 },
 "nbformat": 4,
 "nbformat_minor": 5
}
