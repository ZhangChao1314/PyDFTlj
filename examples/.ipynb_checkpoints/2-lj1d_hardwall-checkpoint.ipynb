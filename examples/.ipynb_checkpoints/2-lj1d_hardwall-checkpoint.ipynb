{
 "cells": [
  {
   "cell_type": "code",
   "execution_count": 1,
   "id": "65da0a6d",
   "metadata": {},
   "outputs": [],
   "source": [
    "import numpy as np\n",
    "import matplotlib.pyplot as plt\n",
    "import sys\n",
    "sys.path.insert(0, '../src/')\n",
    "from pydft1d import DFT1D\n",
    "plt.style.use(['science','notebook'])\n",
    "# Author: Elvis do A. Soares\n",
    "# Github: @elvissoares\n",
    "# Date: 2022-10-06"
   ]
  },
  {
   "cell_type": "code",
   "execution_count": 2,
   "id": "8a4292ac",
   "metadata": {},
   "outputs": [
    {
     "data": {
      "text/plain": [
       "<matplotlib.legend.Legend at 0x7f18d970e230>"
      ]
     },
     "execution_count": 2,
     "metadata": {},
     "output_type": "execute_result"
    },
    {
     "data": {
      "image/png": "[encoded data removed]",
      "text/plain": [
       "<Figure size 432x288 with 1 Axes>"
      ]
     },
     "metadata": {
      "needs_background": "light"
     },
     "output_type": "display_data"
    }
   ],
   "source": [
    "MCdata = np.loadtxt('../MCdata/lj-hardwall-rhob0.5-T1.35.dat')\n",
    "xMC,rhoMC = MCdata[:,0], MCdata[:,1]\n",
    "plt.scatter(xMC+0.5,rhoMC,marker='o',edgecolors='C0',facecolors='none',label='MC')\n",
    "plt.ylim(0.0,0.7)\n",
    "plt.xlim(0.0,6.0)\n",
    "plt.xlabel(r'$z/\\sigma$')\n",
    "plt.ylabel(r'$\\rho(z) \\sigma^3$')\n",
    "plt.text(4.5,0.6,r'$k_B T/\\epsilon = 1.35$',ha='center')\n",
    "plt.text(4.5,0.55,r'$\\rho_b \\sigma^3 = 0.5$',ha='center')\n",
    "plt.legend(loc='lower right',ncol=2)"
   ]
  },
  {
   "cell_type": "markdown",
   "id": "3a5fec44",
   "metadata": {},
   "source": [
    "# Defining the fluid properties"
   ]
  },
  {
   "cell_type": "code",
   "execution_count": 3,
   "id": "1e868a61",
   "metadata": {},
   "outputs": [],
   "source": [
    "# fluid properties\n",
    "sigma = 1.0\n",
    "epsilon = 1.0\n",
    "L = 20.0*sigma\n",
    "# Temperature and Density \n",
    "kT = 1.35\n",
    "rhob = 0.5"
   ]
  },
  {
   "cell_type": "markdown",
   "id": "9e0439b1",
   "metadata": {},
   "source": [
    "# Defining the functional \n",
    "\n",
    "## 1. HS functional"
   ]
  },
  {
   "cell_type": "code",
   "execution_count": 4,
   "id": "d87481d4",
   "metadata": {},
   "outputs": [
    {
     "name": "stdout",
     "output_type": "stream",
     "text": [
      "============== The DFT 1D for LJ fluids ==============\n",
      "FMT method: WBI\n",
      "LJ method: None\n",
      "Geometry: Planar\n",
      "Geometry properties:\n",
      "L = 20.0  A\n",
      "Fluid properties:\n",
      "epsilon/kB = 1.0  K\n",
      "sigma = 1.0  A\n",
      "Temperature = 1.35  K\n",
      "---- Setting bulk quantities ----\n",
      "Bulk Density: 0.5\n",
      "muid: -0.936\n",
      "muhs: 5.139\n",
      "muatt: 0.0\n",
      "---- Setting external potential ----\n",
      "External Potential model is: hardwall\n",
      "---- Obtaining the thermodynamic equilibrium ----\n",
      "Time to achieve equilibrium: 0.21342207898851484 sec\n",
      "Number of iterations: 121\n",
      "error: 9.791637e-07\n",
      "---- Equilibrium quantities ----\n",
      "Fid = -22.297\n",
      "Fexc = 20.4766\n",
      "Ncalc = 9.8827\n",
      "Nbulk = 10.0\n",
      "Omega = -43.3616\n",
      "================================\n"
     ]
    }
   ],
   "source": [
    "# Test the HS functional \n",
    "hs = DFT1D(fmtmethod='WBI',ljmethod='None',geometry='Planar')\n",
    "hs.Set_Geometry(L=L)\n",
    "hs.Set_FluidProperties(sigma=sigma,epsilon=epsilon)\n",
    "hs.Set_Temperature(kT)\n",
    "hs.Set_BulkDensity(rhob)\n",
    "hs.Set_External_Potential_Model(extpotmodel='hardwall')\n",
    "hs.Set_InitialCondition()\n",
    "hs.Calculate_Equilibrium(logoutput=False)"
   ]
  },
  {
   "cell_type": "markdown",
   "id": "f4ef3a8b",
   "metadata": {},
   "source": [
    "## 2. Mean-Field Functional (MFA)"
   ]
  },
  {
   "cell_type": "code",
   "execution_count": 5,
   "id": "8e971f53",
   "metadata": {},
   "outputs": [
    {
     "name": "stdout",
     "output_type": "stream",
     "text": [
      "============== The DFT 1D for LJ fluids ==============\n",
      "FMT method: WBI\n",
      "LJ method: MFA\n",
      "Geometry: Planar\n",
      "Geometry properties:\n",
      "L = 20.0  A\n",
      "Fluid properties:\n",
      "epsilon/kB = 1.0  K\n",
      "sigma = 1.0  A\n",
      "Temperature = 1.35  K\n",
      "Baker-Henderson diameter = 0.9671  A\n",
      "---- Setting bulk quantities ----\n",
      "Bulk Density: 0.5\n",
      "muid: -0.936\n",
      "muhs: 4.341\n",
      "muatt: -5.585\n",
      "---- Setting external potential ----\n",
      "External Potential model is: hardwall\n",
      "---- Obtaining the thermodynamic equilibrium ----\n",
      "Time to achieve equilibrium: 0.515094817004865 sec\n",
      "Number of iterations: 132\n",
      "error: 9.272271e-07\n",
      "---- Equilibrium quantities ----\n",
      "Fid = -22.0582\n",
      "Fexc = -9.0913\n",
      "Ncalc = 9.5272\n",
      "Nbulk = 10.0\n",
      "Omega = -10.3854\n",
      "================================\n"
     ]
    }
   ],
   "source": [
    "mfa = DFT1D(fmtmethod='WBI',ljmethod='MFA',geometry='Planar')\n",
    "mfa.Set_Geometry(L=L)\n",
    "mfa.Set_FluidProperties(sigma=sigma,epsilon=epsilon)\n",
    "mfa.Set_Temperature(kT)\n",
    "mfa.Set_BulkDensity(rhob)\n",
    "mfa.Set_External_Potential_Model(extpotmodel='hardwall')\n",
    "mfa.Set_InitialCondition()\n",
    "mfa.Calculate_Equilibrium(logoutput=False)"
   ]
  },
  {
   "cell_type": "markdown",
   "id": "ec87b2be",
   "metadata": {},
   "source": [
    "## 3. Bulk-fluid density functional (BFD)"
   ]
  },
  {
   "cell_type": "code",
   "execution_count": 6,
   "id": "4c03bfb9",
   "metadata": {},
   "outputs": [
    {
     "name": "stdout",
     "output_type": "stream",
     "text": [
      "============== The DFT 1D for LJ fluids ==============\n",
      "FMT method: WBI\n",
      "LJ method: BFD\n",
      "Geometry: Planar\n",
      "Geometry properties:\n",
      "L = 20.0  A\n",
      "Fluid properties:\n",
      "epsilon/kB = 1.0  K\n",
      "sigma = 1.0  A\n",
      "Temperature = 1.35  K\n",
      "Baker-Henderson diameter = 0.9671  A\n",
      "---- Setting bulk quantities ----\n",
      "Bulk Density: 0.5\n",
      "muid: -0.936\n",
      "muhs: 4.341\n",
      "muatt: -6.788\n",
      "---- Setting external potential ----\n",
      "External Potential model is: hardwall\n",
      "---- Obtaining the thermodynamic equilibrium ----\n",
      "Time to achieve equilibrium: 0.6904994169890415 sec\n",
      "Number of iterations: 117\n",
      "error: 9.831749e-07\n",
      "---- Equilibrium quantities ----\n",
      "Fid = -21.7527\n",
      "Fexc = -13.8467\n",
      "Ncalc = 9.2986\n",
      "Nbulk = 10.0\n",
      "Omega = -4.1479\n",
      "================================\n"
     ]
    }
   ],
   "source": [
    "bfd = DFT1D(fmtmethod='WBI',ljmethod='BFD',geometry='Planar')\n",
    "bfd.Set_Geometry(L=L)\n",
    "bfd.Set_FluidProperties(sigma=sigma,epsilon=epsilon)\n",
    "bfd.Set_Temperature(kT)\n",
    "bfd.Set_BulkDensity(rhob)\n",
    "bfd.Set_External_Potential_Model(extpotmodel='hardwall')\n",
    "bfd.Set_InitialCondition()\n",
    "bfd.Calculate_Equilibrium(logoutput=False)"
   ]
  },
  {
   "cell_type": "markdown",
   "id": "f337f08a",
   "metadata": {},
   "source": [
    "## 4. Weigthed Density Approximation Functional (WDA)"
   ]
  },
  {
   "cell_type": "code",
   "execution_count": 7,
   "id": "0f971870",
   "metadata": {},
   "outputs": [
    {
     "name": "stdout",
     "output_type": "stream",
     "text": [
      "============== The DFT 1D for LJ fluids ==============\n",
      "FMT method: WBI\n",
      "LJ method: WDA\n",
      "Geometry: Planar\n",
      "Geometry properties:\n",
      "L = 20.0  A\n",
      "Fluid properties:\n",
      "epsilon/kB = 1.0  K\n",
      "sigma = 1.0  A\n",
      "Temperature = 1.35  K\n",
      "Baker-Henderson diameter = 0.9671  A\n",
      "---- Setting bulk quantities ----\n",
      "Bulk Density: 0.5\n",
      "muid: -0.936\n",
      "muhs: 4.341\n",
      "muatt: -6.788\n",
      "---- Setting external potential ----\n",
      "External Potential model is: hardwall\n",
      "---- Obtaining the thermodynamic equilibrium ----\n",
      "Time to achieve equilibrium: 0.679060717986431 sec\n",
      "Number of iterations: 155\n",
      "error: 9.0707874e-07\n",
      "---- Equilibrium quantities ----\n",
      "Fid = -21.4709\n",
      "Fexc = -13.4076\n",
      "Ncalc = 9.0925\n",
      "Nbulk = 10.0\n",
      "Omega = -4.1244\n",
      "================================\n"
     ]
    }
   ],
   "source": [
    "wda = DFT1D(fmtmethod='WBI',ljmethod='WDA',geometry='Planar')\n",
    "wda.Set_Geometry(L=L)\n",
    "wda.Set_FluidProperties(sigma=sigma,epsilon=epsilon)\n",
    "wda.Set_Temperature(kT)\n",
    "wda.Set_BulkDensity(rhob)\n",
    "wda.Set_External_Potential_Model(extpotmodel='hardwall')\n",
    "wda.Set_InitialCondition()\n",
    "wda.Calculate_Equilibrium(logoutput=False)"
   ]
  },
  {
   "cell_type": "markdown",
   "id": "816127f3",
   "metadata": {},
   "source": [
    "## 5. Modified Mean-Field Approximation Functional (MMFA)"
   ]
  },
  {
   "cell_type": "code",
   "execution_count": 8,
   "id": "369b5288",
   "metadata": {},
   "outputs": [
    {
     "name": "stdout",
     "output_type": "stream",
     "text": [
      "============== The DFT 1D for LJ fluids ==============\n",
      "FMT method: WBI\n",
      "LJ method: MMFA\n",
      "Geometry: Planar\n",
      "Geometry properties:\n",
      "L = 20.0  A\n",
      "Fluid properties:\n",
      "epsilon/kB = 1.0  K\n",
      "sigma = 1.0  A\n",
      "Temperature = 1.35  K\n",
      "Baker-Henderson diameter = 0.9671  A\n",
      "---- Setting bulk quantities ----\n",
      "Bulk Density: 0.5\n",
      "muid: -0.936\n",
      "muhs: 4.341\n",
      "muatt: -6.788\n",
      "---- Setting external potential ----\n",
      "External Potential model is: hardwall\n",
      "---- Obtaining the thermodynamic equilibrium ----\n",
      "Time to achieve equilibrium: 0.8312563599902205 sec\n",
      "Number of iterations: 149\n",
      "error: 7.6204014e-07\n",
      "---- Equilibrium quantities ----\n",
      "Fid = -21.3924\n",
      "Fexc = -13.2924\n",
      "Ncalc = 9.0382\n",
      "Nbulk = 10.0\n",
      "Omega = -4.1144\n",
      "================================\n"
     ]
    }
   ],
   "source": [
    "mmfa = DFT1D(fmtmethod='WBI',ljmethod='MMFA',geometry='Planar')\n",
    "mmfa.Set_Geometry(L=L)\n",
    "mmfa.Set_FluidProperties(sigma=sigma,epsilon=epsilon)\n",
    "mmfa.Set_Temperature(kT)\n",
    "mmfa.Set_BulkDensity(rhob)\n",
    "mmfa.Set_External_Potential_Model(extpotmodel='hardwall')\n",
    "mmfa.Set_InitialCondition()\n",
    "mmfa.Calculate_Equilibrium(logoutput=False)"
   ]
  },
  {
   "cell_type": "markdown",
   "id": "d1225f7d",
   "metadata": {},
   "source": [
    "# Plotting all results"
   ]
  },
  {
   "cell_type": "code",
   "execution_count": 9,
   "id": "1f007175",
   "metadata": {},
   "outputs": [
    {
     "data": {
      "image/png": "[encoded data removed]",
      "text/plain": [
       "<Figure size 432x288 with 1 Axes>"
      ]
     },
     "metadata": {
      "needs_background": "light"
     },
     "output_type": "display_data"
    }
   ],
   "source": [
    "plt.scatter(xMC+0.5,rhoMC,marker='o',edgecolors='C0',facecolors='none',label='MC')\n",
    "plt.plot(hs.z,hs.rho,':',color='grey',label='FMT')\n",
    "plt.plot(mfa.z,mfa.rho,':',color='C1',label='MFA')\n",
    "plt.plot(bfd.z,bfd.rho,'--',color='C2',label='BFD')\n",
    "plt.plot(wda.z,wda.rho,'-.',color='C3',label='WDA')\n",
    "plt.plot(mmfa.z,mmfa.rho,'-k',label='MMFA')\n",
    "plt.ylim(0.0,0.7)\n",
    "plt.xlim(0.0,6.0)\n",
    "plt.xlabel(r'$z/\\sigma$')\n",
    "plt.ylabel(r'$\\rho(z) \\sigma^3$')\n",
    "plt.text(4.5,0.6,r'$k_B T/\\epsilon = 1.35$',ha='center')\n",
    "plt.text(4.5,0.55,r'$\\rho_b \\sigma^3 = 0.5$',ha='center')\n",
    "plt.legend(loc='lower right',ncol=2)\n",
    "# plt.savefig('../figures/lj1d-hardwall-rhob=0.5-T=1.35.png',dpi=200)\n",
    "plt.show()\n"
   ]
  },
  {
   "cell_type": "markdown",
   "id": "cdfe512d",
   "metadata": {},
   "source": [
    "# Other example with different temperature and density"
   ]
  },
  {
   "cell_type": "code",
   "execution_count": 10,
   "id": "3080ea8e",
   "metadata": {},
   "outputs": [
    {
     "name": "stdout",
     "output_type": "stream",
     "text": [
      "Temperature = 1.35  K\n",
      "---- Setting bulk quantities ----\n",
      "Bulk Density: 0.82\n",
      "muid: -0.268\n",
      "muhs: 14.625\n",
      "muatt: 0.0\n",
      "---- Setting external potential ----\n",
      "External Potential model is: hardwall\n",
      "---- Obtaining the thermodynamic equilibrium ----\n",
      "Time to achieve equilibrium: 1.0091530750214588 sec\n",
      "Number of iterations: 593\n",
      "error: 9.8556e-07\n",
      "---- Equilibrium quantities ----\n",
      "Fid = -25.2054\n",
      "Fexc = 78.0113\n",
      "Ncalc = 16.2801\n",
      "Nbulk = 16.4\n",
      "Omega = -180.9354\n",
      "================================\n",
      "Temperature = 1.35  K\n",
      "Baker-Henderson diameter = 0.9671  A\n",
      "---- Setting bulk quantities ----\n",
      "Bulk Density: 0.82\n",
      "muid: -0.268\n",
      "muhs: 11.358\n",
      "muatt: -9.159\n",
      "---- Setting external potential ----\n",
      "External Potential model is: hardwall\n",
      "---- Obtaining the thermodynamic equilibrium ----\n",
      "Time to achieve equilibrium: 0.546478862001095 sec\n",
      "Number of iterations: 135\n",
      "error: 9.296307e-07\n",
      "---- Equilibrium quantities ----\n",
      "Fid = -25.7208\n",
      "Fexc = -9.2742\n",
      "Ncalc = 16.0986\n",
      "Nbulk = 16.4\n",
      "Omega = -66.0746\n",
      "================================\n",
      "Temperature = 1.35  K\n",
      "Baker-Henderson diameter = 0.9671  A\n",
      "---- Setting bulk quantities ----\n",
      "Bulk Density: 0.82\n",
      "muid: -0.268\n",
      "muhs: 11.358\n",
      "muatt: -10.49\n",
      "---- Setting external potential ----\n",
      "External Potential model is: hardwall\n",
      "---- Obtaining the thermodynamic equilibrium ----\n",
      "Time to achieve equilibrium: 0.7425947640149388 sec\n",
      "Number of iterations: 123\n",
      "error: 9.547807e-07\n",
      "---- Equilibrium quantities ----\n",
      "Fid = -25.7486\n",
      "Fexc = -24.8011\n",
      "Ncalc = 16.0927\n",
      "Nbulk = 16.4\n",
      "Omega = -60.2014\n",
      "================================\n",
      "Temperature = 1.35  K\n",
      "Baker-Henderson diameter = 0.9671  A\n",
      "---- Setting bulk quantities ----\n",
      "Bulk Density: 0.82\n",
      "muid: -0.268\n",
      "muhs: 11.358\n",
      "muatt: -10.49\n",
      "---- Setting external potential ----\n",
      "External Potential model is: hardwall\n",
      "---- Obtaining the thermodynamic equilibrium ----\n",
      "Time to achieve equilibrium: 1.1132100929971784 sec\n",
      "Number of iterations: 254\n",
      "error: 9.952751e-07\n",
      "---- Equilibrium quantities ----\n",
      "Fid = -25.7524\n",
      "Fexc = -23.8758\n",
      "Ncalc = 16.1269\n",
      "Nbulk = 16.4\n",
      "Omega = -59.3004\n",
      "================================\n",
      "Temperature = 1.35  K\n",
      "Baker-Henderson diameter = 0.9671  A\n",
      "---- Setting bulk quantities ----\n",
      "Bulk Density: 0.82\n",
      "muid: -0.268\n",
      "muhs: 11.358\n",
      "muatt: -10.49\n",
      "---- Setting external potential ----\n",
      "External Potential model is: hardwall\n",
      "---- Obtaining the thermodynamic equilibrium ----\n",
      "Time to achieve equilibrium: 0.879476832022192 sec\n",
      "Number of iterations: 153\n",
      "error: 8.72545e-07\n",
      "---- Equilibrium quantities ----\n",
      "Fid = -25.767\n",
      "Fexc = -23.9977\n",
      "Ncalc = 16.0911\n",
      "Nbulk = 16.4\n",
      "Omega = -59.4156\n",
      "================================\n"
     ]
    },
    {
     "data": {
      "image/png": "[encoded data removed]",
      "text/plain": [
       "<Figure size 432x288 with 1 Axes>"
      ]
     },
     "metadata": {
      "needs_background": "light"
     },
     "output_type": "display_data"
    }
   ],
   "source": [
    "# Other example\n",
    "# Temperature and Density \n",
    "kT = 1.35\n",
    "rhob = 0.82\n",
    "# pure FMT \n",
    "hs.Set_Temperature(kT)\n",
    "hs.Set_BulkDensity(rhob)\n",
    "hs.Set_External_Potential_Model(extpotmodel='hardwall')\n",
    "hs.Set_InitialCondition()\n",
    "hs.Calculate_Equilibrium(logoutput=False)\n",
    "# MFA\n",
    "mfa.Set_Temperature(kT)\n",
    "mfa.Set_BulkDensity(rhob)\n",
    "mfa.Set_External_Potential_Model(extpotmodel='hardwall')\n",
    "mfa.Set_InitialCondition()\n",
    "mfa.Calculate_Equilibrium(logoutput=False)\n",
    "# BFD\n",
    "bfd.Set_Temperature(kT)\n",
    "bfd.Set_BulkDensity(rhob)\n",
    "bfd.Set_External_Potential_Model(extpotmodel='hardwall')\n",
    "bfd.Set_InitialCondition()\n",
    "bfd.Calculate_Equilibrium(logoutput=False)\n",
    "# WDA\n",
    "wda.Set_Temperature(kT)\n",
    "wda.Set_BulkDensity(rhob)\n",
    "wda.Set_External_Potential_Model(extpotmodel='hardwall')\n",
    "wda.Set_InitialCondition()\n",
    "wda.Calculate_Equilibrium(logoutput=False)\n",
    "# MMFA\n",
    "mmfa.Set_Temperature(kT)\n",
    "mmfa.Set_BulkDensity(rhob)\n",
    "mmfa.Set_External_Potential_Model(extpotmodel='hardwall')\n",
    "mmfa.Set_InitialCondition()\n",
    "mmfa.Calculate_Equilibrium(logoutput=False)\n",
    "#####\n",
    "MCdata = np.loadtxt('../MCdata/lj-hardwall-rhob0.82-T1.35.dat')\n",
    "xMC,rhoMC = MCdata[:,0], MCdata[:,1]\n",
    "plt.scatter(xMC+0.5,rhoMC,marker='o',edgecolors='C0',facecolors='none',label='MC')\n",
    "plt.plot(hs.z,hs.rho,':',color='grey',label='FMT')\n",
    "plt.plot(mfa.z,mfa.rho,':',color='C1',label='MFA')\n",
    "plt.plot(bfd.z,bfd.rho,'--',color='C2',label='BFD')\n",
    "plt.plot(wda.z,wda.rho,'-.',color='C3',label='WDA')\n",
    "plt.plot(mmfa.z,mmfa.rho,'-k',label='MMFA')\n",
    "plt.ylim(0.0,2.7)\n",
    "plt.xlim(0.0,6.0)\n",
    "plt.xlabel(r'$z/\\sigma$')\n",
    "plt.ylabel(r'$\\rho(z) \\sigma^3$')\n",
    "plt.text(4.5,0.5,r'$k_B T/\\epsilon = 1.35$',ha='center')\n",
    "plt.text(4.5,0.3,r'$\\rho_b \\sigma^3 = 0.82$',ha='center')\n",
    "plt.legend(loc='upper right',ncol=2)\n",
    "# plt.savefig('../figures/lj1d-hardwall-rhob=0.82-T=1.35.png',dpi=200)\n",
    "plt.show()"
   ]
  },
  {
   "cell_type": "code",
   "execution_count": null,
   "id": "c922a937",
   "metadata": {},
   "outputs": [],
   "source": []
  }
 ],
 "metadata": {
  "kernelspec": {
   "display_name": "Python 3 (ipykernel)",
   "language": "python",
   "name": "python3"
  },
  "language_info": {
   "codemirror_mode": {
    "name": "ipython",
    "version": 3
   },
   "file_extension": ".py",
   "mimetype": "text/x-python",
   "name": "python",
   "nbconvert_exporter": "python",
   "pygments_lexer": "ipython3",
   "version": "3.10.9"
  }
 },
 "nbformat": 4,
 "nbformat_minor": 5
}
