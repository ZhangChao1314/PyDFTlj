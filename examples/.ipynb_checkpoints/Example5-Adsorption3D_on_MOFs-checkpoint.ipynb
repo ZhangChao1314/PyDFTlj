{
 "cells": [
  {
   "cell_type": "code",
   "execution_count": 1,
   "id": "65da0a6d",
   "metadata": {},
   "outputs": [],
   "source": [
    "import numpy as np\n",
    "import pandas as pd\n",
    "import matplotlib.pyplot as plt\n",
    "plt.style.use(['science','notebook'])\n",
    "\n",
    "import sys\n",
    "sys.path.insert(0, '../src/')\n",
    "from dft3d import dft3d as dft\n",
    "\n",
    "from pymatgen.core import Structure\n",
    "from pymatgen.analysis import structure_matcher\n",
    "\n",
    "# Author: Elvis do A. Soares\n",
    "# Github: @elvissoares\n",
    "# Date: 2023-02-08"
   ]
  },
  {
   "cell_type": "markdown",
   "id": "6e1adc4b",
   "metadata": {},
   "source": [
    "## Solid CIF file Information"
   ]
  },
  {
   "cell_type": "code",
   "execution_count": 2,
   "id": "f01916f3",
   "metadata": {},
   "outputs": [
    {
     "name": "stdout",
     "output_type": "stream",
     "text": [
      "formula:   Zn32 H96 C192 O104\n",
      "num_sites: 424\n"
     ]
    }
   ],
   "source": [
    "structure = Structure.from_file('structures/MOF-5.cif')\n",
    "print('formula:  ', structure.formula)\n",
    "print('num_sites:', structure.num_sites)"
   ]
  },
  {
   "cell_type": "code",
   "execution_count": 3,
   "id": "c21e32a4",
   "metadata": {},
   "outputs": [],
   "source": [
    "coordinates = structure.cart_coords.T\n",
    "L = np.array([l for l in structure.lattice.lengths])"
   ]
  },
  {
   "cell_type": "code",
   "execution_count": 4,
   "id": "b8cb42ee",
   "metadata": {},
   "outputs": [
    {
     "data": {
      "text/html": [
       "<div>\n",
       "<style scoped>\n",
       "    .dataframe tbody tr th:only-of-type {\n",
       "        vertical-align: middle;\n",
       "    }\n",
       "\n",
       "    .dataframe tbody tr th {\n",
       "        vertical-align: top;\n",
       "    }\n",
       "\n",
       "    .dataframe thead th {\n",
       "        text-align: right;\n",
       "    }\n",
       "</style>\n",
       "<table border=\"1\" class=\"dataframe\">\n",
       "  <thead>\n",
       "    <tr style=\"text-align: right;\">\n",
       "      <th></th>\n",
       "      <th>atom</th>\n",
       "      <th>sigma/AA</th>\n",
       "      <th>epsilon/kB</th>\n",
       "      <th>mass/u</th>\n",
       "    </tr>\n",
       "  </thead>\n",
       "  <tbody>\n",
       "    <tr>\n",
       "      <th>0</th>\n",
       "      <td>H</td>\n",
       "      <td>2.84642</td>\n",
       "      <td>7.64893</td>\n",
       "      <td>1.00784</td>\n",
       "    </tr>\n",
       "    <tr>\n",
       "      <th>1</th>\n",
       "      <td>C</td>\n",
       "      <td>3.47299</td>\n",
       "      <td>47.85620</td>\n",
       "      <td>12.01070</td>\n",
       "    </tr>\n",
       "    <tr>\n",
       "      <th>2</th>\n",
       "      <td>N</td>\n",
       "      <td>3.26256</td>\n",
       "      <td>38.94920</td>\n",
       "      <td>14.00670</td>\n",
       "    </tr>\n",
       "    <tr>\n",
       "      <th>3</th>\n",
       "      <td>O</td>\n",
       "      <td>3.03315</td>\n",
       "      <td>48.15810</td>\n",
       "      <td>15.99900</td>\n",
       "    </tr>\n",
       "    <tr>\n",
       "      <th>4</th>\n",
       "      <td>Zn</td>\n",
       "      <td>4.04468</td>\n",
       "      <td>27.67710</td>\n",
       "      <td>65.38000</td>\n",
       "    </tr>\n",
       "  </tbody>\n",
       "</table>\n",
       "</div>"
      ],
      "text/plain": [
       "  atom  sigma/AA  epsilon/kB    mass/u\n",
       "0    H   2.84642     7.64893   1.00784\n",
       "1    C   3.47299    47.85620  12.01070\n",
       "2    N   3.26256    38.94920  14.00670\n",
       "3    O   3.03315    48.15810  15.99900\n",
       "4   Zn   4.04468    27.67710  65.38000"
      ]
     },
     "execution_count": 4,
     "metadata": {},
     "output_type": "execute_result"
    }
   ],
   "source": [
    "forcefield = pd.read_csv('../parameters/DREIDING-forcefield.dat',delim_whitespace=True)\n",
    "forcefield"
   ]
  },
  {
   "cell_type": "markdown",
   "id": "b487c80b",
   "metadata": {},
   "source": [
    "## Fluid Information"
   ]
  },
  {
   "cell_type": "code",
   "execution_count": 5,
   "id": "8f3b3fc9",
   "metadata": {},
   "outputs": [],
   "source": [
    "# Gross, J., & Sadowski, G. (2001). Industrial & Engineering Chemistry Research, 40(4), 1244–1260.\n",
    "epsilonff = 150.03 # kelvin\n",
    "sigmaff = 3.704 # angstrom"
   ]
  },
  {
   "cell_type": "markdown",
   "id": "0d547eee",
   "metadata": {},
   "source": [
    "# Create the DFT object"
   ]
  },
  {
   "cell_type": "code",
   "execution_count": 6,
   "id": "43e183f7",
   "metadata": {},
   "outputs": [],
   "source": [
    "DFT = dft(gridsize=np.array([64,64,64]),fmtmethod='WBI',ljmethod='MMFA')"
   ]
  },
  {
   "cell_type": "code",
   "execution_count": 7,
   "id": "23d08f54",
   "metadata": {},
   "outputs": [],
   "source": [
    "DFT.Set_Geometry(L)"
   ]
  },
  {
   "cell_type": "code",
   "execution_count": 8,
   "id": "b0e1fc5f",
   "metadata": {},
   "outputs": [
    {
     "name": "stdout",
     "output_type": "stream",
     "text": [
      "============== The DFT 3D for LJ fluids ==============\n",
      "Methods:\n",
      "FMT : WBI\n",
      "Attractive : MMFA\n",
      "The grid is [64 64 64]\n",
      "--- Geometry properties ---\n",
      "Lx = 25.86584  A\n",
      "Ly = 25.86584  A\n",
      "Lz = 25.86584  A\n",
      "Vol = 17305.325019903623  A³\n"
     ]
    }
   ],
   "source": [
    "DFT.GetSystemInformation()"
   ]
  },
  {
   "cell_type": "code",
   "execution_count": 9,
   "id": "9a7bc470",
   "metadata": {},
   "outputs": [],
   "source": [
    "DFT.Set_FluidProperties(sigma=sigmaff,epsilon=epsilonff)"
   ]
  },
  {
   "cell_type": "code",
   "execution_count": 10,
   "id": "da202a05",
   "metadata": {},
   "outputs": [
    {
     "name": "stdout",
     "output_type": "stream",
     "text": [
      "--- Fluid properties ---\n",
      "epsilon/kB = 150.03  K\n",
      "sigma = 3.704  A\n"
     ]
    }
   ],
   "source": [
    "DFT.GetFluidInformation()"
   ]
  },
  {
   "cell_type": "code",
   "execution_count": 11,
   "id": "00689b79",
   "metadata": {},
   "outputs": [],
   "source": [
    "kT = 300.0 # kelvin \n",
    "\n",
    "DFT.Set_Temperature(kT)"
   ]
  },
  {
   "cell_type": "code",
   "execution_count": 12,
   "id": "265a16fc",
   "metadata": {},
   "outputs": [
    {
     "name": "stdout",
     "output_type": "stream",
     "text": [
      "Temperature = 300.0  K\n",
      "Baker-Henderson diameter = 3.544  A\n"
     ]
    }
   ],
   "source": [
    "DFT.GetFluidTemperatureInformation()"
   ]
  },
  {
   "cell_type": "markdown",
   "id": "028fefb2",
   "metadata": {},
   "source": [
    "## Generating the External Potential"
   ]
  },
  {
   "cell_type": "code",
   "execution_count": 13,
   "id": "9867af79",
   "metadata": {},
   "outputs": [],
   "source": [
    "sigmasf = np.zeros(structure.num_sites)\n",
    "epsilonsf = np.zeros(structure.num_sites)\n",
    "mass = 0.0\n",
    "\n",
    "# Lorentz-Berthelot combination rule\n",
    "for i, site in enumerate(structure):\n",
    "    sigmasf[i] = 0.5*(sigmaff+forcefield[\"sigma/AA\"][forcefield[\"atom\"]==site.species_string])\n",
    "    epsilonsf[i] = np.sqrt(epsilonff*forcefield[\"epsilon/kB\"][forcefield[\"atom\"]==site.species_string])\n",
    "    mass = mass + float(forcefield[\"mass/u\"][forcefield[\"atom\"]==site.species_string])"
   ]
  },
  {
   "cell_type": "code",
   "execution_count": 14,
   "id": "6d1793e0",
   "metadata": {},
   "outputs": [],
   "source": [
    "def ljpotential(r,eps=1.0,sigma=1.0):\n",
    "    return 4*eps*((sigma/r)**(12)-(sigma/r)**(6))"
   ]
  },
  {
   "cell_type": "code",
   "execution_count": 15,
   "id": "8a4292ac",
   "metadata": {
    "scrolled": true
   },
   "outputs": [
    {
     "name": "stdout",
     "output_type": "stream",
     "text": [
      "CPU times: user 7.14 s, sys: 16.8 ms, total: 7.15 s\n",
      "Wall time: 7.15 s\n"
     ]
    }
   ],
   "source": [
    "%%time\n",
    "\n",
    "Vext = np.zeros_like(DFT.rho)\n",
    "\n",
    "X,Y,Z = np.meshgrid(DFT.x,DFT.y,DFT.z,indexing ='ij')\n",
    "for i, site in enumerate(structure):\n",
    "    R = np.sqrt((X-structure.cart_coords[i,0])**2 + (Y-structure.cart_coords[i,1])**2 + (Z-structure.cart_coords[i,2])**2)\n",
    "    Vext[:] += ljpotential(R,eps=epsilonsf[i],sigma=sigmasf[i])\n",
    "\n",
    "del X,Y,Z,R\n",
    "\n",
    "# np.save('externalpotential-CH4-MOF5-DREIDING-T='+str(kT)+'K-'+str(dft.gridsize)+'.npy',Vext)\n",
    "# Vext[:] = np.load('externalpotential-CH4-MOF5-DREIDING-T='+str(kT)+'K-'+str(dft.gridsize)+'.npy')\n",
    "\n",
    "DFT.Set_External_Potential(Vext)"
   ]
  },
  {
   "cell_type": "code",
   "execution_count": 16,
   "id": "378dc636",
   "metadata": {},
   "outputs": [
    {
     "data": {
      "image/png": "[encoded data removed]",
      "text/plain": [
       "<Figure size 800x600 with 2 Axes>"
      ]
     },
     "metadata": {},
     "output_type": "display_data"
    }
   ],
   "source": [
    "plt.imshow(DFT.Vext[:,:,10], cmap='viridis',vmin=-1e2,vmax=1e3)\n",
    "plt.colorbar(label='Vext')\n",
    "plt.show()"
   ]
  },
  {
   "cell_type": "code",
   "execution_count": 17,
   "id": "7ed3b696",
   "metadata": {},
   "outputs": [],
   "source": [
    "DFT.Set_BulkDensity(0.011)\n",
    "DFT.Set_InitialCondition()\n",
    "DFT.Update_System()"
   ]
  },
  {
   "cell_type": "code",
   "execution_count": 18,
   "id": "d918b4b0",
   "metadata": {},
   "outputs": [
    {
     "name": "stdout",
     "output_type": "stream",
     "text": [
      "Bulk Density: 0.011  particles/A³\n",
      "muid: -1352.958\n",
      "muhs: 1101.617\n",
      "muatt: -1117.379\n"
     ]
    }
   ],
   "source": [
    "DFT.GetFluidDensityInformation()"
   ]
  },
  {
   "cell_type": "code",
   "execution_count": 19,
   "id": "60e14826",
   "metadata": {},
   "outputs": [
    {
     "name": "stdout",
     "output_type": "stream",
     "text": [
      "0 -65592.40143348173 48.523422\n",
      "1 -80926.24359034272 43.90516\n",
      "2 -88613.97953476988 39.783596\n",
      "3 -93205.36664113968 36.01976\n",
      "4 -96126.33951231142 34.893654\n",
      "5 -98127.51232578394 34.97624\n",
      "6 -99567.79555066102 35.03839\n",
      "7 -100630.25139665788 35.08775\n",
      "8 -101424.74160174627 35.127647\n",
      "9 -102025.21197850007 35.159927\n",
      "10 -102483.95959471841 35.185932\n",
      "11 -102836.3156198268 35.20706\n",
      "12 -103107.81345174662 35.224495\n",
      "13 -103318.63561980343 35.238934\n",
      "14 -103482.74415283884 35.250973\n",
      "15 -103611.77699235907 35.261024\n",
      "16 -103712.89239764585 35.269505\n",
      "17 -103793.94219776707 35.276638\n",
      "18 -103856.65071994468 35.283012\n",
      "19 -103910.25814937046 35.289635\n",
      "Time to achieve equilibrium: 5.224652338001761 sec\n",
      "Number of iterations: 20\n",
      "error: 35.289635\n",
      "---- Equilibrium quantities ----\n",
      "Fid = -213359.87515640166\n",
      "Fexc = 2300.530901683902\n",
      "Omega = -103910.25814937046\n",
      "Nbulk = 190.35857521893985\n",
      "Nadstot = 153.07327474616474\n",
      "================================\n"
     ]
    }
   ],
   "source": [
    "DFT.Calculate_Equilibrium(alpha0=0.1,atol=1e-3,max_iter=20,method='picard',logoutput=True)"
   ]
  },
  {
   "cell_type": "code",
   "execution_count": 20,
   "id": "e1f5c7d8",
   "metadata": {},
   "outputs": [
    {
     "name": "stdout",
     "output_type": "stream",
     "text": [
      "0 -103912.20071249563 35.11347\n",
      "1 -103918.79280201539 34.514786\n",
      "2 -103931.38107335621 33.374672\n",
      "3 -103951.31880539424 31.557152\n",
      "4 -103979.66108660435 28.913334\n",
      "5 -104015.34559678608 25.290562\n",
      "6 -104054.40833657084 20.549076\n",
      "7 -104092.5040527248 14.589302\n",
      "8 -104129.55157419821 7.392781\n",
      "9 -104144.01157830605 1.1243653\n",
      "10 -104144.2219742078 1.1572089\n",
      "11 -104148.61730883027 1.1450462\n",
      "12 -104150.67307887338 1.1094956\n",
      "13 -104148.84649370114 1.0450597\n",
      "14 -104142.10280829071 0.9461317\n",
      "15 -104137.658473659 0.8070855\n",
      "16 -104137.66529986716 0.62243795\n",
      "17 -104121.82518515408 0.5412947\n",
      "18 -104113.90076848638 1.35896\n",
      "19 -104381.81362455733 306.37308\n"
     ]
    },
    {
     "name": "stderr",
     "output_type": "stream",
     "text": [
      "/home/elvis/Google Drive/Projetos em Andamento/3-DFT 3D for H2 storage in MOF/codes/PyDFTlj/examples/../src/dft3d.py:51: RuntimeWarning: invalid value encountered in log\n",
      "  return np.piecewise(eta,[eta<=1e-3,eta>1e-3],[lambda eta: 1-2*eta/9-eta**2/18,lambda eta: 2*(eta+np.log(1-eta)*(1-eta)**2)/(3*eta**2)])\n",
      "/home/elvis/Google Drive/Projetos em Andamento/3-DFT 3D for H2 storage in MOF/codes/PyDFTlj/examples/../src/dft3d.py:54: RuntimeWarning: invalid value encountered in log\n",
      "  return np.piecewise(eta,[eta<=1e-3,eta>1e-3],[lambda eta: -2/9-eta/9-eta**2/15.0,lambda eta: (2*(eta-2)*eta+4*(eta-1)*np.log(1-eta))/(3*eta**3)])\n",
      "/home/elvis/Google Drive/Projetos em Andamento/3-DFT 3D for H2 storage in MOF/codes/PyDFTlj/examples/../src/eos.py:35: RuntimeWarning: overflow encountered in power\n",
      "  G3 = -(F*rhostar**4-4*G2)/(2*gamma)\n",
      "/home/elvis/Google Drive/Projetos em Andamento/3-DFT 3D for H2 storage in MOF/codes/PyDFTlj/examples/../src/eos.py:35: RuntimeWarning: invalid value encountered in multiply\n",
      "  G3 = -(F*rhostar**4-4*G2)/(2*gamma)\n",
      "/home/elvis/Google Drive/Projetos em Andamento/3-DFT 3D for H2 storage in MOF/codes/PyDFTlj/examples/../src/eos.py:36: RuntimeWarning: overflow encountered in power\n",
      "  G4 = -(F*rhostar**6-6*G3)/(2*gamma)\n",
      "/home/elvis/Google Drive/Projetos em Andamento/3-DFT 3D for H2 storage in MOF/codes/PyDFTlj/examples/../src/eos.py:36: RuntimeWarning: invalid value encountered in multiply\n",
      "  G4 = -(F*rhostar**6-6*G3)/(2*gamma)\n",
      "/home/elvis/Google Drive/Projetos em Andamento/3-DFT 3D for H2 storage in MOF/codes/PyDFTlj/examples/../src/eos.py:37: RuntimeWarning: overflow encountered in power\n",
      "  G5 = -(F*rhostar**8-8*G4)/(2*gamma)\n",
      "/home/elvis/Google Drive/Projetos em Andamento/3-DFT 3D for H2 storage in MOF/codes/PyDFTlj/examples/../src/eos.py:37: RuntimeWarning: invalid value encountered in multiply\n",
      "  G5 = -(F*rhostar**8-8*G4)/(2*gamma)\n",
      "/home/elvis/Google Drive/Projetos em Andamento/3-DFT 3D for H2 storage in MOF/codes/PyDFTlj/examples/../src/eos.py:38: RuntimeWarning: overflow encountered in power\n",
      "  G6 = -(F*rhostar**10-10*G5)/(2*gamma)\n",
      "/home/elvis/Google Drive/Projetos em Andamento/3-DFT 3D for H2 storage in MOF/codes/PyDFTlj/examples/../src/eos.py:38: RuntimeWarning: invalid value encountered in multiply\n",
      "  G6 = -(F*rhostar**10-10*G5)/(2*gamma)\n",
      "/home/elvis/Google Drive/Projetos em Andamento/3-DFT 3D for H2 storage in MOF/codes/PyDFTlj/examples/../src/eos.py:47: RuntimeWarning: overflow encountered in power\n",
      "  G3 = -(dFdrhos*rhostar**4+4*F*rhostar**3-4*G2)/(2*gamma)\n",
      "/home/elvis/Google Drive/Projetos em Andamento/3-DFT 3D for H2 storage in MOF/codes/PyDFTlj/examples/../src/eos.py:47: RuntimeWarning: invalid value encountered in multiply\n",
      "  G3 = -(dFdrhos*rhostar**4+4*F*rhostar**3-4*G2)/(2*gamma)\n",
      "/home/elvis/Google Drive/Projetos em Andamento/3-DFT 3D for H2 storage in MOF/codes/PyDFTlj/examples/../src/eos.py:48: RuntimeWarning: overflow encountered in power\n",
      "  G4 = -(dFdrhos*rhostar**6+6*F*rhostar**5-6*G3)/(2*gamma)\n",
      "/home/elvis/Google Drive/Projetos em Andamento/3-DFT 3D for H2 storage in MOF/codes/PyDFTlj/examples/../src/eos.py:48: RuntimeWarning: invalid value encountered in multiply\n",
      "  G4 = -(dFdrhos*rhostar**6+6*F*rhostar**5-6*G3)/(2*gamma)\n",
      "/home/elvis/Google Drive/Projetos em Andamento/3-DFT 3D for H2 storage in MOF/codes/PyDFTlj/examples/../src/eos.py:49: RuntimeWarning: overflow encountered in power\n",
      "  G5 = -(dFdrhos*rhostar**8+8*F*rhostar**7-8*G4)/(2*gamma)\n",
      "/home/elvis/Google Drive/Projetos em Andamento/3-DFT 3D for H2 storage in MOF/codes/PyDFTlj/examples/../src/eos.py:49: RuntimeWarning: invalid value encountered in multiply\n",
      "  G5 = -(dFdrhos*rhostar**8+8*F*rhostar**7-8*G4)/(2*gamma)\n",
      "/home/elvis/Google Drive/Projetos em Andamento/3-DFT 3D for H2 storage in MOF/codes/PyDFTlj/examples/../src/eos.py:50: RuntimeWarning: overflow encountered in power\n",
      "  G6 = -(dFdrhos*rhostar**10+10*F*rhostar**9-10*G5)/(2*gamma)\n",
      "/home/elvis/Google Drive/Projetos em Andamento/3-DFT 3D for H2 storage in MOF/codes/PyDFTlj/examples/../src/eos.py:50: RuntimeWarning: invalid value encountered in multiply\n",
      "  G6 = -(dFdrhos*rhostar**10+10*F*rhostar**9-10*G5)/(2*gamma)\n",
      "/home/elvis/Google Drive/Projetos em Andamento/3-DFT 3D for H2 storage in MOF/codes/PyDFTlj/examples/../src/eos.py:108: RuntimeWarning: overflow encountered in power\n",
      "  fLJ = a[0]*rhostar + a[1]*rhostar**2/2+ a[2]*rhostar**3/3+a[3]*rhostar**4/4+a[4]*rhostar**5/5+a[5]*rhostar**6/6+a[6]*rhostar**7/7 + a[7]*rhostar**8/8\n",
      "/home/elvis/Google Drive/Projetos em Andamento/3-DFT 3D for H2 storage in MOF/codes/PyDFTlj/examples/../src/eos.py:108: RuntimeWarning: overflow encountered in multiply\n",
      "  fLJ = a[0]*rhostar + a[1]*rhostar**2/2+ a[2]*rhostar**3/3+a[3]*rhostar**4/4+a[4]*rhostar**5/5+a[5]*rhostar**6/6+a[6]*rhostar**7/7 + a[7]*rhostar**8/8\n",
      "/home/elvis/Google Drive/Projetos em Andamento/3-DFT 3D for H2 storage in MOF/codes/PyDFTlj/examples/../src/eos.py:108: RuntimeWarning: invalid value encountered in add\n",
      "  fLJ = a[0]*rhostar + a[1]*rhostar**2/2+ a[2]*rhostar**3/3+a[3]*rhostar**4/4+a[4]*rhostar**5/5+a[5]*rhostar**6/6+a[6]*rhostar**7/7 + a[7]*rhostar**8/8\n",
      "/home/elvis/Google Drive/Projetos em Andamento/3-DFT 3D for H2 storage in MOF/codes/PyDFTlj/examples/../src/eos.py:110: RuntimeWarning: overflow encountered in power\n",
      "  dfLJdrhostar = a[0] + a[1]*rhostar+ a[2]*rhostar**2+a[3]*rhostar**3+a[4]*rhostar**4+a[5]*rhostar**5+a[6]*rhostar**6 + a[7]*rhostar**7\n",
      "/home/elvis/Google Drive/Projetos em Andamento/3-DFT 3D for H2 storage in MOF/codes/PyDFTlj/examples/../src/eos.py:110: RuntimeWarning: overflow encountered in multiply\n",
      "  dfLJdrhostar = a[0] + a[1]*rhostar+ a[2]*rhostar**2+a[3]*rhostar**3+a[4]*rhostar**4+a[5]*rhostar**5+a[6]*rhostar**6 + a[7]*rhostar**7\n",
      "/home/elvis/Google Drive/Projetos em Andamento/3-DFT 3D for H2 storage in MOF/codes/PyDFTlj/examples/../src/eos.py:110: RuntimeWarning: invalid value encountered in add\n",
      "  dfLJdrhostar = a[0] + a[1]*rhostar+ a[2]*rhostar**2+a[3]*rhostar**3+a[4]*rhostar**4+a[5]*rhostar**5+a[6]*rhostar**6 + a[7]*rhostar**7\n",
      "/home/elvis/Google Drive/Projetos em Andamento/3-DFT 3D for H2 storage in MOF/codes/PyDFTlj/examples/../src/dft3d.py:288: RuntimeWarning: invalid value encountered in log\n",
      "  dPhidn0 = fftn(-np.log(self.oneminusn3 ))\n",
      "/home/elvis/Google Drive/Projetos em Andamento/3-DFT 3D for H2 storage in MOF/codes/PyDFTlj/examples/../src/dft3d.py:292: RuntimeWarning: overflow encountered in multiply\n",
      "  dPhidn3 = fftn(self.n0/self.oneminusn3 +(self.n1*self.n2-(self.n1vec[0]*self.n2vec[0]+self.n1vec[1]*self.n2vec[1]+self.n1vec[2]*self.n2vec[2]))*(self.dphi2dn3 + self.phi2/self.oneminusn3)/self.oneminusn3 + (self.n2*self.n2*self.n2-3*self.n2*(self.n2vec[0]*self.n2vec[0]+self.n2vec[1]*self.n2vec[1]+self.n2vec[2]*self.n2vec[2]))*(self.dphi3dn3+2*self.phi3/self.oneminusn3)/(24*np.pi*self.oneminusn3**2) )\n",
      "/home/elvis/Google Drive/Projetos em Andamento/3-DFT 3D for H2 storage in MOF/codes/PyDFTlj/examples/../src/dft3d.py:266: RuntimeWarning: invalid value encountered in log\n",
      "  phi = -self.n0*np.log(self.oneminusn3)+(self.phi2/self.oneminusn3)*(self.n1*self.n2-(self.n1vec[0]*self.n2vec[0]+self.n1vec[1]*self.n2vec[1]+self.n1vec[2]*self.n2vec[2])) + (self.phi3/(24*np.pi*self.oneminusn3**2))*(self.n2*self.n2*self.n2-3*self.n2*(self.n2vec[0]*self.n2vec[0]+self.n2vec[1]*self.n2vec[1]+self.n2vec[2]*self.n2vec[2]))\n",
      "/home/elvis/Google Drive/Projetos em Andamento/3-DFT 3D for H2 storage in MOF/codes/PyDFTlj/examples/../src/eos.py:96: RuntimeWarning: overflow encountered in power\n",
      "  fLJ = a[0]*rhostar + a[1]*rhostar**2/2+ a[2]*rhostar**3/3+a[3]*rhostar**4/4+a[4]*rhostar**5/5+a[5]*rhostar**6/6+a[6]*rhostar**7/7 + a[7]*rhostar**8/8\n",
      "/home/elvis/Google Drive/Projetos em Andamento/3-DFT 3D for H2 storage in MOF/codes/PyDFTlj/examples/../src/eos.py:96: RuntimeWarning: overflow encountered in multiply\n",
      "  fLJ = a[0]*rhostar + a[1]*rhostar**2/2+ a[2]*rhostar**3/3+a[3]*rhostar**4/4+a[4]*rhostar**5/5+a[5]*rhostar**6/6+a[6]*rhostar**7/7 + a[7]*rhostar**8/8\n",
      "/home/elvis/Google Drive/Projetos em Andamento/3-DFT 3D for H2 storage in MOF/codes/PyDFTlj/examples/../src/eos.py:96: RuntimeWarning: invalid value encountered in add\n",
      "  fLJ = a[0]*rhostar + a[1]*rhostar**2/2+ a[2]*rhostar**3/3+a[3]*rhostar**4/4+a[4]*rhostar**5/5+a[5]*rhostar**6/6+a[6]*rhostar**7/7 + a[7]*rhostar**8/8\n"
     ]
    },
    {
     "name": "stdout",
     "output_type": "stream",
     "text": [
      "20 nan nan\n",
      "21 nan nan\n",
      "22 nan nan\n",
      "23 nan nan\n",
      "24 nan nan\n",
      "25 nan nan\n"
     ]
    },
    {
     "ename": "KeyboardInterrupt",
     "evalue": "",
     "output_type": "error",
     "traceback": [
      "\u001b[0;31m---------------------------------------------------------------------------\u001b[0m",
      "\u001b[0;31mKeyboardInterrupt\u001b[0m                         Traceback (most recent call last)",
      "Cell \u001b[0;32mIn[20], line 1\u001b[0m\n\u001b[0;32m----> 1\u001b[0m \u001b[43mDFT\u001b[49m\u001b[38;5;241;43m.\u001b[39;49m\u001b[43mCalculate_Equilibrium\u001b[49m\u001b[43m(\u001b[49m\u001b[43malpha0\u001b[49m\u001b[38;5;241;43m=\u001b[39;49m\u001b[38;5;241;43m0.15\u001b[39;49m\u001b[43m,\u001b[49m\u001b[43mdt\u001b[49m\u001b[38;5;241;43m=\u001b[39;49m\u001b[38;5;241;43m0.1\u001b[39;49m\u001b[43m,\u001b[49m\u001b[43matol\u001b[49m\u001b[38;5;241;43m=\u001b[39;49m\u001b[38;5;241;43m1e-5\u001b[39;49m\u001b[43m,\u001b[49m\u001b[43mmethod\u001b[49m\u001b[38;5;241;43m=\u001b[39;49m\u001b[38;5;124;43m'\u001b[39;49m\u001b[38;5;124;43mfire\u001b[39;49m\u001b[38;5;124;43m'\u001b[39;49m\u001b[43m,\u001b[49m\u001b[43mlogoutput\u001b[49m\u001b[38;5;241;43m=\u001b[39;49m\u001b[38;5;28;43;01mTrue\u001b[39;49;00m\u001b[43m)\u001b[49m\n",
      "File \u001b[0;32m~/Google Drive/Projetos em Andamento/3-DFT 3D for H2 storage in MOF/codes/PyDFTlj/examples/../src/dft3d.py:431\u001b[0m, in \u001b[0;36mdft3d.Calculate_Equilibrium\u001b[0;34m(self, alpha0, dt, atol, max_iter, method, logoutput)\u001b[0m\n\u001b[1;32m    429\u001b[0m \u001b[38;5;28mself\u001b[39m\u001b[38;5;241m.\u001b[39mrho[:] \u001b[38;5;241m=\u001b[39m np\u001b[38;5;241m.\u001b[39mexp(lnrho)\n\u001b[1;32m    430\u001b[0m \u001b[38;5;28mself\u001b[39m\u001b[38;5;241m.\u001b[39mrho[\u001b[38;5;28mself\u001b[39m\u001b[38;5;241m.\u001b[39mmask] \u001b[38;5;241m=\u001b[39m \u001b[38;5;241m1.0e-16\u001b[39m\n\u001b[0;32m--> 431\u001b[0m \u001b[38;5;28;43mself\u001b[39;49m\u001b[38;5;241;43m.\u001b[39;49m\u001b[43mUpdate_System\u001b[49m\u001b[43m(\u001b[49m\u001b[43m)\u001b[49m\n\u001b[1;32m    432\u001b[0m F[:] \u001b[38;5;241m=\u001b[39m \u001b[38;5;241m-\u001b[39m(lnrho \u001b[38;5;241m-\u001b[39m \u001b[38;5;28mself\u001b[39m\u001b[38;5;241m.\u001b[39mc1 \u001b[38;5;241m-\u001b[39m \u001b[38;5;28mself\u001b[39m\u001b[38;5;241m.\u001b[39mbeta\u001b[38;5;241m*\u001b[39m\u001b[38;5;28mself\u001b[39m\u001b[38;5;241m.\u001b[39mmu \u001b[38;5;241m+\u001b[39m \u001b[38;5;28mself\u001b[39m\u001b[38;5;241m.\u001b[39mbeta\u001b[38;5;241m*\u001b[39m\u001b[38;5;28mself\u001b[39m\u001b[38;5;241m.\u001b[39mVext)\n\u001b[1;32m    433\u001b[0m V[:] \u001b[38;5;241m+\u001b[39m\u001b[38;5;241m=\u001b[39m \u001b[38;5;241m0.5\u001b[39m\u001b[38;5;241m*\u001b[39mdt\u001b[38;5;241m*\u001b[39mF\n",
      "File \u001b[0;32m~/Google Drive/Projetos em Andamento/3-DFT 3D for H2 storage in MOF/codes/PyDFTlj/examples/../src/dft3d.py:217\u001b[0m, in \u001b[0;36mdft3d.Update_System\u001b[0;34m(self)\u001b[0m\n\u001b[1;32m    216\u001b[0m \u001b[38;5;28;01mdef\u001b[39;00m \u001b[38;5;21mUpdate_System\u001b[39m(\u001b[38;5;28mself\u001b[39m):\n\u001b[0;32m--> 217\u001b[0m     \u001b[38;5;28;43mself\u001b[39;49m\u001b[38;5;241;43m.\u001b[39;49m\u001b[43mCalculate_weighted_densities\u001b[49m\u001b[43m(\u001b[49m\u001b[43m)\u001b[49m\n\u001b[1;32m    218\u001b[0m     \u001b[38;5;28mself\u001b[39m\u001b[38;5;241m.\u001b[39mCalculate_c1()\n\u001b[1;32m    219\u001b[0m     \u001b[38;5;28mself\u001b[39m\u001b[38;5;241m.\u001b[39mCalculate_Omega()\n",
      "File \u001b[0;32m~/Google Drive/Projetos em Andamento/3-DFT 3D for H2 storage in MOF/codes/PyDFTlj/examples/../src/dft3d.py:261\u001b[0m, in \u001b[0;36mdft3d.Calculate_weighted_densities\u001b[0;34m(self)\u001b[0m\n\u001b[1;32m    259\u001b[0m \u001b[38;5;28mself\u001b[39m\u001b[38;5;241m.\u001b[39mrhobar[:] \u001b[38;5;241m=\u001b[39m ifftn(\u001b[38;5;28mself\u001b[39m\u001b[38;5;241m.\u001b[39mrho_hat\u001b[38;5;241m*\u001b[39m\u001b[38;5;28mself\u001b[39m\u001b[38;5;241m.\u001b[39mw3_hat\u001b[38;5;241m/\u001b[39m(np\u001b[38;5;241m.\u001b[39mpi\u001b[38;5;241m*\u001b[39m\u001b[38;5;28mself\u001b[39m\u001b[38;5;241m.\u001b[39md\u001b[38;5;241m*\u001b[39m\u001b[38;5;241m*\u001b[39m\u001b[38;5;241m3\u001b[39m\u001b[38;5;241m/\u001b[39m\u001b[38;5;241m6\u001b[39m))\u001b[38;5;241m.\u001b[39mreal\n\u001b[1;32m    260\u001b[0m \u001b[38;5;28mself\u001b[39m\u001b[38;5;241m.\u001b[39muint[:] \u001b[38;5;241m=\u001b[39m ifftn(\u001b[38;5;28mself\u001b[39m\u001b[38;5;241m.\u001b[39mrho_hat\u001b[38;5;241m*\u001b[39m\u001b[38;5;28mself\u001b[39m\u001b[38;5;241m.\u001b[39mulj_hat)\u001b[38;5;241m.\u001b[39mreal\n\u001b[0;32m--> 261\u001b[0m \u001b[38;5;28mself\u001b[39m\u001b[38;5;241m.\u001b[39mmucore_hat[:] \u001b[38;5;241m=\u001b[39m fftn(\u001b[38;5;28;43mself\u001b[39;49m\u001b[38;5;241;43m.\u001b[39;49m\u001b[43mmucore\u001b[49m\u001b[43m(\u001b[49m\u001b[38;5;28;43mself\u001b[39;49m\u001b[38;5;241;43m.\u001b[39;49m\u001b[43mrhobar\u001b[49m\u001b[43m)\u001b[49m)\n",
      "File \u001b[0;32m~/Google Drive/Projetos em Andamento/3-DFT 3D for H2 storage in MOF/codes/PyDFTlj/examples/../src/dft3d.py:157\u001b[0m, in \u001b[0;36mdft3d.Set_Temperature.<locals>.<lambda>\u001b[0;34m(rr)\u001b[0m\n\u001b[1;32m    155\u001b[0m ljeos \u001b[38;5;241m=\u001b[39m LJEOS(sigma\u001b[38;5;241m=\u001b[39m\u001b[38;5;28mself\u001b[39m\u001b[38;5;241m.\u001b[39msigma,epsilon\u001b[38;5;241m=\u001b[39m\u001b[38;5;28mself\u001b[39m\u001b[38;5;241m.\u001b[39mepsilon)\n\u001b[1;32m    156\u001b[0m \u001b[38;5;28mself\u001b[39m\u001b[38;5;241m.\u001b[39mfcore \u001b[38;5;241m=\u001b[39m \u001b[38;5;28;01mlambda\u001b[39;00m rr: ljeos\u001b[38;5;241m.\u001b[39mfatt(rr,\u001b[38;5;28mself\u001b[39m\u001b[38;5;241m.\u001b[39mkT) \u001b[38;5;241m-\u001b[39m \u001b[38;5;241m0.5\u001b[39m\u001b[38;5;241m*\u001b[39m\u001b[38;5;28mself\u001b[39m\u001b[38;5;241m.\u001b[39mamft\u001b[38;5;241m*\u001b[39mrr\u001b[38;5;241m*\u001b[39m\u001b[38;5;241m*\u001b[39m\u001b[38;5;241m2\u001b[39m\n\u001b[0;32m--> 157\u001b[0m \u001b[38;5;28mself\u001b[39m\u001b[38;5;241m.\u001b[39mmucore \u001b[38;5;241m=\u001b[39m \u001b[38;5;28;01mlambda\u001b[39;00m rr: \u001b[43mljeos\u001b[49m\u001b[38;5;241;43m.\u001b[39;49m\u001b[43mmuatt\u001b[49m\u001b[43m(\u001b[49m\u001b[43mrr\u001b[49m\u001b[43m,\u001b[49m\u001b[38;5;28;43mself\u001b[39;49m\u001b[38;5;241;43m.\u001b[39;49m\u001b[43mkT\u001b[49m\u001b[43m)\u001b[49m \u001b[38;5;241m-\u001b[39m \u001b[38;5;28mself\u001b[39m\u001b[38;5;241m.\u001b[39mamft\u001b[38;5;241m*\u001b[39mrr\n\u001b[1;32m    158\u001b[0m \u001b[38;5;28mself\u001b[39m\u001b[38;5;241m.\u001b[39mulj_hat \u001b[38;5;241m=\u001b[39m ljBH3dFT(\u001b[38;5;28mself\u001b[39m\u001b[38;5;241m.\u001b[39mK,\u001b[38;5;28mself\u001b[39m\u001b[38;5;241m.\u001b[39msigma,\u001b[38;5;28mself\u001b[39m\u001b[38;5;241m.\u001b[39mepsilon)\u001b[38;5;241m*\u001b[39msigmaLancsozFT(\u001b[38;5;28mself\u001b[39m\u001b[38;5;241m.\u001b[39mKx,\u001b[38;5;28mself\u001b[39m\u001b[38;5;241m.\u001b[39mKy,\u001b[38;5;28mself\u001b[39m\u001b[38;5;241m.\u001b[39mKz,\u001b[38;5;28mself\u001b[39m\u001b[38;5;241m.\u001b[39mkcut)\u001b[38;5;241m*\u001b[39mtranslationFT(\u001b[38;5;28mself\u001b[39m\u001b[38;5;241m.\u001b[39mKx,\u001b[38;5;28mself\u001b[39m\u001b[38;5;241m.\u001b[39mKy,\u001b[38;5;28mself\u001b[39m\u001b[38;5;241m.\u001b[39mKz,\u001b[38;5;241m0.5\u001b[39m\u001b[38;5;241m*\u001b[39m\u001b[38;5;28mself\u001b[39m\u001b[38;5;241m.\u001b[39mL)\n",
      "File \u001b[0;32m~/Google Drive/Projetos em Andamento/3-DFT 3D for H2 storage in MOF/codes/PyDFTlj/examples/../src/eos.py:159\u001b[0m, in \u001b[0;36mLJEOS.muatt\u001b[0;34m(self, rho, kT)\u001b[0m\n\u001b[1;32m    157\u001b[0m d \u001b[38;5;241m=\u001b[39m BHdiameter(kT,sigma\u001b[38;5;241m=\u001b[39m\u001b[38;5;28mself\u001b[39m\u001b[38;5;241m.\u001b[39msigma,epsilon\u001b[38;5;241m=\u001b[39m\u001b[38;5;28mself\u001b[39m\u001b[38;5;241m.\u001b[39mepsilon)\n\u001b[1;32m    158\u001b[0m eta \u001b[38;5;241m=\u001b[39m rho\u001b[38;5;241m*\u001b[39mnp\u001b[38;5;241m.\u001b[39mpi\u001b[38;5;241m*\u001b[39md\u001b[38;5;241m*\u001b[39m\u001b[38;5;241m*\u001b[39m\u001b[38;5;241m3\u001b[39m\u001b[38;5;241m/\u001b[39m\u001b[38;5;241m6\u001b[39m\n\u001b[0;32m--> 159\u001b[0m \u001b[38;5;28;01mreturn\u001b[39;00m \u001b[38;5;28;43mself\u001b[39;49m\u001b[38;5;241;43m.\u001b[39;49m\u001b[43mmu\u001b[49m\u001b[43m(\u001b[49m\u001b[43mrho\u001b[49m\u001b[43m,\u001b[49m\u001b[43mkT\u001b[49m\u001b[43m)\u001b[49m \u001b[38;5;241m-\u001b[39m kT\u001b[38;5;241m*\u001b[39m(\u001b[38;5;241m3\u001b[39m\u001b[38;5;241m*\u001b[39meta\u001b[38;5;241m*\u001b[39m\u001b[38;5;241m*\u001b[39m\u001b[38;5;241m3\u001b[39m\u001b[38;5;241m-\u001b[39m\u001b[38;5;241m9\u001b[39m\u001b[38;5;241m*\u001b[39meta\u001b[38;5;241m*\u001b[39m\u001b[38;5;241m*\u001b[39m\u001b[38;5;241m2\u001b[39m\u001b[38;5;241m+\u001b[39m\u001b[38;5;241m8\u001b[39m\u001b[38;5;241m*\u001b[39meta)\u001b[38;5;241m/\u001b[39m((\u001b[38;5;241m1\u001b[39m\u001b[38;5;241m-\u001b[39meta)\u001b[38;5;241m*\u001b[39m\u001b[38;5;241m*\u001b[39m\u001b[38;5;241m3\u001b[39m)\n",
      "File \u001b[0;32m~/Google Drive/Projetos em Andamento/3-DFT 3D for H2 storage in MOF/codes/PyDFTlj/examples/../src/eos.py:107\u001b[0m, in \u001b[0;36mLJEOS.mu\u001b[0;34m(self, rho, kT)\u001b[0m\n\u001b[1;32m    105\u001b[0m b \u001b[38;5;241m=\u001b[39m bcoef(kTstar,\u001b[38;5;28mself\u001b[39m\u001b[38;5;241m.\u001b[39mmodel)\n\u001b[1;32m    106\u001b[0m G \u001b[38;5;241m=\u001b[39m Gfunc(rhostar)\n\u001b[0;32m--> 107\u001b[0m dGdrhos \u001b[38;5;241m=\u001b[39m \u001b[43mdGfuncdrhos\u001b[49m\u001b[43m(\u001b[49m\u001b[43mrhostar\u001b[49m\u001b[43m)\u001b[49m\n\u001b[1;32m    108\u001b[0m fLJ \u001b[38;5;241m=\u001b[39m a[\u001b[38;5;241m0\u001b[39m]\u001b[38;5;241m*\u001b[39mrhostar \u001b[38;5;241m+\u001b[39m a[\u001b[38;5;241m1\u001b[39m]\u001b[38;5;241m*\u001b[39mrhostar\u001b[38;5;241m*\u001b[39m\u001b[38;5;241m*\u001b[39m\u001b[38;5;241m2\u001b[39m\u001b[38;5;241m/\u001b[39m\u001b[38;5;241m2\u001b[39m\u001b[38;5;241m+\u001b[39m a[\u001b[38;5;241m2\u001b[39m]\u001b[38;5;241m*\u001b[39mrhostar\u001b[38;5;241m*\u001b[39m\u001b[38;5;241m*\u001b[39m\u001b[38;5;241m3\u001b[39m\u001b[38;5;241m/\u001b[39m\u001b[38;5;241m3\u001b[39m\u001b[38;5;241m+\u001b[39ma[\u001b[38;5;241m3\u001b[39m]\u001b[38;5;241m*\u001b[39mrhostar\u001b[38;5;241m*\u001b[39m\u001b[38;5;241m*\u001b[39m\u001b[38;5;241m4\u001b[39m\u001b[38;5;241m/\u001b[39m\u001b[38;5;241m4\u001b[39m\u001b[38;5;241m+\u001b[39ma[\u001b[38;5;241m4\u001b[39m]\u001b[38;5;241m*\u001b[39mrhostar\u001b[38;5;241m*\u001b[39m\u001b[38;5;241m*\u001b[39m\u001b[38;5;241m5\u001b[39m\u001b[38;5;241m/\u001b[39m\u001b[38;5;241m5\u001b[39m\u001b[38;5;241m+\u001b[39ma[\u001b[38;5;241m5\u001b[39m]\u001b[38;5;241m*\u001b[39mrhostar\u001b[38;5;241m*\u001b[39m\u001b[38;5;241m*\u001b[39m\u001b[38;5;241m6\u001b[39m\u001b[38;5;241m/\u001b[39m\u001b[38;5;241m6\u001b[39m\u001b[38;5;241m+\u001b[39ma[\u001b[38;5;241m6\u001b[39m]\u001b[38;5;241m*\u001b[39mrhostar\u001b[38;5;241m*\u001b[39m\u001b[38;5;241m*\u001b[39m\u001b[38;5;241m7\u001b[39m\u001b[38;5;241m/\u001b[39m\u001b[38;5;241m7\u001b[39m \u001b[38;5;241m+\u001b[39m a[\u001b[38;5;241m7\u001b[39m]\u001b[38;5;241m*\u001b[39mrhostar\u001b[38;5;241m*\u001b[39m\u001b[38;5;241m*\u001b[39m\u001b[38;5;241m8\u001b[39m\u001b[38;5;241m/\u001b[39m\u001b[38;5;241m8\u001b[39m\n\u001b[1;32m    109\u001b[0m fLJ \u001b[38;5;241m+\u001b[39m\u001b[38;5;241m=\u001b[39m b[\u001b[38;5;241m0\u001b[39m]\u001b[38;5;241m*\u001b[39mG[\u001b[38;5;241m0\u001b[39m]\u001b[38;5;241m+\u001b[39mb[\u001b[38;5;241m1\u001b[39m]\u001b[38;5;241m*\u001b[39mG[\u001b[38;5;241m1\u001b[39m]\u001b[38;5;241m+\u001b[39mb[\u001b[38;5;241m2\u001b[39m]\u001b[38;5;241m*\u001b[39mG[\u001b[38;5;241m2\u001b[39m]\u001b[38;5;241m+\u001b[39mb[\u001b[38;5;241m3\u001b[39m]\u001b[38;5;241m*\u001b[39mG[\u001b[38;5;241m3\u001b[39m]\u001b[38;5;241m+\u001b[39mb[\u001b[38;5;241m4\u001b[39m]\u001b[38;5;241m*\u001b[39mG[\u001b[38;5;241m4\u001b[39m]\u001b[38;5;241m+\u001b[39mb[\u001b[38;5;241m5\u001b[39m]\u001b[38;5;241m*\u001b[39mG[\u001b[38;5;241m5\u001b[39m]\n",
      "File \u001b[0;32m~/Google Drive/Projetos em Andamento/3-DFT 3D for H2 storage in MOF/codes/PyDFTlj/examples/../src/eos.py:51\u001b[0m, in \u001b[0;36mdGfuncdrhos\u001b[0;34m(rhostar)\u001b[0m\n\u001b[1;32m     49\u001b[0m G5 \u001b[38;5;241m=\u001b[39m \u001b[38;5;241m-\u001b[39m(dFdrhos\u001b[38;5;241m*\u001b[39mrhostar\u001b[38;5;241m*\u001b[39m\u001b[38;5;241m*\u001b[39m\u001b[38;5;241m8\u001b[39m\u001b[38;5;241m+\u001b[39m\u001b[38;5;241m8\u001b[39m\u001b[38;5;241m*\u001b[39mF\u001b[38;5;241m*\u001b[39mrhostar\u001b[38;5;241m*\u001b[39m\u001b[38;5;241m*\u001b[39m\u001b[38;5;241m7\u001b[39m\u001b[38;5;241m-\u001b[39m\u001b[38;5;241m8\u001b[39m\u001b[38;5;241m*\u001b[39mG4)\u001b[38;5;241m/\u001b[39m(\u001b[38;5;241m2\u001b[39m\u001b[38;5;241m*\u001b[39mgamma)\n\u001b[1;32m     50\u001b[0m G6 \u001b[38;5;241m=\u001b[39m \u001b[38;5;241m-\u001b[39m(dFdrhos\u001b[38;5;241m*\u001b[39mrhostar\u001b[38;5;241m*\u001b[39m\u001b[38;5;241m*\u001b[39m\u001b[38;5;241m10\u001b[39m\u001b[38;5;241m+\u001b[39m\u001b[38;5;241m10\u001b[39m\u001b[38;5;241m*\u001b[39mF\u001b[38;5;241m*\u001b[39mrhostar\u001b[38;5;241m*\u001b[39m\u001b[38;5;241m*\u001b[39m\u001b[38;5;241m9\u001b[39m\u001b[38;5;241m-\u001b[39m\u001b[38;5;241m10\u001b[39m\u001b[38;5;241m*\u001b[39mG5)\u001b[38;5;241m/\u001b[39m(\u001b[38;5;241m2\u001b[39m\u001b[38;5;241m*\u001b[39mgamma)\n\u001b[0;32m---> 51\u001b[0m \u001b[38;5;28;01mreturn\u001b[39;00m \u001b[43mnp\u001b[49m\u001b[38;5;241;43m.\u001b[39;49m\u001b[43marray\u001b[49m\u001b[43m(\u001b[49m\u001b[43m[\u001b[49m\u001b[43mG1\u001b[49m\u001b[43m,\u001b[49m\u001b[43mG2\u001b[49m\u001b[43m,\u001b[49m\u001b[43mG3\u001b[49m\u001b[43m,\u001b[49m\u001b[43mG4\u001b[49m\u001b[43m,\u001b[49m\u001b[43mG5\u001b[49m\u001b[43m,\u001b[49m\u001b[43mG6\u001b[49m\u001b[43m]\u001b[49m\u001b[43m)\u001b[49m\n",
      "\u001b[0;31mKeyboardInterrupt\u001b[0m: "
     ]
    }
   ],
   "source": [
    "DFT.Calculate_Equilibrium(alpha0=0.15,dt=0.1,atol=1e-5,method='fire',logoutput=True)"
   ]
  },
  {
   "cell_type": "code",
   "execution_count": null,
   "id": "2a7a8b81",
   "metadata": {},
   "outputs": [],
   "source": [
    "plt.imshow(DFT.rho[:,:,10], cmap='viridis')\n",
    "plt.colorbar(label='rho')\n",
    "plt.show()"
   ]
  },
  {
   "cell_type": "code",
   "execution_count": null,
   "id": "b3fa3b4f",
   "metadata": {},
   "outputs": [],
   "source": [
    "%%time\n",
    "rhobarray = np.arange(1.0e-5,0.01,0.0001)\n",
    "Nadsarray = np.zeros_like(rhobarray)\n",
    "\n",
    "DFT.Set_BulkDensity(rhobarray[0])\n",
    "DFT.Set_InitialCondition()\n",
    "\n",
    "for i in range(rhobarray.size):\n",
    "    rhob = rhobarray[i]\n",
    "\n",
    "    DFT.Set_BulkDensity(rhob)\n",
    "#     DFT.Set_InitialCondition()\n",
    "#     DFT.Update_System()\n",
    "\n",
    "    DFT.Calculate_Equilibrium(alpha0=0.25,atol=1e-3,max_iter=20,method='picard',logoutput=False)\n",
    "    DFT.Calculate_Equilibrium(alpha0=0.5,dt=1.0,atol=1e-5,method='fire',logoutput=False)\n",
    "\n",
    "    Nadsarray[i] = DFT.Nadstot\n",
    "    print(rhob,Nadsarray[i])"
   ]
  },
  {
   "cell_type": "code",
   "execution_count": null,
   "id": "c922a937",
   "metadata": {},
   "outputs": [],
   "source": [
    "plt.plot(rhobarray,Nadsarray)"
   ]
  },
  {
   "cell_type": "code",
   "execution_count": null,
   "id": "eccbebbc",
   "metadata": {},
   "outputs": [],
   "source": []
  }
 ],
 "metadata": {
  "kernelspec": {
   "display_name": "Python 3 (ipykernel)",
   "language": "python",
   "name": "python3"
  },
  "language_info": {
   "codemirror_mode": {
    "name": "ipython",
    "version": 3
   },
   "file_extension": ".py",
   "mimetype": "text/x-python",
   "name": "python",
   "nbconvert_exporter": "python",
   "pygments_lexer": "ipython3",
   "version": "3.10.6"
  }
 },
 "nbformat": 4,
 "nbformat_minor": 5
}
