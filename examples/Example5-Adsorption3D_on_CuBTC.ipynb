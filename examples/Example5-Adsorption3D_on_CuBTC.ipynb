{
 "cells": [
  {
   "cell_type": "code",
   "execution_count": 1,
   "id": "65da0a6d",
   "metadata": {},
   "outputs": [],
   "source": [
    "import numpy as np\n",
    "from numba import vectorize\n",
    "import pandas as pd\n",
    "import matplotlib.pyplot as plt\n",
    "plt.style.use(['science','notebook'])\n",
    "\n",
    "import sys\n",
    "sys.path.insert(0, '../src/pydftlj/')\n",
    "from dft3d import Gradient\n",
    "from dft3d import dft3d as dft\n",
    "from eos import LJEOS \n",
    "\n",
    "from pymatgen.core import Structure\n",
    "from pymatgen.analysis import structure_matcher\n",
    "\n",
    "# Author: Elvis do A. Soares\n",
    "# Github: @elvissoares\n",
    "# Date: 2023-03-01"
   ]
  },
  {
   "cell_type": "markdown",
   "id": "6e1adc4b",
   "metadata": {},
   "source": [
    "## Solid CIF file Information"
   ]
  },
  {
   "cell_type": "code",
   "execution_count": 2,
   "id": "f01916f3",
   "metadata": {},
   "outputs": [
    {
     "name": "stdout",
     "output_type": "stream",
     "text": [
      "formula:   Cu48 H96 C288 O192\n",
      "num_sites: 624\n"
     ]
    }
   ],
   "source": [
    "structure_name = 'Cu-BTC'\n",
    "structure = Structure.from_file('../structures/'+structure_name+'.cif')\n",
    "print('formula:  ', structure.formula)\n",
    "print('num_sites:', structure.num_sites)"
   ]
  },
  {
   "cell_type": "code",
   "execution_count": 3,
   "id": "c21e32a4",
   "metadata": {},
   "outputs": [
    {
     "data": {
      "text/plain": [
       "array([26.343, 26.343, 26.343])"
      ]
     },
     "execution_count": 3,
     "metadata": {},
     "output_type": "execute_result"
    }
   ],
   "source": [
    "coordinates = structure.cart_coords.T\n",
    "L = np.array([l for l in structure.lattice.lengths])\n",
    "L"
   ]
  },
  {
   "cell_type": "code",
   "execution_count": 4,
   "id": "b8cb42ee",
   "metadata": {},
   "outputs": [
    {
     "data": {
      "text/html": [
       "<div>\n",
       "<style scoped>\n",
       "    .dataframe tbody tr th:only-of-type {\n",
       "        vertical-align: middle;\n",
       "    }\n",
       "\n",
       "    .dataframe tbody tr th {\n",
       "        vertical-align: top;\n",
       "    }\n",
       "\n",
       "    .dataframe thead th {\n",
       "        text-align: right;\n",
       "    }\n",
       "</style>\n",
       "<table border=\"1\" class=\"dataframe\">\n",
       "  <thead>\n",
       "    <tr style=\"text-align: right;\">\n",
       "      <th></th>\n",
       "      <th>atom</th>\n",
       "      <th>sigma/AA</th>\n",
       "      <th>epsilon/kB</th>\n",
       "      <th>mass/u</th>\n",
       "    </tr>\n",
       "  </thead>\n",
       "  <tbody>\n",
       "    <tr>\n",
       "      <th>0</th>\n",
       "      <td>H</td>\n",
       "      <td>2.84642</td>\n",
       "      <td>7.64893</td>\n",
       "      <td>1.00784</td>\n",
       "    </tr>\n",
       "    <tr>\n",
       "      <th>1</th>\n",
       "      <td>C</td>\n",
       "      <td>3.47299</td>\n",
       "      <td>47.85620</td>\n",
       "      <td>12.01070</td>\n",
       "    </tr>\n",
       "    <tr>\n",
       "      <th>2</th>\n",
       "      <td>N</td>\n",
       "      <td>3.26256</td>\n",
       "      <td>38.94920</td>\n",
       "      <td>14.00670</td>\n",
       "    </tr>\n",
       "    <tr>\n",
       "      <th>3</th>\n",
       "      <td>O</td>\n",
       "      <td>3.03315</td>\n",
       "      <td>48.15810</td>\n",
       "      <td>15.99900</td>\n",
       "    </tr>\n",
       "    <tr>\n",
       "      <th>4</th>\n",
       "      <td>Cu</td>\n",
       "      <td>3.11000</td>\n",
       "      <td>2.51800</td>\n",
       "      <td>63.54600</td>\n",
       "    </tr>\n",
       "    <tr>\n",
       "      <th>5</th>\n",
       "      <td>Zn</td>\n",
       "      <td>4.04468</td>\n",
       "      <td>27.67710</td>\n",
       "      <td>65.38000</td>\n",
       "    </tr>\n",
       "  </tbody>\n",
       "</table>\n",
       "</div>"
      ],
      "text/plain": [
       "  atom  sigma/AA  epsilon/kB    mass/u\n",
       "0    H   2.84642     7.64893   1.00784\n",
       "1    C   3.47299    47.85620  12.01070\n",
       "2    N   3.26256    38.94920  14.00670\n",
       "3    O   3.03315    48.15810  15.99900\n",
       "4   Cu   3.11000     2.51800  63.54600\n",
       "5   Zn   4.04468    27.67710  65.38000"
      ]
     },
     "execution_count": 4,
     "metadata": {},
     "output_type": "execute_result"
    }
   ],
   "source": [
    "forcefield_name = 'DREIDING'\n",
    "forcefield = pd.read_csv('../parameters/'+forcefield_name+'-forcefield.dat',delim_whitespace=True)\n",
    "forcefield"
   ]
  },
  {
   "cell_type": "markdown",
   "id": "b487c80b",
   "metadata": {},
   "source": [
    "## Fluid Information"
   ]
  },
  {
   "cell_type": "code",
   "execution_count": 5,
   "id": "8f3b3fc9",
   "metadata": {},
   "outputs": [],
   "source": [
    "# Gross, J., & Sadowski, G. (2001). Industrial & Engineering Chemistry Research, 40(4), 1244–1260.\n",
    "epsilonff = 150.03 # kelvin\n",
    "sigmaff = 3.704 # angstrom\n",
    "mff = 16.043"
   ]
  },
  {
   "cell_type": "markdown",
   "id": "0d547eee",
   "metadata": {},
   "source": [
    "# Create the DFT object"
   ]
  },
  {
   "cell_type": "code",
   "execution_count": 6,
   "id": "e559cba5",
   "metadata": {},
   "outputs": [],
   "source": [
    "Ngrid = 64"
   ]
  },
  {
   "cell_type": "code",
   "execution_count": 7,
   "id": "43e183f7",
   "metadata": {},
   "outputs": [],
   "source": [
    "DFT = dft(gridsize=np.array([Ngrid,Ngrid,Ngrid]),fmtmethod='WBI',ljmethod='MMFA')"
   ]
  },
  {
   "cell_type": "code",
   "execution_count": 8,
   "id": "23d08f54",
   "metadata": {},
   "outputs": [],
   "source": [
    "DFT.Set_Geometry(L)"
   ]
  },
  {
   "cell_type": "code",
   "execution_count": 9,
   "id": "b0e1fc5f",
   "metadata": {},
   "outputs": [
    {
     "name": "stdout",
     "output_type": "stream",
     "text": [
      "============== The DFT 3D for LJ fluids ==============\n",
      "Methods:\n",
      "FMT : WBI\n",
      "Attractive : MMFA\n",
      "The grid is [64 64 64]\n",
      "--- Geometry properties ---\n",
      "Lx = 26.343  A\n",
      "Ly = 26.343  A\n",
      "Lz = 26.343  A\n",
      "Vol = 18280.820975607003  A³\n"
     ]
    }
   ],
   "source": [
    "DFT.GetSystemInformation()"
   ]
  },
  {
   "cell_type": "code",
   "execution_count": 10,
   "id": "9a7bc470",
   "metadata": {},
   "outputs": [],
   "source": [
    "DFT.Set_FluidProperties(sigma=sigmaff,epsilon=epsilonff)"
   ]
  },
  {
   "cell_type": "code",
   "execution_count": 11,
   "id": "da202a05",
   "metadata": {},
   "outputs": [
    {
     "name": "stdout",
     "output_type": "stream",
     "text": [
      "--- Fluid properties ---\n",
      "epsilon/kB = 150.03  K\n",
      "sigma = 3.704  A\n"
     ]
    }
   ],
   "source": [
    "DFT.GetFluidInformation()"
   ]
  },
  {
   "cell_type": "code",
   "execution_count": 12,
   "id": "00689b79",
   "metadata": {},
   "outputs": [],
   "source": [
    "kT = 300.0 # kelvin \n",
    "\n",
    "DFT.Set_Temperature(kT)"
   ]
  },
  {
   "cell_type": "code",
   "execution_count": 13,
   "id": "265a16fc",
   "metadata": {},
   "outputs": [
    {
     "name": "stdout",
     "output_type": "stream",
     "text": [
      "Temperature = 300.0  K\n",
      "Baker-Henderson diameter = 3.544  A\n"
     ]
    }
   ],
   "source": [
    "DFT.GetFluidTemperatureInformation()"
   ]
  },
  {
   "cell_type": "markdown",
   "id": "028fefb2",
   "metadata": {},
   "source": [
    "## Generating the External Potential"
   ]
  },
  {
   "cell_type": "code",
   "execution_count": 14,
   "id": "9867af79",
   "metadata": {},
   "outputs": [],
   "source": [
    "sigmasf = np.zeros(structure.num_sites)\n",
    "epsilonsf = np.zeros(structure.num_sites)\n",
    "mss = 0.0\n",
    "\n",
    "# Lorentz-Berthelot combination rule\n",
    "for i, site in enumerate(structure):\n",
    "    sigmasf[i] = 0.5*(sigmaff+forcefield[\"sigma/AA\"][forcefield[\"atom\"]==site.species_string])\n",
    "    epsilonsf[i] = np.sqrt(epsilonff*forcefield[\"epsilon/kB\"][forcefield[\"atom\"]==site.species_string])\n",
    "    mss = mss + float(forcefield[\"mass/u\"][forcefield[\"atom\"]==site.species_string])"
   ]
  },
  {
   "cell_type": "code",
   "execution_count": 15,
   "id": "6d1793e0",
   "metadata": {},
   "outputs": [],
   "source": [
    "@vectorize\n",
    "def ljpotential(r,eps,sigma):\n",
    "    return 4*eps*((sigma/r)**(12)-(sigma/r)**(6))"
   ]
  },
  {
   "cell_type": "code",
   "execution_count": 16,
   "id": "8a4292ac",
   "metadata": {
    "scrolled": true
   },
   "outputs": [
    {
     "name": "stdout",
     "output_type": "stream",
     "text": [
      "CPU times: user 4.45 s, sys: 5.78 ms, total: 4.45 s\n",
      "Wall time: 4.47 s\n"
     ]
    }
   ],
   "source": [
    "%%time\n",
    "\n",
    "Vext = np.zeros_like(DFT.rho)\n",
    "\n",
    "X,Y,Z = np.meshgrid(DFT.x,DFT.y,DFT.z,indexing ='ij')\n",
    "for i, site in enumerate(structure):\n",
    "    R = np.sqrt((X-structure.cart_coords[i,0])**2 + (Y-structure.cart_coords[i,1])**2 + (Z-structure.cart_coords[i,2])**2)\n",
    "    Vext[:] += ljpotential(R,epsilonsf[i],sigmasf[i])\n",
    "\n",
    "del X,Y,Z,R\n",
    "\n",
    "# np.save('externalpotential-CH4-MOF5-DREIDING-T='+str(kT)+'K-'+str(dft.gridsize)+'.npy',Vext)\n",
    "# Vext[:] = np.load('externalpotential-CH4-MOF5-DREIDING-T='+str(kT)+'K-'+str(dft.gridsize)+'.npy')\n",
    "\n",
    "DFT.Set_External_Potential(Vext)"
   ]
  },
  {
   "cell_type": "code",
   "execution_count": 17,
   "id": "378dc636",
   "metadata": {},
   "outputs": [
    {
     "data": {
      "image/png": "[encoded data removed]",
      "text/plain": [
       "<Figure size 800x600 with 2 Axes>"
      ]
     },
     "metadata": {},
     "output_type": "display_data"
    }
   ],
   "source": [
    "plt.imshow(DFT.Vext[:,:,7], cmap='viridis',vmin=-1e2,vmax=1e3)\n",
    "plt.colorbar(label='Vext')\n",
    "plt.show()"
   ]
  },
  {
   "cell_type": "code",
   "execution_count": 18,
   "id": "7ed3b696",
   "metadata": {},
   "outputs": [],
   "source": [
    "# DFT.Set_BulkDensity(1e-6)\n",
    "# DFT.Set_InitialCondition()\n",
    "# DFT.Update_System()"
   ]
  },
  {
   "cell_type": "code",
   "execution_count": 19,
   "id": "d918b4b0",
   "metadata": {},
   "outputs": [],
   "source": [
    "# DFT.GetFluidDensityInformation()"
   ]
  },
  {
   "cell_type": "code",
   "execution_count": 20,
   "id": "60e14826",
   "metadata": {},
   "outputs": [],
   "source": [
    "# from scipy.optimize import minimize, root\n",
    "\n",
    "# sol = root(Gradient, np.log(DFT.rho), args=(DFT) , method='anderson', tol= 1e-6)\n",
    "\n",
    "# DFT.rho[:] = np.exp(sol.x)\n",
    "# DFT.Update_System()"
   ]
  },
  {
   "cell_type": "code",
   "execution_count": 21,
   "id": "e1f5c7d8",
   "metadata": {},
   "outputs": [],
   "source": [
    "# DFT.Calculate_Equilibrium(alpha0=0.15,dt=0.1,atol=1e-5,method='fire',logoutput=True)"
   ]
  },
  {
   "cell_type": "code",
   "execution_count": 22,
   "id": "2a7a8b81",
   "metadata": {},
   "outputs": [],
   "source": [
    "# plt.imshow(DFT.rho[:,:,6], cmap='viridis')\n",
    "# plt.colorbar(label='rho')\n",
    "# plt.show()"
   ]
  },
  {
   "cell_type": "code",
   "execution_count": 23,
   "id": "0c304aff",
   "metadata": {},
   "outputs": [
    {
     "data": {
      "text/plain": [
       "-2.6989700043360187"
      ]
     },
     "execution_count": 23,
     "metadata": {},
     "output_type": "execute_result"
    }
   ],
   "source": [
    "np.log10(0.002)"
   ]
  },
  {
   "cell_type": "code",
   "execution_count": 24,
   "id": "d14730a4",
   "metadata": {},
   "outputs": [],
   "source": [
    "rhobarray = np.power(10,np.arange(-6.5,-2.6,0.1))"
   ]
  },
  {
   "cell_type": "code",
   "execution_count": 25,
   "id": "56f4514c",
   "metadata": {},
   "outputs": [],
   "source": [
    "ljeos= LJEOS(sigma=sigmaff,epsilon=epsilonff,model='MBWR')"
   ]
  },
  {
   "cell_type": "code",
   "execution_count": 26,
   "id": "5c6e7e5c",
   "metadata": {},
   "outputs": [],
   "source": [
    "kB = 1.380649e-23\n",
    "parray = 1e-5*kB*ljeos.p(rhobarray,kT)/(1e-30)"
   ]
  },
  {
   "cell_type": "code",
   "execution_count": 27,
   "id": "03267fdd",
   "metadata": {},
   "outputs": [
    {
     "data": {
      "text/plain": [
       "39"
      ]
     },
     "execution_count": 27,
     "metadata": {},
     "output_type": "execute_result"
    }
   ],
   "source": [
    "parray.size"
   ]
  },
  {
   "cell_type": "code",
   "execution_count": 28,
   "id": "e6b11c1b",
   "metadata": {},
   "outputs": [
    {
     "data": {
      "text/plain": [
       "array([1.30977095e-02, 1.64889491e-02, 2.07582140e-02, 2.61328164e-02,\n",
       "       3.28989073e-02, 4.14167010e-02, 5.21396349e-02, 6.56384811e-02,\n",
       "       8.26316852e-02, 1.04023536e-01, 1.30952181e-01, 1.64850009e-01,\n",
       "       2.07519573e-01, 2.61229017e-01, 3.28831968e-01, 4.13918078e-01,\n",
       "       5.21001943e-01, 6.55759969e-01, 8.25327041e-01, 1.03866761e+00,\n",
       "       1.30703906e+00, 1.64456912e+00, 2.06897337e+00, 2.60244392e+00,\n",
       "       3.27274526e+00, 4.11455818e+00, 5.17111651e+00, 6.49618261e+00,\n",
       "       8.15640447e+00, 1.02340865e+01, 1.28303836e+01, 1.60688891e+01,\n",
       "       2.00995282e+01, 2.51025888e+01, 3.12926445e+01, 3.89221207e+01,\n",
       "       4.82845602e+01, 5.97189341e+01, 7.36204667e+01])"
      ]
     },
     "execution_count": 28,
     "metadata": {},
     "output_type": "execute_result"
    }
   ],
   "source": [
    "parray"
   ]
  },
  {
   "cell_type": "code",
   "execution_count": null,
   "id": "b3fa3b4f",
   "metadata": {},
   "outputs": [
    {
     "name": "stdout",
     "output_type": "stream",
     "text": [
      "3.162277660168379e-07 0.013097709546689717 0.004040826156501225\n",
      "3.981071705534969e-07 0.0164889491213076 0.007505797365087309\n",
      "5.011872336272714e-07 0.020758214007826556 0.014393937761399354\n"
     ]
    },
    {
     "name": "stderr",
     "output_type": "stream",
     "text": [
      "/home/elvis/Google Drive/Projetos em Andamento/3-DFT 3D for H2 storage in MOF/codes/PyDFTlj/examples/../src/pydftlj/dft3d.py:226: RuntimeWarning: invalid value encountered in dphi3dnfuncWBI\n",
      "  self.dphi3dn3 = dphi3dnfuncWBI(self.n3)\n"
     ]
    },
    {
     "name": "stdout",
     "output_type": "stream",
     "text": [
      "6.309573444801917e-07 0.026132816397273925 0.20368668105626592\n",
      "7.943282347242789e-07 0.032898907328027895 0.2620329636942147\n",
      "9.99999999999996e-07 0.04141670100107375 0.3600912336931353\n",
      "1.258925411794161e-06 0.05213963488522692 0.47140542552969267\n",
      "1.5848931924611043e-06 0.06563848108120186 0.6042291020689401\n",
      "1.9952623149688664e-06 0.08263168523716405 0.7662275409797026\n",
      "2.5118864315095615e-06 0.1040235364365678 0.974078409691639\n",
      "3.1622776601683534e-06 0.13095218136326336 1.2411747397121202\n",
      "3.981071705534937e-06 0.16485000898423896 1.5607726735810028\n",
      "5.011872336272673e-06 0.20751957287031195 1.975617519145718\n",
      "6.309573444801865e-06 0.2612290174030991 2.495145545260488\n",
      "7.943282347242723e-06 0.328831968012543 3.1536540403254945\n",
      "9.999999999999877e-06 0.41391807766742017 3.946273850567252\n",
      "1.2589254117941507e-05 0.5210019427404334 4.940366297846761\n",
      "1.5848931924610914e-05 0.6557599685601505 5.867631220179322\n",
      "1.99526231496885e-05 0.8253270410111336 6.848097901612496\n",
      "2.5118864315095412e-05 1.038667609044834 7.953513221203457\n"
     ]
    }
   ],
   "source": [
    "%%time\n",
    "\n",
    "Nadsarray = np.zeros_like(rhobarray)\n",
    "\n",
    "DFT.Set_BulkDensity(rhobarray[0])\n",
    "DFT.Set_InitialCondition()\n",
    "\n",
    "for i in range(rhobarray.size):\n",
    "    rhob = rhobarray[i]\n",
    "\n",
    "    DFT.Set_BulkDensity(rhob)\n",
    "\n",
    "    DFT.Calculate_Equilibrium(alpha0=0.25,rtol=1e-2,atol=1e-4,max_iter=20,method='picard',logoutput=False)\n",
    "    DFT.Calculate_Equilibrium(alpha0=0.3,dt=1.0,rtol=1e-4,atol=1e-6,method='fire',logoutput=False)\n",
    "\n",
    "    Nadsarray[i] = DFT.Nadstot\n",
    "    print(rhob,parray[i],Nadsarray[i])"
   ]
  },
  {
   "cell_type": "code",
   "execution_count": null,
   "id": "cfe504a0",
   "metadata": {},
   "outputs": [],
   "source": [
    "Marray = mff*Nadsarray"
   ]
  },
  {
   "cell_type": "code",
   "execution_count": null,
   "id": "32f164ae",
   "metadata": {},
   "outputs": [],
   "source": [
    "import pandas as pd\n",
    "# df = pd.read_excel('data/experimental/H2andCH4-MOFandZIF-isotherm-Zhou2007.xls',sheet_name='CH4-MOF5')\n",
    "# gcmc_data = pd.read_pickle('gcmc_isotherm.pickle')"
   ]
  },
  {
   "cell_type": "code",
   "execution_count": null,
   "id": "5e5e17bf",
   "metadata": {},
   "outputs": [],
   "source": [
    "# [p300,M300] = np.load('mof5-methane-DREIDING-kT-300.0-N-64.npy')\n",
    "# [p300UFF,M300UFF] = np.load('mof5-methane-UFF-kT-300.0-N-64.npy')\n",
    "# [p270UFF,M270UFF] = np.load('mof5-methane-UFF-kT-270.0-N-64.npy')"
   ]
  },
  {
   "cell_type": "code",
   "execution_count": null,
   "id": "0b86c1c4",
   "metadata": {},
   "outputs": [],
   "source": [
    "# plt.scatter(df['P(bar)-300K'],df['Na(%wt)-300K'],marker='o',edgecolors='C3',facecolors='none',label='Exp. Data')\n",
    "# plt.scatter(df['P(bar)-300K'],df['Na(%wt)-270K'],marker='s',edgecolors='C3',facecolors='none')\n",
    "# plt.scatter(df['P(bar)-300K'],df['Na(%wt)-240K'],marker='^',edgecolors='C3',facecolors='none')\n",
    "\n",
    "# plt.scatter(gcmc_data['Pressure [bar]'],1e-3*100*gcmc_data['Absolute adsorption [mg/g]'],marker='o',color='C3',label='GCMC')\n",
    "\n",
    "plt.plot(parray,100*Marray/mss,'--',color='k')\n",
    "# plt.plot(p270UFF,M270UFF/(1-0.01*M270UFF),'--',color='k',label='DFT-UFF')\n",
    "# plt.plot(p300,M300/(1-0.01*M300),'-',color='k',label='DFT-DREIDING')\n",
    "# plt.plot(p300UFF,M300UFF/(1-0.01*M300UFF),'--',color='k')\n",
    "plt.legend(loc='best')\n",
    "plt.xlabel('P (bar)')\n",
    "plt.ylabel('$N_a$ (% w.t.)')\n",
    "plt.xlim(0,60)"
   ]
  },
  {
   "cell_type": "code",
   "execution_count": null,
   "id": "81071ca7",
   "metadata": {},
   "outputs": [],
   "source": [
    "np.save(structure_name+'-methane-'+forcefield_name+'-kT-'+str(kT)+'-N-'+str(Ngrid)+'.npy',[parray,100*Marray/(Mcr+Marray)])"
   ]
  },
  {
   "cell_type": "code",
   "execution_count": null,
   "id": "f2ab0832",
   "metadata": {},
   "outputs": [],
   "source": []
  }
 ],
 "metadata": {
  "kernelspec": {
   "display_name": "Python 3 (ipykernel)",
   "language": "python",
   "name": "python3"
  },
  "language_info": {
   "codemirror_mode": {
    "name": "ipython",
    "version": 3
   },
   "file_extension": ".py",
   "mimetype": "text/x-python",
   "name": "python",
   "nbconvert_exporter": "python",
   "pygments_lexer": "ipython3",
   "version": "3.10.6"
  }
 },
 "nbformat": 4,
 "nbformat_minor": 5
}
